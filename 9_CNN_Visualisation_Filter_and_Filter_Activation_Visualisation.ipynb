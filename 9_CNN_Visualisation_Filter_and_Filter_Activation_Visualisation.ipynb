{
  "nbformat": 4,
  "nbformat_minor": 0,
  "metadata": {
    "colab": {
      "provenance": [],
      "authorship_tag": "ABX9TyMswktHJjDn3uZknZ9k+KNF",
      "include_colab_link": true
    },
    "kernelspec": {
      "name": "python3",
      "display_name": "Python 3"
    },
    "language_info": {
      "name": "python"
    }
  },
  "cells": [
    {
      "cell_type": "markdown",
      "metadata": {
        "id": "view-in-github",
        "colab_type": "text"
      },
      "source": [
        "<a href=\"https://colab.research.google.com/github/alexmacharia/deep_learning_projects/blob/main/9_CNN_Visualisation_Filter_and_Filter_Activation_Visualisation.ipynb\" target=\"_parent\"><img src=\"https://colab.research.google.com/assets/colab-badge.svg\" alt=\"Open In Colab\"/></a>"
      ]
    },
    {
      "cell_type": "code",
      "execution_count": 1,
      "metadata": {
        "id": "7tNvhF3uLZLZ",
        "colab": {
          "base_uri": "https://localhost:8080/"
        },
        "outputId": "537174fe-f2c2-4574-ce9e-bc2ce4995fab"
      },
      "outputs": [
        {
          "output_type": "stream",
          "name": "stdout",
          "text": [
            "Downloading data from https://storage.googleapis.com/tensorflow/tf-keras-datasets/mnist.npz\n",
            "11490434/11490434 [==============================] - 0s 0us/step\n",
            "[name: \"/device:CPU:0\"\n",
            "device_type: \"CPU\"\n",
            "memory_limit: 268435456\n",
            "locality {\n",
            "}\n",
            "incarnation: 14530577059232444515\n",
            "xla_global_id: -1\n",
            "]\n",
            "Initial shape or dimensions of x_train (60000, 28, 28)\n",
            "Number of samples in training data: 60000\n"
          ]
        }
      ],
      "source": [
        "from tensorflow.keras.datasets import mnist\n",
        "\n",
        "(x_train, y_train), (x_test, y_test) = mnist.load_data()\n",
        "\n",
        "from tensorflow.python.client import device_lib\n",
        "\n",
        "print(device_lib.list_local_devices())\n",
        "\n",
        "print(\"Initial shape or dimensions of x_train\", str(x_train.shape))\n",
        "\n",
        "print(\"Number of samples in training data: \" + str(len(x_train)))"
      ]
    },
    {
      "cell_type": "code",
      "source": [
        "# Store number of rows and columns\n",
        "img_rows = x_train[0].shape[0]\n",
        "img_cols = x_train[0].shape[1]\n",
        "\n",
        "# Reshape data for Keras\n",
        "x_train = x_train.reshape(x_train.shape[0], img_rows, img_cols, 1)\n",
        "x_test = x_test.reshape(x_test.shape[0], img_rows, img_cols, 1)\n",
        "\n",
        "# Store shape of single image\n",
        "input_shape = (img_rows, img_cols, 1)\n",
        "\n",
        "# change image type to float\n",
        "x_train = x_train.astype('float32')\n",
        "x_test = x_test.astype('float32')\n",
        "\n",
        "# Normalize the data\n",
        "x_train /= 255.0\n",
        "x_test /= 255.0\n",
        "\n",
        "print('x_train.shape', x_train.shape)\n",
        "print(x_train.shape[0], 'training samples')\n",
        "print(x_test.shape[0], 'test samples')\n"
      ],
      "metadata": {
        "colab": {
          "base_uri": "https://localhost:8080/"
        },
        "id": "nabIfBqGvftm",
        "outputId": "19902ffc-a452-47ca-db59-c3bdfc0a0c6b"
      },
      "execution_count": 2,
      "outputs": [
        {
          "output_type": "stream",
          "name": "stdout",
          "text": [
            "x_train.shape (60000, 28, 28, 1)\n",
            "60000 training samples\n",
            "10000 test samples\n"
          ]
        }
      ]
    },
    {
      "cell_type": "code",
      "source": [
        "from tensorflow.keras.utils import to_categorical\n",
        "\n",
        "y_train = to_categorical(y_train)\n",
        "y_test = to_categorical(y_test)\n",
        "\n",
        "print(\"Number of Classes: \", str(y_test.shape[1]))\n",
        "\n",
        "num_classes = y_test.shape[1]\n",
        "num_pixels = x_train.shape[1] * x_train.shape[2]"
      ],
      "metadata": {
        "colab": {
          "base_uri": "https://localhost:8080/"
        },
        "id": "pun4AkomzT4G",
        "outputId": "5deca3b6-3ad2-49b0-debf-6c65474f847b"
      },
      "execution_count": 3,
      "outputs": [
        {
          "output_type": "stream",
          "name": "stdout",
          "text": [
            "Number of Classes:  10\n"
          ]
        }
      ]
    },
    {
      "cell_type": "code",
      "source": [
        "from tensorflow.keras.models import Sequential\n",
        "from tensorflow.keras.layers import Dense, Dropout, Flatten\n",
        "from tensorflow.keras.layers import Conv2D, MaxPooling2D\n",
        "from tensorflow.keras import backend as K\n",
        "from tensorflow.keras.optimizers import SGD\n",
        "\n",
        "model = Sequential()\n",
        "model.add(Conv2D(32, kernel_size=(3,3), activation='relu', input_shape=input_shape))\n",
        "model.add(Conv2D(64, (3,3), activation='relu'))\n",
        "model.add(MaxPooling2D(pool_size=(2,2)))\n",
        "model.add(Flatten())\n",
        "model.add(Dense(128, activation='relu'))\n",
        "model.add(Dense(num_classes, activation='softmax'))\n",
        "\n",
        "model.compile(loss='categorical_crossentropy',\n",
        "              optimizer=SGD(0.001),\n",
        "              metrics=['accuracy'])\n",
        "\n",
        "print(model.summary())"
      ],
      "metadata": {
        "colab": {
          "base_uri": "https://localhost:8080/"
        },
        "id": "Bt76S4bR1NIg",
        "outputId": "b2948654-5d83-41ac-d509-f38c3b76e74e"
      },
      "execution_count": 4,
      "outputs": [
        {
          "output_type": "stream",
          "name": "stdout",
          "text": [
            "Model: \"sequential\"\n",
            "_________________________________________________________________\n",
            " Layer (type)                Output Shape              Param #   \n",
            "=================================================================\n",
            " conv2d (Conv2D)             (None, 26, 26, 32)        320       \n",
            "                                                                 \n",
            " conv2d_1 (Conv2D)           (None, 24, 24, 64)        18496     \n",
            "                                                                 \n",
            " max_pooling2d (MaxPooling2  (None, 12, 12, 64)        0         \n",
            " D)                                                              \n",
            "                                                                 \n",
            " flatten (Flatten)           (None, 9216)              0         \n",
            "                                                                 \n",
            " dense (Dense)               (None, 128)               1179776   \n",
            "                                                                 \n",
            " dense_1 (Dense)             (None, 10)                1290      \n",
            "                                                                 \n",
            "=================================================================\n",
            "Total params: 1199882 (4.58 MB)\n",
            "Trainable params: 1199882 (4.58 MB)\n",
            "Non-trainable params: 0 (0.00 Byte)\n",
            "_________________________________________________________________\n",
            "None\n"
          ]
        }
      ]
    },
    {
      "cell_type": "code",
      "source": [
        "batch_size = 128\n",
        "epochs = 10\n",
        "\n",
        "history = model.fit(x_train,\n",
        "                    y_train,\n",
        "                    batch_size = batch_size,\n",
        "                    epochs = epochs,\n",
        "                    verbose = 1,\n",
        "                    validation_data = (x_test, y_test))\n",
        "\n",
        "score = model.evaluate(x_test, y_test, verbose=0)\n",
        "print('Test loss:', score[0])\n",
        "print('Test accuracy:', score[1])"
      ],
      "metadata": {
        "colab": {
          "base_uri": "https://localhost:8080/"
        },
        "id": "Yw6T9LVT3UCJ",
        "outputId": "f226cfad-82e1-4d8b-ef35-5ed7a2e8120d"
      },
      "execution_count": 5,
      "outputs": [
        {
          "output_type": "stream",
          "name": "stdout",
          "text": [
            "Epoch 1/10\n",
            "469/469 [==============================] - 101s 214ms/step - loss: 2.2412 - accuracy: 0.3383 - val_loss: 2.1410 - val_accuracy: 0.5917\n",
            "Epoch 2/10\n",
            "469/469 [==============================] - 93s 199ms/step - loss: 1.8361 - accuracy: 0.6712 - val_loss: 1.2878 - val_accuracy: 0.7781\n",
            "Epoch 3/10\n",
            "469/469 [==============================] - 92s 196ms/step - loss: 0.8430 - accuracy: 0.8145 - val_loss: 0.5503 - val_accuracy: 0.8628\n",
            "Epoch 4/10\n",
            "469/469 [==============================] - 92s 196ms/step - loss: 0.4952 - accuracy: 0.8655 - val_loss: 0.4119 - val_accuracy: 0.8883\n",
            "Epoch 5/10\n",
            "469/469 [==============================] - 90s 193ms/step - loss: 0.4081 - accuracy: 0.8843 - val_loss: 0.3595 - val_accuracy: 0.9002\n",
            "Epoch 6/10\n",
            "469/469 [==============================] - 92s 196ms/step - loss: 0.3675 - accuracy: 0.8939 - val_loss: 0.3308 - val_accuracy: 0.9061\n",
            "Epoch 7/10\n",
            "469/469 [==============================] - 91s 194ms/step - loss: 0.3423 - accuracy: 0.9005 - val_loss: 0.3121 - val_accuracy: 0.9108\n",
            "Epoch 8/10\n",
            "469/469 [==============================] - 92s 197ms/step - loss: 0.3239 - accuracy: 0.9058 - val_loss: 0.2968 - val_accuracy: 0.9162\n",
            "Epoch 9/10\n",
            "469/469 [==============================] - 91s 195ms/step - loss: 0.3088 - accuracy: 0.9102 - val_loss: 0.2847 - val_accuracy: 0.9195\n",
            "Epoch 10/10\n",
            "469/469 [==============================] - 92s 195ms/step - loss: 0.2960 - accuracy: 0.9137 - val_loss: 0.2721 - val_accuracy: 0.9217\n",
            "Test loss: 0.2721424400806427\n",
            "Test accuracy: 0.9217000007629395\n"
          ]
        }
      ]
    },
    {
      "cell_type": "code",
      "source": [
        "layer_dict = dict([(layer.name, layer) for layer in model.layers])\n",
        "layer_dict"
      ],
      "metadata": {
        "colab": {
          "base_uri": "https://localhost:8080/"
        },
        "id": "fWAYr7SN_nL8",
        "outputId": "0233d8e9-e9c8-4d0a-f28b-4b5cbdc31cdc"
      },
      "execution_count": 6,
      "outputs": [
        {
          "output_type": "execute_result",
          "data": {
            "text/plain": [
              "{'conv2d': <keras.src.layers.convolutional.conv2d.Conv2D at 0x7c78af229f00>,\n",
              " 'conv2d_1': <keras.src.layers.convolutional.conv2d.Conv2D at 0x7c782907da50>,\n",
              " 'max_pooling2d': <keras.src.layers.pooling.max_pooling2d.MaxPooling2D at 0x7c782907de40>,\n",
              " 'flatten': <keras.src.layers.reshaping.flatten.Flatten at 0x7c782907f100>,\n",
              " 'dense': <keras.src.layers.core.dense.Dense at 0x7c782907fc70>,\n",
              " 'dense_1': <keras.src.layers.core.dense.Dense at 0x7c782907fd30>}"
            ]
          },
          "metadata": {},
          "execution_count": 6
        }
      ]
    },
    {
      "cell_type": "code",
      "source": [
        "for layer in model.layers:\n",
        "\n",
        "  if 'conv' not in layer.name:\n",
        "    continue\n",
        "\n",
        "  filters, biases = layer.get_weights()\n",
        "  print(layer.name, filters.shape)"
      ],
      "metadata": {
        "colab": {
          "base_uri": "https://localhost:8080/"
        },
        "id": "f3j9SBDwkkhD",
        "outputId": "41f77e73-74c1-48fa-8d1f-07d3d875efea"
      },
      "execution_count": 7,
      "outputs": [
        {
          "output_type": "stream",
          "name": "stdout",
          "text": [
            "conv2d (3, 3, 1, 32)\n",
            "conv2d_1 (3, 3, 32, 64)\n"
          ]
        }
      ]
    },
    {
      "cell_type": "code",
      "source": [],
      "metadata": {
        "id": "GpBGBD_JlIM6"
      },
      "execution_count": null,
      "outputs": []
    }
  ]
}