{
  "nbformat": 4,
  "nbformat_minor": 0,
  "metadata": {
    "colab": {
      "provenance": [],
      "authorship_tag": "ABX9TyNt+5cJXO68ntLF1Tcj0ex4",
      "include_colab_link": true
    },
    "kernelspec": {
      "name": "python3",
      "display_name": "Python 3"
    },
    "language_info": {
      "name": "python"
    }
  },
  "cells": [
    {
      "cell_type": "markdown",
      "metadata": {
        "id": "view-in-github",
        "colab_type": "text"
      },
      "source": [
        "<a href=\"https://colab.research.google.com/github/alexmacharia/deep_learning_projects/blob/main/9_CNN_Visualisation_Filter_and_Filter_Activation_Visualisation.ipynb\" target=\"_parent\"><img src=\"https://colab.research.google.com/assets/colab-badge.svg\" alt=\"Open In Colab\"/></a>"
      ]
    },
    {
      "cell_type": "code",
      "execution_count": 3,
      "metadata": {
        "id": "7tNvhF3uLZLZ",
        "colab": {
          "base_uri": "https://localhost:8080/"
        },
        "outputId": "fee44af1-aadb-44c4-d827-2ecd90ba60d8"
      },
      "outputs": [
        {
          "output_type": "stream",
          "name": "stdout",
          "text": [
            "[name: \"/device:CPU:0\"\n",
            "device_type: \"CPU\"\n",
            "memory_limit: 268435456\n",
            "locality {\n",
            "}\n",
            "incarnation: 17745245531527227074\n",
            "xla_global_id: -1\n",
            "]\n",
            "Initial shape or dimensions of x_train (60000, 28, 28)\n",
            "Number of samples in training data: 60000\n"
          ]
        }
      ],
      "source": [
        "from tensorflow.keras.datasets import mnist\n",
        "\n",
        "(x_train, y_train), (x_test, y_test) = mnist.load_data()\n",
        "\n",
        "from tensorflow.python.client import device_lib\n",
        "\n",
        "print(device_lib.list_local_devices())\n",
        "\n",
        "print(\"Initial shape or dimensions of x_train\", str(x_train.shape))\n",
        "\n",
        "print(\"Number of samples in training data: \" + str(len(x_train)))"
      ]
    },
    {
      "cell_type": "code",
      "source": [
        "# Store number of rows and columns\n",
        "img_rows = x_train[0].shape[0]\n",
        "img_cols = x_train[0].shape[1]\n",
        "\n",
        "# Reshape data for Keras\n",
        "x_train = x_train.reshape(x_train.shape[0], img_rows, img_cols, 1)\n",
        "x_test = x_test.reshape(x_test.shape[0], img_rows, img_cols, 1)\n",
        "\n",
        "# Store shape of single image\n",
        "input_shape = (img_rows, img_cols, 1)\n",
        "\n",
        "# change image type to float\n",
        "x_train = x_train.astype('float32')\n",
        "x_test.astype('float32')\n",
        "\n",
        "# Normalize the data\n",
        "x_train /= 255.0\n",
        "x_test /= 255.0\n",
        "\n",
        "print('x_train.shape', x_train.shape)\n"
      ],
      "metadata": {
        "id": "nabIfBqGvftm"
      },
      "execution_count": null,
      "outputs": []
    }
  ]
}