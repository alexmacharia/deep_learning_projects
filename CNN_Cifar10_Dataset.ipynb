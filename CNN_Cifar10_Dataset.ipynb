{
  "nbformat": 4,
  "nbformat_minor": 0,
  "metadata": {
    "colab": {
      "provenance": [],
      "authorship_tag": "ABX9TyOxMxedqK5pOUE1qCjDGa5g",
      "include_colab_link": true
    },
    "kernelspec": {
      "name": "python3",
      "display_name": "Python 3"
    },
    "language_info": {
      "name": "python"
    }
  },
  "cells": [
    {
      "cell_type": "markdown",
      "metadata": {
        "id": "view-in-github",
        "colab_type": "text"
      },
      "source": [
        "<a href=\"https://colab.research.google.com/github/alexmacharia/deep_learning_projects/blob/main/CNN_Cifar10_Dataset.ipynb\" target=\"_parent\"><img src=\"https://colab.research.google.com/assets/colab-badge.svg\" alt=\"Open In Colab\"/></a>"
      ]
    },
    {
      "cell_type": "code",
      "execution_count": 6,
      "metadata": {
        "id": "5cEqyXbfgj_Q"
      },
      "outputs": [],
      "source": [
        "import numpy as np\n",
        "\n",
        "import keras\n",
        "from keras.datasets import cifar10\n",
        "from keras.models import Sequential\n",
        "from keras.layers import Dense, Dropout, Flatten, Conv2D, MaxPooling2D\n",
        "from pathlib import Path"
      ]
    },
    {
      "cell_type": "code",
      "source": [
        "# Load the data\n",
        "\n",
        "(x_train, y_train), (x_test, y_test) = cifar10.load_data()\n",
        "\n",
        "print(x_train.shape)\n",
        "print(x_test.shape)\n",
        "\n",
        "print(y_train.shape)\n",
        "print(y_test.shape)"
      ],
      "metadata": {
        "colab": {
          "base_uri": "https://localhost:8080/"
        },
        "id": "Nj8GO8PKg-BO",
        "outputId": "44872ca9-edcc-448b-a502-2af897d9f2ee"
      },
      "execution_count": 2,
      "outputs": [
        {
          "output_type": "stream",
          "name": "stdout",
          "text": [
            "Downloading data from https://www.cs.toronto.edu/~kriz/cifar-10-python.tar.gz\n",
            "170498071/170498071 [==============================] - 11s 0us/step\n",
            "(50000, 32, 32, 3)\n",
            "(10000, 32, 32, 3)\n",
            "(50000, 1)\n",
            "(10000, 1)\n"
          ]
        }
      ]
    },
    {
      "cell_type": "code",
      "source": [
        "#Normalize data between 0 and 1\n",
        "x_train = x_train.astype('float32')/255\n",
        "x_test = x_test.astype('float32')/255\n",
        "\n",
        "print(x_train[0])\n"
      ],
      "metadata": {
        "colab": {
          "base_uri": "https://localhost:8080/"
        },
        "id": "3_opNZ9ohcTs",
        "outputId": "ab81d838-b3a1-4793-8f0e-d96b23f051f6"
      },
      "execution_count": 3,
      "outputs": [
        {
          "output_type": "stream",
          "name": "stdout",
          "text": [
            "[[[0.23137255 0.24313726 0.24705882]\n",
            "  [0.16862746 0.18039216 0.1764706 ]\n",
            "  [0.19607843 0.1882353  0.16862746]\n",
            "  ...\n",
            "  [0.61960787 0.5176471  0.42352942]\n",
            "  [0.59607846 0.49019608 0.4       ]\n",
            "  [0.5803922  0.4862745  0.40392157]]\n",
            "\n",
            " [[0.0627451  0.07843138 0.07843138]\n",
            "  [0.         0.         0.        ]\n",
            "  [0.07058824 0.03137255 0.        ]\n",
            "  ...\n",
            "  [0.48235294 0.34509805 0.21568628]\n",
            "  [0.46666667 0.3254902  0.19607843]\n",
            "  [0.47843137 0.34117648 0.22352941]]\n",
            "\n",
            " [[0.09803922 0.09411765 0.08235294]\n",
            "  [0.0627451  0.02745098 0.        ]\n",
            "  [0.19215687 0.10588235 0.03137255]\n",
            "  ...\n",
            "  [0.4627451  0.32941177 0.19607843]\n",
            "  [0.47058824 0.32941177 0.19607843]\n",
            "  [0.42745098 0.28627452 0.16470589]]\n",
            "\n",
            " ...\n",
            "\n",
            " [[0.8156863  0.6666667  0.3764706 ]\n",
            "  [0.7882353  0.6        0.13333334]\n",
            "  [0.7764706  0.6313726  0.10196079]\n",
            "  ...\n",
            "  [0.627451   0.52156866 0.27450982]\n",
            "  [0.21960784 0.12156863 0.02745098]\n",
            "  [0.20784314 0.13333334 0.07843138]]\n",
            "\n",
            " [[0.7058824  0.54509807 0.3764706 ]\n",
            "  [0.6784314  0.48235294 0.16470589]\n",
            "  [0.7294118  0.5647059  0.11764706]\n",
            "  ...\n",
            "  [0.72156864 0.5803922  0.36862746]\n",
            "  [0.38039216 0.24313726 0.13333334]\n",
            "  [0.3254902  0.20784314 0.13333334]]\n",
            "\n",
            " [[0.69411767 0.5647059  0.45490196]\n",
            "  [0.65882355 0.5058824  0.36862746]\n",
            "  [0.7019608  0.5568628  0.34117648]\n",
            "  ...\n",
            "  [0.84705883 0.72156864 0.54901963]\n",
            "  [0.5921569  0.4627451  0.32941177]\n",
            "  [0.48235294 0.36078432 0.28235295]]]\n"
          ]
        }
      ]
    },
    {
      "cell_type": "code",
      "source": [
        "# Convert label to one hot\n",
        "print(np.unique(y_train))\n",
        "\n",
        "y_train = keras.utils.to_categorical(y_train, 10)\n",
        "y_test = keras.utils.to_categorical(y_test, 10)\n",
        "\n",
        "print(y_train.shape)\n",
        "print(y_test.shape)"
      ],
      "metadata": {
        "colab": {
          "base_uri": "https://localhost:8080/"
        },
        "id": "z1A2-TqDh-Z6",
        "outputId": "f10bebb5-c1d2-48d5-98c4-c3fcb38ab096"
      },
      "execution_count": 7,
      "outputs": [
        {
          "output_type": "stream",
          "name": "stdout",
          "text": [
            "[0 1 2 3 4 5 6 7 8 9]\n"
          ]
        }
      ]
    },
    {
      "cell_type": "code",
      "source": [
        "# Create Sequential model\n",
        "\n",
        "model = Sequential()\n",
        "\n",
        "model.add(Conv2D(32, (3,3), padding=\"same\", input_shape=(32, 32, 3), activation=\"relu\"))\n",
        "model.add(Conv2D(32, (3,3), activation=\"relu\"))\n",
        "model.add(MaxPooling2D(pool_size=(2,2)))\n",
        "model.add(Dropout(0.25))\n",
        "\n",
        "model.add(Conv2D(64, (3,3), padding=\"same\", activation=\"relu\"))\n",
        "model.add(Conv2D(64, (3,3), activation=\"relu\"))\n",
        "model.add(MaxPooling2D(pool_size=(2,2)))\n",
        "model.add(Dropout(0.25))\n",
        "\n",
        "model.add(Flatten())\n",
        "model.add(Dense(512, activation=\"relu\"))\n",
        "model.add(Dropout(0.25))\n",
        "model.add(Dense(10, activation=\"softmax\"))"
      ],
      "metadata": {
        "id": "mXl4OThuinTQ"
      },
      "execution_count": 9,
      "outputs": []
    },
    {
      "cell_type": "code",
      "source": [
        "# Compile the model\n",
        "\n",
        "model.compile(loss=\"categorical_crossentropy\",\n",
        "              optimizer=\"adam\",\n",
        "              metrics=[\"accuracy\"])"
      ],
      "metadata": {
        "id": "Ib8SJcAskiid"
      },
      "execution_count": 10,
      "outputs": []
    },
    {
      "cell_type": "code",
      "source": [
        "model.summary()"
      ],
      "metadata": {
        "colab": {
          "base_uri": "https://localhost:8080/"
        },
        "id": "jk53HmF2k7Xp",
        "outputId": "52413b67-d87a-43ed-f215-5259cf2aa35e"
      },
      "execution_count": 11,
      "outputs": [
        {
          "output_type": "stream",
          "name": "stdout",
          "text": [
            "Model: \"sequential\"\n",
            "_________________________________________________________________\n",
            " Layer (type)                Output Shape              Param #   \n",
            "=================================================================\n",
            " conv2d_1 (Conv2D)           (None, 32, 32, 32)        896       \n",
            "                                                                 \n",
            " conv2d_2 (Conv2D)           (None, 30, 30, 32)        9248      \n",
            "                                                                 \n",
            " max_pooling2d (MaxPooling2D  (None, 15, 15, 32)       0         \n",
            " )                                                               \n",
            "                                                                 \n",
            " dropout (Dropout)           (None, 15, 15, 32)        0         \n",
            "                                                                 \n",
            " conv2d_3 (Conv2D)           (None, 15, 15, 64)        18496     \n",
            "                                                                 \n",
            " conv2d_4 (Conv2D)           (None, 13, 13, 64)        36928     \n",
            "                                                                 \n",
            " max_pooling2d_1 (MaxPooling  (None, 6, 6, 64)         0         \n",
            " 2D)                                                             \n",
            "                                                                 \n",
            " dropout_1 (Dropout)         (None, 6, 6, 64)          0         \n",
            "                                                                 \n",
            " flatten (Flatten)           (None, 2304)              0         \n",
            "                                                                 \n",
            " dense (Dense)               (None, 512)               1180160   \n",
            "                                                                 \n",
            " dropout_2 (Dropout)         (None, 512)               0         \n",
            "                                                                 \n",
            " dense_1 (Dense)             (None, 10)                5130      \n",
            "                                                                 \n",
            "=================================================================\n",
            "Total params: 1,250,858\n",
            "Trainable params: 1,250,858\n",
            "Non-trainable params: 0\n",
            "_________________________________________________________________\n"
          ]
        }
      ]
    },
    {
      "cell_type": "code",
      "source": [
        "history = model.fit(x_train,\n",
        "                    y_train,\n",
        "                    batch_size=64,\n",
        "                    epochs=30,\n",
        "                    validation_split=0.2,\n",
        "                    shuffle=True\n",
        "                    )"
      ],
      "metadata": {
        "colab": {
          "base_uri": "https://localhost:8080/"
        },
        "id": "czfOr0v2k-Tt",
        "outputId": "318358e4-5192-4297-97e0-27969ea99b17"
      },
      "execution_count": null,
      "outputs": [
        {
          "output_type": "stream",
          "name": "stdout",
          "text": [
            "Epoch 1/30\n",
            "625/625 [==============================] - 228s 363ms/step - loss: 1.5616 - accuracy: 0.4272 - val_loss: 1.2560 - val_accuracy: 0.5465\n",
            "Epoch 2/30\n",
            "625/625 [==============================] - 233s 372ms/step - loss: 1.1594 - accuracy: 0.5888 - val_loss: 1.0227 - val_accuracy: 0.6383\n",
            "Epoch 3/30\n",
            "625/625 [==============================] - 225s 360ms/step - loss: 0.9838 - accuracy: 0.6542 - val_loss: 0.8703 - val_accuracy: 0.6961\n",
            "Epoch 4/30\n",
            "625/625 [==============================] - 226s 362ms/step - loss: 0.8546 - accuracy: 0.6999 - val_loss: 0.7935 - val_accuracy: 0.7200\n",
            "Epoch 5/30\n",
            "625/625 [==============================] - 227s 363ms/step - loss: 0.7737 - accuracy: 0.7293 - val_loss: 0.7740 - val_accuracy: 0.7297\n",
            "Epoch 6/30\n",
            "625/625 [==============================] - 217s 348ms/step - loss: 0.7082 - accuracy: 0.7494 - val_loss: 0.7366 - val_accuracy: 0.7443\n",
            "Epoch 7/30\n",
            "625/625 [==============================] - 216s 346ms/step - loss: 0.6503 - accuracy: 0.7706 - val_loss: 0.6936 - val_accuracy: 0.7572\n",
            "Epoch 8/30\n",
            "625/625 [==============================] - 217s 348ms/step - loss: 0.6006 - accuracy: 0.7869 - val_loss: 0.6848 - val_accuracy: 0.7630\n",
            "Epoch 9/30\n",
            "625/625 [==============================] - 218s 349ms/step - loss: 0.5418 - accuracy: 0.8087 - val_loss: 0.6734 - val_accuracy: 0.7683\n",
            "Epoch 10/30\n",
            "625/625 [==============================] - 218s 349ms/step - loss: 0.5046 - accuracy: 0.8216 - val_loss: 0.6622 - val_accuracy: 0.7776\n",
            "Epoch 11/30\n",
            "625/625 [==============================] - 218s 348ms/step - loss: 0.4711 - accuracy: 0.8334 - val_loss: 0.6810 - val_accuracy: 0.7761\n",
            "Epoch 12/30\n",
            "625/625 [==============================] - 217s 348ms/step - loss: 0.4363 - accuracy: 0.8435 - val_loss: 0.6650 - val_accuracy: 0.7779\n",
            "Epoch 13/30\n",
            "625/625 [==============================] - 217s 347ms/step - loss: 0.4147 - accuracy: 0.8515 - val_loss: 0.6685 - val_accuracy: 0.7832\n",
            "Epoch 14/30\n",
            "625/625 [==============================] - 218s 349ms/step - loss: 0.3838 - accuracy: 0.8644 - val_loss: 0.6832 - val_accuracy: 0.7831\n",
            "Epoch 15/30\n",
            "625/625 [==============================] - 217s 348ms/step - loss: 0.3694 - accuracy: 0.8697 - val_loss: 0.6862 - val_accuracy: 0.7812\n",
            "Epoch 16/30\n",
            "625/625 [==============================] - 217s 348ms/step - loss: 0.3424 - accuracy: 0.8778 - val_loss: 0.6936 - val_accuracy: 0.7792\n",
            "Epoch 17/30\n",
            "625/625 [==============================] - 218s 349ms/step - loss: 0.3294 - accuracy: 0.8818 - val_loss: 0.7204 - val_accuracy: 0.7852\n",
            "Epoch 18/30\n",
            "625/625 [==============================] - 218s 349ms/step - loss: 0.3162 - accuracy: 0.8873 - val_loss: 0.7263 - val_accuracy: 0.7812\n",
            "Epoch 19/30\n",
            "625/625 [==============================] - 219s 351ms/step - loss: 0.2994 - accuracy: 0.8939 - val_loss: 0.7256 - val_accuracy: 0.7839\n",
            "Epoch 20/30\n",
            "625/625 [==============================] - 220s 351ms/step - loss: 0.2874 - accuracy: 0.8982 - val_loss: 0.7321 - val_accuracy: 0.7818\n",
            "Epoch 21/30\n",
            "625/625 [==============================] - 221s 353ms/step - loss: 0.2794 - accuracy: 0.8996 - val_loss: 0.7690 - val_accuracy: 0.7764\n",
            "Epoch 22/30\n",
            "625/625 [==============================] - 220s 352ms/step - loss: 0.2693 - accuracy: 0.9043 - val_loss: 0.7517 - val_accuracy: 0.7793\n",
            "Epoch 23/30\n",
            "625/625 [==============================] - 221s 354ms/step - loss: 0.2581 - accuracy: 0.9078 - val_loss: 0.7627 - val_accuracy: 0.7896\n",
            "Epoch 24/30\n",
            "625/625 [==============================] - 220s 351ms/step - loss: 0.2584 - accuracy: 0.9090 - val_loss: 0.7587 - val_accuracy: 0.7839\n",
            "Epoch 25/30\n",
            "509/625 [=======================>......] - ETA: 39s - loss: 0.2380 - accuracy: 0.9180"
          ]
        }
      ]
    },
    {
      "cell_type": "code",
      "source": [],
      "metadata": {
        "id": "nXxI9Dz_mO5X"
      },
      "execution_count": null,
      "outputs": []
    }
  ]
}