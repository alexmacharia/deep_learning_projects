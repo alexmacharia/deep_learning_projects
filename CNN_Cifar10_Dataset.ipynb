{
  "cells": [
    {
      "cell_type": "markdown",
      "metadata": {
        "id": "view-in-github",
        "colab_type": "text"
      },
      "source": [
        "<a href=\"https://colab.research.google.com/github/alexmacharia/deep_learning_projects/blob/main/CNN_Cifar10_Dataset.ipynb\" target=\"_parent\"><img src=\"https://colab.research.google.com/assets/colab-badge.svg\" alt=\"Open In Colab\"/></a>"
      ]
    },
    {
      "cell_type": "code",
      "execution_count": 1,
      "metadata": {
        "id": "5cEqyXbfgj_Q"
      },
      "outputs": [],
      "source": [
        "import numpy as np\n",
        "\n",
        "import keras\n",
        "from keras.datasets import cifar10\n",
        "from keras.models import Sequential\n",
        "from keras.layers import Dense, Dropout, Flatten, Conv2D, MaxPooling2D\n",
        "from keras.callbacks import ModelCheckpoint\n",
        "from pathlib import Path"
      ]
    },
    {
      "cell_type": "code",
      "execution_count": 2,
      "metadata": {
        "colab": {
          "base_uri": "https://localhost:8080/"
        },
        "id": "Nj8GO8PKg-BO",
        "outputId": "b150396c-14a9-4340-9f4c-c0c56bc68601"
      },
      "outputs": [
        {
          "output_type": "stream",
          "name": "stdout",
          "text": [
            "Downloading data from https://www.cs.toronto.edu/~kriz/cifar-10-python.tar.gz\n",
            "170498071/170498071 [==============================] - 6s 0us/step\n",
            "(50000, 32, 32, 3)\n",
            "(10000, 32, 32, 3)\n",
            "(50000, 1)\n",
            "(10000, 1)\n"
          ]
        }
      ],
      "source": [
        "# Load the data\n",
        "\n",
        "(x_train, y_train), (x_test, y_test) = cifar10.load_data()\n",
        "\n",
        "print(x_train.shape)\n",
        "print(x_test.shape)\n",
        "\n",
        "print(y_train.shape)\n",
        "print(y_test.shape)"
      ]
    },
    {
      "cell_type": "code",
      "execution_count": 3,
      "metadata": {
        "colab": {
          "base_uri": "https://localhost:8080/"
        },
        "id": "3_opNZ9ohcTs",
        "outputId": "cb60247c-d62b-477a-9a53-bceb55c0cb3f"
      },
      "outputs": [
        {
          "output_type": "stream",
          "name": "stdout",
          "text": [
            "[[[0.23137255 0.24313726 0.24705882]\n",
            "  [0.16862746 0.18039216 0.1764706 ]\n",
            "  [0.19607843 0.1882353  0.16862746]\n",
            "  ...\n",
            "  [0.61960787 0.5176471  0.42352942]\n",
            "  [0.59607846 0.49019608 0.4       ]\n",
            "  [0.5803922  0.4862745  0.40392157]]\n",
            "\n",
            " [[0.0627451  0.07843138 0.07843138]\n",
            "  [0.         0.         0.        ]\n",
            "  [0.07058824 0.03137255 0.        ]\n",
            "  ...\n",
            "  [0.48235294 0.34509805 0.21568628]\n",
            "  [0.46666667 0.3254902  0.19607843]\n",
            "  [0.47843137 0.34117648 0.22352941]]\n",
            "\n",
            " [[0.09803922 0.09411765 0.08235294]\n",
            "  [0.0627451  0.02745098 0.        ]\n",
            "  [0.19215687 0.10588235 0.03137255]\n",
            "  ...\n",
            "  [0.4627451  0.32941177 0.19607843]\n",
            "  [0.47058824 0.32941177 0.19607843]\n",
            "  [0.42745098 0.28627452 0.16470589]]\n",
            "\n",
            " ...\n",
            "\n",
            " [[0.8156863  0.6666667  0.3764706 ]\n",
            "  [0.7882353  0.6        0.13333334]\n",
            "  [0.7764706  0.6313726  0.10196079]\n",
            "  ...\n",
            "  [0.627451   0.52156866 0.27450982]\n",
            "  [0.21960784 0.12156863 0.02745098]\n",
            "  [0.20784314 0.13333334 0.07843138]]\n",
            "\n",
            " [[0.7058824  0.54509807 0.3764706 ]\n",
            "  [0.6784314  0.48235294 0.16470589]\n",
            "  [0.7294118  0.5647059  0.11764706]\n",
            "  ...\n",
            "  [0.72156864 0.5803922  0.36862746]\n",
            "  [0.38039216 0.24313726 0.13333334]\n",
            "  [0.3254902  0.20784314 0.13333334]]\n",
            "\n",
            " [[0.69411767 0.5647059  0.45490196]\n",
            "  [0.65882355 0.5058824  0.36862746]\n",
            "  [0.7019608  0.5568628  0.34117648]\n",
            "  ...\n",
            "  [0.84705883 0.72156864 0.54901963]\n",
            "  [0.5921569  0.4627451  0.32941177]\n",
            "  [0.48235294 0.36078432 0.28235295]]]\n"
          ]
        }
      ],
      "source": [
        "#Normalize data between 0 and 1\n",
        "x_train = x_train.astype('float32')/255\n",
        "x_test = x_test.astype('float32')/255\n",
        "\n",
        "print(x_train[0])\n"
      ]
    },
    {
      "cell_type": "code",
      "execution_count": 4,
      "metadata": {
        "colab": {
          "base_uri": "https://localhost:8080/"
        },
        "id": "z1A2-TqDh-Z6",
        "outputId": "bcc8e415-d9a9-485c-d46b-e658df59a094"
      },
      "outputs": [
        {
          "output_type": "stream",
          "name": "stdout",
          "text": [
            "[0 1 2 3 4 5 6 7 8 9]\n",
            "(50000, 10)\n",
            "(10000, 10)\n"
          ]
        }
      ],
      "source": [
        "# Convert label to one hot\n",
        "print(np.unique(y_train))\n",
        "\n",
        "y_train = keras.utils.to_categorical(y_train, 10)\n",
        "y_test = keras.utils.to_categorical(y_test, 10)\n",
        "\n",
        "print(y_train.shape)\n",
        "print(y_test.shape)"
      ]
    },
    {
      "cell_type": "code",
      "execution_count": 5,
      "metadata": {
        "id": "mXl4OThuinTQ"
      },
      "outputs": [],
      "source": [
        "# Create Sequential model\n",
        "\n",
        "model = Sequential()\n",
        "\n",
        "model.add(Conv2D(32, (3,3), padding=\"same\", input_shape=(32, 32, 3), activation=\"relu\"))\n",
        "model.add(Conv2D(32, (3,3), activation=\"relu\"))\n",
        "model.add(MaxPooling2D(pool_size=(2,2)))\n",
        "model.add(Dropout(0.25))\n",
        "\n",
        "model.add(Conv2D(64, (3,3), padding=\"same\", activation=\"relu\"))\n",
        "model.add(Conv2D(64, (3,3), activation=\"relu\"))\n",
        "model.add(MaxPooling2D(pool_size=(2,2)))\n",
        "model.add(Dropout(0.25))\n",
        "\n",
        "model.add(Flatten())\n",
        "model.add(Dense(512, activation=\"relu\"))\n",
        "model.add(Dropout(0.25))\n",
        "model.add(Dense(10, activation=\"softmax\"))"
      ]
    },
    {
      "cell_type": "code",
      "execution_count": 6,
      "metadata": {
        "id": "Ib8SJcAskiid"
      },
      "outputs": [],
      "source": [
        "# Compile the model\n",
        "\n",
        "model.compile(loss=\"categorical_crossentropy\",\n",
        "              optimizer=\"adam\",\n",
        "              metrics=[\"accuracy\"])"
      ]
    },
    {
      "cell_type": "code",
      "execution_count": 7,
      "metadata": {
        "colab": {
          "base_uri": "https://localhost:8080/"
        },
        "id": "jk53HmF2k7Xp",
        "outputId": "e763e12b-1ff5-4967-e5ec-f912e0337eca"
      },
      "outputs": [
        {
          "output_type": "stream",
          "name": "stdout",
          "text": [
            "Model: \"sequential\"\n",
            "_________________________________________________________________\n",
            " Layer (type)                Output Shape              Param #   \n",
            "=================================================================\n",
            " conv2d (Conv2D)             (None, 32, 32, 32)        896       \n",
            "                                                                 \n",
            " conv2d_1 (Conv2D)           (None, 30, 30, 32)        9248      \n",
            "                                                                 \n",
            " max_pooling2d (MaxPooling2D  (None, 15, 15, 32)       0         \n",
            " )                                                               \n",
            "                                                                 \n",
            " dropout (Dropout)           (None, 15, 15, 32)        0         \n",
            "                                                                 \n",
            " conv2d_2 (Conv2D)           (None, 15, 15, 64)        18496     \n",
            "                                                                 \n",
            " conv2d_3 (Conv2D)           (None, 13, 13, 64)        36928     \n",
            "                                                                 \n",
            " max_pooling2d_1 (MaxPooling  (None, 6, 6, 64)         0         \n",
            " 2D)                                                             \n",
            "                                                                 \n",
            " dropout_1 (Dropout)         (None, 6, 6, 64)          0         \n",
            "                                                                 \n",
            " flatten (Flatten)           (None, 2304)              0         \n",
            "                                                                 \n",
            " dense (Dense)               (None, 512)               1180160   \n",
            "                                                                 \n",
            " dropout_2 (Dropout)         (None, 512)               0         \n",
            "                                                                 \n",
            " dense_1 (Dense)             (None, 10)                5130      \n",
            "                                                                 \n",
            "=================================================================\n",
            "Total params: 1,250,858\n",
            "Trainable params: 1,250,858\n",
            "Non-trainable params: 0\n",
            "_________________________________________________________________\n"
          ]
        }
      ],
      "source": [
        "model.summary()"
      ]
    },
    {
      "cell_type": "code",
      "source": [
        "filepath=\"weights.best.hdf5\"\n",
        "checkpoint = ModelCheckpoint(filepath, monitor='val_accuracy', verbose=1, save_best_only=True, mode='max')\n",
        "callbacks_list = [checkpoint]"
      ],
      "metadata": {
        "id": "XXZt34vhE1gC"
      },
      "execution_count": 8,
      "outputs": []
    },
    {
      "cell_type": "code",
      "execution_count": 9,
      "metadata": {
        "colab": {
          "base_uri": "https://localhost:8080/"
        },
        "id": "czfOr0v2k-Tt",
        "outputId": "ef998fb0-d9d3-45a3-8b4e-992dcfedaa45"
      },
      "outputs": [
        {
          "output_type": "stream",
          "name": "stdout",
          "text": [
            "Epoch 1/30\n",
            "625/625 [==============================] - ETA: 0s - loss: 1.5483 - accuracy: 0.4342\n",
            "Epoch 1: val_accuracy improved from -inf to 0.56080, saving model to weights.best.hdf5\n",
            "625/625 [==============================] - 227s 362ms/step - loss: 1.5483 - accuracy: 0.4342 - val_loss: 1.2233 - val_accuracy: 0.5608\n",
            "Epoch 2/30\n",
            "625/625 [==============================] - ETA: 0s - loss: 1.1672 - accuracy: 0.5853\n",
            "Epoch 2: val_accuracy improved from 0.56080 to 0.62210, saving model to weights.best.hdf5\n",
            "625/625 [==============================] - 229s 367ms/step - loss: 1.1672 - accuracy: 0.5853 - val_loss: 1.0665 - val_accuracy: 0.6221\n",
            "Epoch 3/30\n",
            "625/625 [==============================] - ETA: 0s - loss: 0.9718 - accuracy: 0.6576\n",
            "Epoch 3: val_accuracy improved from 0.62210 to 0.69170, saving model to weights.best.hdf5\n",
            "625/625 [==============================] - 243s 389ms/step - loss: 0.9718 - accuracy: 0.6576 - val_loss: 0.8689 - val_accuracy: 0.6917\n",
            "Epoch 4/30\n",
            "625/625 [==============================] - ETA: 0s - loss: 0.8547 - accuracy: 0.6962\n",
            "Epoch 4: val_accuracy improved from 0.69170 to 0.72420, saving model to weights.best.hdf5\n",
            "625/625 [==============================] - 231s 370ms/step - loss: 0.8547 - accuracy: 0.6962 - val_loss: 0.7960 - val_accuracy: 0.7242\n",
            "Epoch 5/30\n",
            "625/625 [==============================] - ETA: 0s - loss: 0.7709 - accuracy: 0.7295\n",
            "Epoch 5: val_accuracy improved from 0.72420 to 0.74560, saving model to weights.best.hdf5\n",
            "625/625 [==============================] - 237s 379ms/step - loss: 0.7709 - accuracy: 0.7295 - val_loss: 0.7374 - val_accuracy: 0.7456\n",
            "Epoch 6/30\n",
            "625/625 [==============================] - ETA: 0s - loss: 0.6916 - accuracy: 0.7562\n",
            "Epoch 6: val_accuracy did not improve from 0.74560\n",
            "625/625 [==============================] - 233s 373ms/step - loss: 0.6916 - accuracy: 0.7562 - val_loss: 0.7188 - val_accuracy: 0.7454\n",
            "Epoch 7/30\n",
            "625/625 [==============================] - ETA: 0s - loss: 0.6338 - accuracy: 0.7755\n",
            "Epoch 7: val_accuracy improved from 0.74560 to 0.76230, saving model to weights.best.hdf5\n",
            "625/625 [==============================] - 230s 368ms/step - loss: 0.6338 - accuracy: 0.7755 - val_loss: 0.6800 - val_accuracy: 0.7623\n",
            "Epoch 8/30\n",
            "625/625 [==============================] - ETA: 0s - loss: 0.5898 - accuracy: 0.7921\n",
            "Epoch 8: val_accuracy improved from 0.76230 to 0.76610, saving model to weights.best.hdf5\n",
            "625/625 [==============================] - 238s 381ms/step - loss: 0.5898 - accuracy: 0.7921 - val_loss: 0.6765 - val_accuracy: 0.7661\n",
            "Epoch 9/30\n",
            "625/625 [==============================] - ETA: 0s - loss: 0.5356 - accuracy: 0.8099\n",
            "Epoch 9: val_accuracy improved from 0.76610 to 0.77100, saving model to weights.best.hdf5\n",
            "625/625 [==============================] - 231s 370ms/step - loss: 0.5356 - accuracy: 0.8099 - val_loss: 0.6777 - val_accuracy: 0.7710\n",
            "Epoch 10/30\n",
            "625/625 [==============================] - ETA: 0s - loss: 0.5025 - accuracy: 0.8206\n",
            "Epoch 10: val_accuracy did not improve from 0.77100\n",
            "625/625 [==============================] - 232s 371ms/step - loss: 0.5025 - accuracy: 0.8206 - val_loss: 0.6926 - val_accuracy: 0.7615\n",
            "Epoch 11/30\n",
            "625/625 [==============================] - ETA: 0s - loss: 0.4749 - accuracy: 0.8302\n",
            "Epoch 11: val_accuracy improved from 0.77100 to 0.77220, saving model to weights.best.hdf5\n",
            "625/625 [==============================] - 231s 370ms/step - loss: 0.4749 - accuracy: 0.8302 - val_loss: 0.6756 - val_accuracy: 0.7722\n",
            "Epoch 12/30\n",
            "625/625 [==============================] - ETA: 0s - loss: 0.4359 - accuracy: 0.8463\n",
            "Epoch 12: val_accuracy improved from 0.77220 to 0.77590, saving model to weights.best.hdf5\n",
            "625/625 [==============================] - 233s 373ms/step - loss: 0.4359 - accuracy: 0.8463 - val_loss: 0.6714 - val_accuracy: 0.7759\n",
            "Epoch 13/30\n",
            "625/625 [==============================] - ETA: 0s - loss: 0.4058 - accuracy: 0.8577\n",
            "Epoch 13: val_accuracy did not improve from 0.77590\n",
            "625/625 [==============================] - 233s 374ms/step - loss: 0.4058 - accuracy: 0.8577 - val_loss: 0.7178 - val_accuracy: 0.7726\n",
            "Epoch 14/30\n",
            "625/625 [==============================] - ETA: 0s - loss: 0.3779 - accuracy: 0.8648\n",
            "Epoch 14: val_accuracy improved from 0.77590 to 0.78060, saving model to weights.best.hdf5\n",
            "625/625 [==============================] - 232s 370ms/step - loss: 0.3779 - accuracy: 0.8648 - val_loss: 0.6962 - val_accuracy: 0.7806\n",
            "Epoch 15/30\n",
            "625/625 [==============================] - ETA: 0s - loss: 0.3599 - accuracy: 0.8735\n",
            "Epoch 15: val_accuracy did not improve from 0.78060\n",
            "625/625 [==============================] - 234s 375ms/step - loss: 0.3599 - accuracy: 0.8735 - val_loss: 0.7153 - val_accuracy: 0.7787\n",
            "Epoch 16/30\n",
            "625/625 [==============================] - ETA: 0s - loss: 0.3400 - accuracy: 0.8783\n",
            "Epoch 16: val_accuracy improved from 0.78060 to 0.78210, saving model to weights.best.hdf5\n",
            "625/625 [==============================] - 232s 371ms/step - loss: 0.3400 - accuracy: 0.8783 - val_loss: 0.6952 - val_accuracy: 0.7821\n",
            "Epoch 17/30\n",
            "625/625 [==============================] - ETA: 0s - loss: 0.3231 - accuracy: 0.8861\n",
            "Epoch 17: val_accuracy improved from 0.78210 to 0.78370, saving model to weights.best.hdf5\n",
            "625/625 [==============================] - 231s 370ms/step - loss: 0.3231 - accuracy: 0.8861 - val_loss: 0.6797 - val_accuracy: 0.7837\n",
            "Epoch 18/30\n",
            "625/625 [==============================] - ETA: 0s - loss: 0.3149 - accuracy: 0.8878\n",
            "Epoch 18: val_accuracy did not improve from 0.78370\n",
            "625/625 [==============================] - 233s 372ms/step - loss: 0.3149 - accuracy: 0.8878 - val_loss: 0.7186 - val_accuracy: 0.7834\n",
            "Epoch 19/30\n",
            "625/625 [==============================] - ETA: 0s - loss: 0.2888 - accuracy: 0.8984\n",
            "Epoch 19: val_accuracy improved from 0.78370 to 0.78440, saving model to weights.best.hdf5\n",
            "625/625 [==============================] - 232s 371ms/step - loss: 0.2888 - accuracy: 0.8984 - val_loss: 0.7552 - val_accuracy: 0.7844\n",
            "Epoch 20/30\n",
            "625/625 [==============================] - ETA: 0s - loss: 0.2891 - accuracy: 0.8980\n",
            "Epoch 20: val_accuracy did not improve from 0.78440\n",
            "625/625 [==============================] - 232s 371ms/step - loss: 0.2891 - accuracy: 0.8980 - val_loss: 0.7199 - val_accuracy: 0.7818\n",
            "Epoch 21/30\n",
            "625/625 [==============================] - ETA: 0s - loss: 0.2696 - accuracy: 0.9045\n",
            "Epoch 21: val_accuracy did not improve from 0.78440\n",
            "625/625 [==============================] - 230s 368ms/step - loss: 0.2696 - accuracy: 0.9045 - val_loss: 0.7778 - val_accuracy: 0.7818\n",
            "Epoch 22/30\n",
            "625/625 [==============================] - ETA: 0s - loss: 0.2697 - accuracy: 0.9040\n",
            "Epoch 22: val_accuracy did not improve from 0.78440\n",
            "625/625 [==============================] - 232s 372ms/step - loss: 0.2697 - accuracy: 0.9040 - val_loss: 0.7595 - val_accuracy: 0.7786\n",
            "Epoch 23/30\n",
            "625/625 [==============================] - ETA: 0s - loss: 0.2599 - accuracy: 0.9097\n",
            "Epoch 23: val_accuracy did not improve from 0.78440\n",
            "625/625 [==============================] - 231s 370ms/step - loss: 0.2599 - accuracy: 0.9097 - val_loss: 0.7583 - val_accuracy: 0.7806\n",
            "Epoch 24/30\n",
            "625/625 [==============================] - ETA: 0s - loss: 0.2489 - accuracy: 0.9136\n",
            "Epoch 24: val_accuracy improved from 0.78440 to 0.78700, saving model to weights.best.hdf5\n",
            "625/625 [==============================] - 233s 372ms/step - loss: 0.2489 - accuracy: 0.9136 - val_loss: 0.7708 - val_accuracy: 0.7870\n",
            "Epoch 25/30\n",
            "625/625 [==============================] - ETA: 0s - loss: 0.2410 - accuracy: 0.9172\n",
            "Epoch 25: val_accuracy did not improve from 0.78700\n",
            "625/625 [==============================] - 231s 370ms/step - loss: 0.2410 - accuracy: 0.9172 - val_loss: 0.7792 - val_accuracy: 0.7818\n",
            "Epoch 26/30\n",
            "625/625 [==============================] - ETA: 0s - loss: 0.2306 - accuracy: 0.9194\n",
            "Epoch 26: val_accuracy did not improve from 0.78700\n",
            "625/625 [==============================] - 231s 370ms/step - loss: 0.2306 - accuracy: 0.9194 - val_loss: 0.7773 - val_accuracy: 0.7824\n",
            "Epoch 27/30\n",
            "625/625 [==============================] - ETA: 0s - loss: 0.2219 - accuracy: 0.9215\n",
            "Epoch 27: val_accuracy did not improve from 0.78700\n",
            "625/625 [==============================] - 232s 371ms/step - loss: 0.2219 - accuracy: 0.9215 - val_loss: 0.8319 - val_accuracy: 0.7780\n",
            "Epoch 28/30\n",
            "625/625 [==============================] - ETA: 0s - loss: 0.2281 - accuracy: 0.9200\n",
            "Epoch 28: val_accuracy did not improve from 0.78700\n",
            "625/625 [==============================] - 231s 369ms/step - loss: 0.2281 - accuracy: 0.9200 - val_loss: 0.8219 - val_accuracy: 0.7751\n",
            "Epoch 29/30\n",
            "625/625 [==============================] - ETA: 0s - loss: 0.2236 - accuracy: 0.9233\n",
            "Epoch 29: val_accuracy did not improve from 0.78700\n",
            "625/625 [==============================] - 231s 369ms/step - loss: 0.2236 - accuracy: 0.9233 - val_loss: 0.7834 - val_accuracy: 0.7807\n",
            "Epoch 30/30\n",
            "625/625 [==============================] - ETA: 0s - loss: 0.2149 - accuracy: 0.9238\n",
            "Epoch 30: val_accuracy did not improve from 0.78700\n",
            "625/625 [==============================] - 232s 371ms/step - loss: 0.2149 - accuracy: 0.9238 - val_loss: 0.8193 - val_accuracy: 0.7816\n"
          ]
        }
      ],
      "source": [
        "history = model.fit(x_train,\n",
        "                    y_train,\n",
        "                    batch_size=64,\n",
        "                    epochs=30,\n",
        "                    validation_split=0.2,\n",
        "                    shuffle=True,\n",
        "                    callbacks=callbacks_list\n",
        "                    )"
      ]
    },
    {
      "cell_type": "code",
      "execution_count": 10,
      "metadata": {
        "id": "nXxI9Dz_mO5X",
        "colab": {
          "base_uri": "https://localhost:8080/"
        },
        "outputId": "6ecf3a2a-69a8-4350-eee8-b16b46d4c95e"
      },
      "outputs": [
        {
          "output_type": "execute_result",
          "data": {
            "text/plain": [
              "4384"
            ]
          },
          "metadata": {},
          "execution_count": 10
        }
      ],
      "source": [
        "# Save the neural network structure\n",
        "\n",
        "model_structure = model.to_json()\n",
        "f = Path(\"model_structure.json\")\n",
        "f.write_text(model_structure)"
      ]
    },
    {
      "cell_type": "code",
      "source": [
        "from keras.saving.model_config import model_from_json\n",
        "# Load model structure\n",
        "\n",
        "model_structure = f.read_text()\n",
        "\n",
        "model_loaded = model_from_json(model_structure)"
      ],
      "metadata": {
        "id": "Q4ZVfAHe6gr5"
      },
      "execution_count": 11,
      "outputs": []
    },
    {
      "cell_type": "code",
      "source": [
        "# Load weights\n",
        "\n",
        "model_loaded.load_weights(\"weights.best.hdf5\")"
      ],
      "metadata": {
        "id": "N4Jr1-Q27FDr"
      },
      "execution_count": 12,
      "outputs": []
    },
    {
      "cell_type": "code",
      "source": [],
      "metadata": {
        "id": "vdCq-lRE7YN2"
      },
      "execution_count": null,
      "outputs": []
    }
  ],
  "metadata": {
    "colab": {
      "provenance": [],
      "authorship_tag": "ABX9TyPbcS6TXyCX7acpSe50psjy",
      "include_colab_link": true
    },
    "kernelspec": {
      "display_name": "Python 3",
      "name": "python3"
    },
    "language_info": {
      "name": "python"
    }
  },
  "nbformat": 4,
  "nbformat_minor": 0
}