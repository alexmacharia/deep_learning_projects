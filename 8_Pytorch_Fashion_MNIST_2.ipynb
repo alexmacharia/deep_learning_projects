{
  "nbformat": 4,
  "nbformat_minor": 0,
  "metadata": {
    "colab": {
      "provenance": [],
      "gpuType": "A100",
      "authorship_tag": "ABX9TyMuT4QImYBRWxhAPTGp/1Uu",
      "include_colab_link": true
    },
    "kernelspec": {
      "name": "python3",
      "display_name": "Python 3"
    },
    "language_info": {
      "name": "python"
    },
    "accelerator": "GPU",
    "gpuClass": "standard"
  },
  "cells": [
    {
      "cell_type": "markdown",
      "metadata": {
        "id": "view-in-github",
        "colab_type": "text"
      },
      "source": [
        "<a href=\"https://colab.research.google.com/github/alexmacharia/deep_learning_projects/blob/main/8_Pytorch_Fashion_MNIST_2.ipynb\" target=\"_parent\"><img src=\"https://colab.research.google.com/assets/colab-badge.svg\" alt=\"Open In Colab\"/></a>"
      ]
    },
    {
      "cell_type": "code",
      "execution_count": 1,
      "metadata": {
        "colab": {
          "base_uri": "https://localhost:8080/"
        },
        "id": "THSN7pAOF_3h",
        "outputId": "92139438-2b10-468c-ac08-ca879452964b"
      },
      "outputs": [
        {
          "output_type": "stream",
          "name": "stdout",
          "text": [
            "GPU available: True\n"
          ]
        }
      ],
      "source": [
        "import torch\n",
        "import PIL\n",
        "import numpy as np\n",
        "\n",
        "import torchvision\n",
        "import torchvision.transforms as transforms\n",
        "\n",
        "import torch.optim as optim\n",
        "import torch.nn as nn\n",
        "\n",
        "print(\"GPU available: {}\".format(torch.cuda.is_available()))"
      ]
    },
    {
      "cell_type": "code",
      "source": [
        "device = 'cuda'"
      ],
      "metadata": {
        "id": "1YGKohqZGoIQ"
      },
      "execution_count": 2,
      "outputs": []
    },
    {
      "cell_type": "code",
      "source": [
        "data_transforms = {\n",
        "    'train': transforms.Compose([\n",
        "        # Transforms are executed in the order they are called\n",
        "        # Some transforms return color image hence the need to convert image back to grayscale\n",
        "        transforms.RandomAffine(degrees=10, translate=(0.05,0.05), shear=5),\n",
        "        transforms.ColorJitter(hue=.05, saturation=.05),\n",
        "        transforms.RandomHorizontalFlip(),\n",
        "        transforms.RandomRotation(15),\n",
        "        transforms.Grayscale(num_output_channels=1),\n",
        "        transforms.ToTensor(),\n",
        "        transforms.Normalize((0.5,),(0.5,)),\n",
        "\n",
        "    ]),\n",
        "    'val': transforms.Compose([\n",
        "        transforms.ToTensor(),\n",
        "        transforms.Normalize((0.5,),(0.5,))\n",
        "    ])\n",
        "}"
      ],
      "metadata": {
        "id": "BaJGsXrjGva5"
      },
      "execution_count": 3,
      "outputs": []
    },
    {
      "cell_type": "code",
      "source": [
        "trainset = torchvision.datasets.FashionMNIST(root='./data', train=True,\n",
        "                                             download=True, transform=data_transforms['train'])\n",
        "\n",
        "testset = torchvision.datasets.FashionMNIST(root='./data', train=False,\n",
        "                                            download=True, transform=data_transforms['val'])\n",
        "\n",
        "trainloader = torch.utils.data.DataLoader(trainset, batch_size=32,\n",
        "                                          shuffle=True, num_workers=2)\n",
        "\n",
        "testloader = torch.utils.data.DataLoader(testset, batch_size=32,\n",
        "                                         shuffle=True, num_workers=2)\n",
        "\n"
      ],
      "metadata": {
        "colab": {
          "base_uri": "https://localhost:8080/"
        },
        "id": "kpTIyZTyIexo",
        "outputId": "a0dbe57d-5f09-4327-8671-95adfcb06ede"
      },
      "execution_count": 4,
      "outputs": [
        {
          "output_type": "stream",
          "name": "stdout",
          "text": [
            "Downloading http://fashion-mnist.s3-website.eu-central-1.amazonaws.com/train-images-idx3-ubyte.gz\n",
            "Downloading http://fashion-mnist.s3-website.eu-central-1.amazonaws.com/train-images-idx3-ubyte.gz to ./data/FashionMNIST/raw/train-images-idx3-ubyte.gz\n"
          ]
        },
        {
          "output_type": "stream",
          "name": "stderr",
          "text": [
            "100%|██████████| 26421880/26421880 [00:03<00:00, 8314179.67it/s] \n"
          ]
        },
        {
          "output_type": "stream",
          "name": "stdout",
          "text": [
            "Extracting ./data/FashionMNIST/raw/train-images-idx3-ubyte.gz to ./data/FashionMNIST/raw\n",
            "\n",
            "Downloading http://fashion-mnist.s3-website.eu-central-1.amazonaws.com/train-labels-idx1-ubyte.gz\n",
            "Downloading http://fashion-mnist.s3-website.eu-central-1.amazonaws.com/train-labels-idx1-ubyte.gz to ./data/FashionMNIST/raw/train-labels-idx1-ubyte.gz\n"
          ]
        },
        {
          "output_type": "stream",
          "name": "stderr",
          "text": [
            "100%|██████████| 29515/29515 [00:00<00:00, 142197.19it/s]\n"
          ]
        },
        {
          "output_type": "stream",
          "name": "stdout",
          "text": [
            "Extracting ./data/FashionMNIST/raw/train-labels-idx1-ubyte.gz to ./data/FashionMNIST/raw\n",
            "\n",
            "Downloading http://fashion-mnist.s3-website.eu-central-1.amazonaws.com/t10k-images-idx3-ubyte.gz\n",
            "Downloading http://fashion-mnist.s3-website.eu-central-1.amazonaws.com/t10k-images-idx3-ubyte.gz to ./data/FashionMNIST/raw/t10k-images-idx3-ubyte.gz\n"
          ]
        },
        {
          "output_type": "stream",
          "name": "stderr",
          "text": [
            "100%|██████████| 4422102/4422102 [00:01<00:00, 2590446.74it/s]\n"
          ]
        },
        {
          "output_type": "stream",
          "name": "stdout",
          "text": [
            "Extracting ./data/FashionMNIST/raw/t10k-images-idx3-ubyte.gz to ./data/FashionMNIST/raw\n",
            "\n",
            "Downloading http://fashion-mnist.s3-website.eu-central-1.amazonaws.com/t10k-labels-idx1-ubyte.gz\n",
            "Downloading http://fashion-mnist.s3-website.eu-central-1.amazonaws.com/t10k-labels-idx1-ubyte.gz to ./data/FashionMNIST/raw/t10k-labels-idx1-ubyte.gz\n"
          ]
        },
        {
          "output_type": "stream",
          "name": "stderr",
          "text": [
            "100%|██████████| 5148/5148 [00:00<00:00, 6435850.07it/s]"
          ]
        },
        {
          "output_type": "stream",
          "name": "stdout",
          "text": [
            "Extracting ./data/FashionMNIST/raw/t10k-labels-idx1-ubyte.gz to ./data/FashionMNIST/raw\n",
            "\n"
          ]
        },
        {
          "output_type": "stream",
          "name": "stderr",
          "text": [
            "\n"
          ]
        }
      ]
    },
    {
      "cell_type": "code",
      "source": [
        "import torch.nn as nn\n",
        "import torch.nn.functional as F\n",
        "\n",
        "class Net(nn.Module):\n",
        "  def __init__(self):\n",
        "    super(Net, self).__init__()\n",
        "    self.conv1 = nn.Conv2d(1, 32, 3)\n",
        "    self.conv1_bn = nn.BatchNorm2d(32)\n",
        "    self.conv2 = nn.Conv2d(32, 64, 3)\n",
        "    self.conv2_bn = nn.BatchNorm2d(64)\n",
        "    self.pool = nn.MaxPool2d(2, 2)\n",
        "    self.fc1 = nn.Linear(64 * 12 * 12, 128)\n",
        "    self.fc2 = nn.Linear(128, 10)\n",
        "    self.dropOut = nn.Dropout(0.2)\n",
        "\n",
        "  def forward(self, x):\n",
        "    x = F.relu(self.conv1_bn(self.conv1(x)))\n",
        "    x = self.dropOut(x)\n",
        "    x = self.dropOut(F.relu(self.conv2_bn(self.conv2(x))))\n",
        "\n",
        "    x = self.pool(x)\n",
        "    x = x.view(-1, 64 * 12 * 12)\n",
        "    x = F.relu(self.fc1(x))\n",
        "    x = self.fc2(x)\n",
        "    return x\n",
        "\n",
        "\n",
        "net = Net()\n",
        "net.to(device)\n"
      ],
      "metadata": {
        "id": "xHeZFPbsJgJ4",
        "colab": {
          "base_uri": "https://localhost:8080/"
        },
        "outputId": "6110e894-e817-4799-c52c-cfbb4bdaa7fc"
      },
      "execution_count": 5,
      "outputs": [
        {
          "output_type": "execute_result",
          "data": {
            "text/plain": [
              "Net(\n",
              "  (conv1): Conv2d(1, 32, kernel_size=(3, 3), stride=(1, 1))\n",
              "  (conv1_bn): BatchNorm2d(32, eps=1e-05, momentum=0.1, affine=True, track_running_stats=True)\n",
              "  (conv2): Conv2d(32, 64, kernel_size=(3, 3), stride=(1, 1))\n",
              "  (conv2_bn): BatchNorm2d(64, eps=1e-05, momentum=0.1, affine=True, track_running_stats=True)\n",
              "  (pool): MaxPool2d(kernel_size=2, stride=2, padding=0, dilation=1, ceil_mode=False)\n",
              "  (fc1): Linear(in_features=9216, out_features=128, bias=True)\n",
              "  (fc2): Linear(in_features=128, out_features=10, bias=True)\n",
              "  (dropOut): Dropout(p=0.2, inplace=False)\n",
              ")"
            ]
          },
          "metadata": {},
          "execution_count": 5
        }
      ]
    },
    {
      "cell_type": "code",
      "source": [
        "import torch.optim as optim\n",
        "\n",
        "criterion = nn.CrossEntropyLoss()\n",
        "\n",
        "optimizer = optim.SGD(net.parameters(), lr=0.001, momentum=0.9, weight_decay=0.001)"
      ],
      "metadata": {
        "id": "BrIhpdN_txNl"
      },
      "execution_count": 6,
      "outputs": []
    },
    {
      "cell_type": "code",
      "source": [
        "epochs = 15\n",
        "\n",
        "epoch_log = []\n",
        "loss_log = []\n",
        "accuracy_log = []\n",
        "\n",
        "for epoch in range(epochs):\n",
        "  print(f'Starting Epoch: {epoch+1}...')\n",
        "\n",
        "  running_loss = 0.0\n",
        "\n",
        "  for i, data in enumerate(trainloader, 0):\n",
        "    inputs, labels = data\n",
        "\n",
        "    inputs = inputs.to(device)\n",
        "    labels = labels.to(device)\n",
        "\n",
        "    optimizer.zero_grad()\n",
        "\n",
        "    outputs = net(inputs)\n",
        "    loss = criterion(outputs, labels)\n",
        "    loss.backward()\n",
        "    optimizer.step()\n",
        "\n",
        "    running_loss += loss.item()\n",
        "    if i % 100 == 99:\n",
        "      correct = 0\n",
        "      total = 0\n",
        "\n",
        "      with torch.no_grad():\n",
        "        for data in testloader:\n",
        "          images, labels = data\n",
        "\n",
        "          images = images.to(device)\n",
        "          labels = labels.to(device)\n",
        "\n",
        "          outputs = net(images)\n",
        "\n",
        "          _, predicted = torch.max(outputs.data, 1)\n",
        "          total += labels.size(0)\n",
        "          correct += (predicted == labels).sum().item()\n",
        "\n",
        "        accuracy = 100 * correct / total\n",
        "        epoch_num = epoch + 1\n",
        "        actual_loss = running_loss / 50\n",
        "        print(f'Epoch: {epoch_num}, Mini-Batches Completed: {(i+1)}, Loss: {actual_loss:.3f}, Test Accuracy = {accuracy:.3f}%')\n",
        "        running_loss = 0.0\n",
        "\n",
        "  epoch_log.append(epoch_num)\n",
        "  loss_log.append(actual_loss)\n",
        "  accuracy_log.append(accuracy)\n",
        "\n",
        "print('Finished Training')\n",
        "\n"
      ],
      "metadata": {
        "colab": {
          "base_uri": "https://localhost:8080/"
        },
        "id": "aV4CVEFZu4rW",
        "outputId": "47afcc5b-c33a-4350-f851-ecc33f39abc6"
      },
      "execution_count": 7,
      "outputs": [
        {
          "output_type": "stream",
          "name": "stdout",
          "text": [
            "Starting Epoch: 1...\n",
            "Epoch: 1, Mini-Batches Completed: 100, Loss: 2.474, Test Accuracy = 72.780%\n",
            "Epoch: 1, Mini-Batches Completed: 200, Loss: 1.582, Test Accuracy = 75.700%\n",
            "Epoch: 1, Mini-Batches Completed: 300, Loss: 1.503, Test Accuracy = 75.200%\n",
            "Epoch: 1, Mini-Batches Completed: 400, Loss: 1.402, Test Accuracy = 78.440%\n",
            "Epoch: 1, Mini-Batches Completed: 500, Loss: 1.340, Test Accuracy = 78.400%\n",
            "Epoch: 1, Mini-Batches Completed: 600, Loss: 1.293, Test Accuracy = 78.280%\n",
            "Epoch: 1, Mini-Batches Completed: 700, Loss: 1.250, Test Accuracy = 80.750%\n",
            "Epoch: 1, Mini-Batches Completed: 800, Loss: 1.173, Test Accuracy = 80.530%\n",
            "Epoch: 1, Mini-Batches Completed: 900, Loss: 1.259, Test Accuracy = 80.030%\n",
            "Epoch: 1, Mini-Batches Completed: 1000, Loss: 1.137, Test Accuracy = 81.670%\n",
            "Epoch: 1, Mini-Batches Completed: 1100, Loss: 1.139, Test Accuracy = 81.840%\n",
            "Epoch: 1, Mini-Batches Completed: 1200, Loss: 1.146, Test Accuracy = 80.780%\n",
            "Epoch: 1, Mini-Batches Completed: 1300, Loss: 1.102, Test Accuracy = 82.410%\n",
            "Epoch: 1, Mini-Batches Completed: 1400, Loss: 1.109, Test Accuracy = 82.550%\n",
            "Epoch: 1, Mini-Batches Completed: 1500, Loss: 1.089, Test Accuracy = 81.320%\n",
            "Epoch: 1, Mini-Batches Completed: 1600, Loss: 1.099, Test Accuracy = 81.810%\n",
            "Epoch: 1, Mini-Batches Completed: 1700, Loss: 1.127, Test Accuracy = 81.980%\n",
            "Epoch: 1, Mini-Batches Completed: 1800, Loss: 1.078, Test Accuracy = 82.350%\n",
            "Starting Epoch: 2...\n",
            "Epoch: 2, Mini-Batches Completed: 100, Loss: 0.992, Test Accuracy = 82.210%\n",
            "Epoch: 2, Mini-Batches Completed: 200, Loss: 1.018, Test Accuracy = 84.640%\n",
            "Epoch: 2, Mini-Batches Completed: 300, Loss: 0.988, Test Accuracy = 82.640%\n",
            "Epoch: 2, Mini-Batches Completed: 400, Loss: 1.022, Test Accuracy = 84.470%\n",
            "Epoch: 2, Mini-Batches Completed: 500, Loss: 1.014, Test Accuracy = 83.630%\n",
            "Epoch: 2, Mini-Batches Completed: 600, Loss: 1.003, Test Accuracy = 84.390%\n",
            "Epoch: 2, Mini-Batches Completed: 700, Loss: 1.012, Test Accuracy = 84.720%\n",
            "Epoch: 2, Mini-Batches Completed: 800, Loss: 0.950, Test Accuracy = 83.820%\n",
            "Epoch: 2, Mini-Batches Completed: 900, Loss: 1.021, Test Accuracy = 85.580%\n",
            "Epoch: 2, Mini-Batches Completed: 1000, Loss: 0.983, Test Accuracy = 85.180%\n",
            "Epoch: 2, Mini-Batches Completed: 1100, Loss: 1.000, Test Accuracy = 85.940%\n",
            "Epoch: 2, Mini-Batches Completed: 1200, Loss: 0.927, Test Accuracy = 82.470%\n",
            "Epoch: 2, Mini-Batches Completed: 1300, Loss: 0.985, Test Accuracy = 84.200%\n",
            "Epoch: 2, Mini-Batches Completed: 1400, Loss: 0.917, Test Accuracy = 85.250%\n",
            "Epoch: 2, Mini-Batches Completed: 1500, Loss: 0.903, Test Accuracy = 85.700%\n",
            "Epoch: 2, Mini-Batches Completed: 1600, Loss: 0.874, Test Accuracy = 85.670%\n",
            "Epoch: 2, Mini-Batches Completed: 1700, Loss: 0.968, Test Accuracy = 85.850%\n",
            "Epoch: 2, Mini-Batches Completed: 1800, Loss: 0.919, Test Accuracy = 85.410%\n",
            "Starting Epoch: 3...\n",
            "Epoch: 3, Mini-Batches Completed: 100, Loss: 0.948, Test Accuracy = 85.070%\n",
            "Epoch: 3, Mini-Batches Completed: 200, Loss: 0.905, Test Accuracy = 85.570%\n",
            "Epoch: 3, Mini-Batches Completed: 300, Loss: 0.922, Test Accuracy = 85.690%\n",
            "Epoch: 3, Mini-Batches Completed: 400, Loss: 0.955, Test Accuracy = 85.540%\n",
            "Epoch: 3, Mini-Batches Completed: 500, Loss: 0.929, Test Accuracy = 85.990%\n",
            "Epoch: 3, Mini-Batches Completed: 600, Loss: 0.877, Test Accuracy = 85.210%\n",
            "Epoch: 3, Mini-Batches Completed: 700, Loss: 0.908, Test Accuracy = 86.560%\n",
            "Epoch: 3, Mini-Batches Completed: 800, Loss: 0.884, Test Accuracy = 85.830%\n",
            "Epoch: 3, Mini-Batches Completed: 900, Loss: 0.917, Test Accuracy = 85.700%\n",
            "Epoch: 3, Mini-Batches Completed: 1000, Loss: 0.832, Test Accuracy = 86.370%\n",
            "Epoch: 3, Mini-Batches Completed: 1100, Loss: 0.874, Test Accuracy = 86.640%\n",
            "Epoch: 3, Mini-Batches Completed: 1200, Loss: 0.854, Test Accuracy = 85.960%\n",
            "Epoch: 3, Mini-Batches Completed: 1300, Loss: 0.883, Test Accuracy = 84.840%\n",
            "Epoch: 3, Mini-Batches Completed: 1400, Loss: 0.876, Test Accuracy = 85.750%\n",
            "Epoch: 3, Mini-Batches Completed: 1500, Loss: 0.844, Test Accuracy = 86.530%\n",
            "Epoch: 3, Mini-Batches Completed: 1600, Loss: 0.805, Test Accuracy = 86.330%\n",
            "Epoch: 3, Mini-Batches Completed: 1700, Loss: 0.844, Test Accuracy = 86.210%\n",
            "Epoch: 3, Mini-Batches Completed: 1800, Loss: 0.770, Test Accuracy = 85.700%\n",
            "Starting Epoch: 4...\n",
            "Epoch: 4, Mini-Batches Completed: 100, Loss: 0.823, Test Accuracy = 86.250%\n",
            "Epoch: 4, Mini-Batches Completed: 200, Loss: 0.805, Test Accuracy = 86.920%\n",
            "Epoch: 4, Mini-Batches Completed: 300, Loss: 0.849, Test Accuracy = 86.930%\n",
            "Epoch: 4, Mini-Batches Completed: 400, Loss: 0.782, Test Accuracy = 86.950%\n",
            "Epoch: 4, Mini-Batches Completed: 500, Loss: 0.805, Test Accuracy = 85.990%\n",
            "Epoch: 4, Mini-Batches Completed: 600, Loss: 0.851, Test Accuracy = 86.810%\n",
            "Epoch: 4, Mini-Batches Completed: 700, Loss: 0.870, Test Accuracy = 86.590%\n",
            "Epoch: 4, Mini-Batches Completed: 800, Loss: 0.858, Test Accuracy = 86.360%\n",
            "Epoch: 4, Mini-Batches Completed: 900, Loss: 0.876, Test Accuracy = 87.580%\n",
            "Epoch: 4, Mini-Batches Completed: 1000, Loss: 0.838, Test Accuracy = 87.120%\n",
            "Epoch: 4, Mini-Batches Completed: 1100, Loss: 0.787, Test Accuracy = 86.350%\n",
            "Epoch: 4, Mini-Batches Completed: 1200, Loss: 0.827, Test Accuracy = 86.440%\n",
            "Epoch: 4, Mini-Batches Completed: 1300, Loss: 0.848, Test Accuracy = 86.660%\n",
            "Epoch: 4, Mini-Batches Completed: 1400, Loss: 0.778, Test Accuracy = 87.140%\n",
            "Epoch: 4, Mini-Batches Completed: 1500, Loss: 0.815, Test Accuracy = 87.390%\n",
            "Epoch: 4, Mini-Batches Completed: 1600, Loss: 0.784, Test Accuracy = 86.880%\n",
            "Epoch: 4, Mini-Batches Completed: 1700, Loss: 0.849, Test Accuracy = 87.020%\n",
            "Epoch: 4, Mini-Batches Completed: 1800, Loss: 0.805, Test Accuracy = 87.660%\n",
            "Starting Epoch: 5...\n",
            "Epoch: 5, Mini-Batches Completed: 100, Loss: 0.760, Test Accuracy = 87.050%\n",
            "Epoch: 5, Mini-Batches Completed: 200, Loss: 0.777, Test Accuracy = 86.070%\n",
            "Epoch: 5, Mini-Batches Completed: 300, Loss: 0.810, Test Accuracy = 87.590%\n",
            "Epoch: 5, Mini-Batches Completed: 400, Loss: 0.751, Test Accuracy = 86.950%\n",
            "Epoch: 5, Mini-Batches Completed: 500, Loss: 0.821, Test Accuracy = 87.090%\n",
            "Epoch: 5, Mini-Batches Completed: 600, Loss: 0.785, Test Accuracy = 87.160%\n",
            "Epoch: 5, Mini-Batches Completed: 700, Loss: 0.789, Test Accuracy = 86.900%\n",
            "Epoch: 5, Mini-Batches Completed: 800, Loss: 0.810, Test Accuracy = 87.260%\n",
            "Epoch: 5, Mini-Batches Completed: 900, Loss: 0.776, Test Accuracy = 87.260%\n",
            "Epoch: 5, Mini-Batches Completed: 1000, Loss: 0.804, Test Accuracy = 87.240%\n",
            "Epoch: 5, Mini-Batches Completed: 1100, Loss: 0.788, Test Accuracy = 87.180%\n",
            "Epoch: 5, Mini-Batches Completed: 1200, Loss: 0.792, Test Accuracy = 87.670%\n",
            "Epoch: 5, Mini-Batches Completed: 1300, Loss: 0.792, Test Accuracy = 86.770%\n",
            "Epoch: 5, Mini-Batches Completed: 1400, Loss: 0.778, Test Accuracy = 87.640%\n",
            "Epoch: 5, Mini-Batches Completed: 1500, Loss: 0.788, Test Accuracy = 87.370%\n",
            "Epoch: 5, Mini-Batches Completed: 1600, Loss: 0.803, Test Accuracy = 87.420%\n",
            "Epoch: 5, Mini-Batches Completed: 1700, Loss: 0.748, Test Accuracy = 87.720%\n",
            "Epoch: 5, Mini-Batches Completed: 1800, Loss: 0.830, Test Accuracy = 87.430%\n",
            "Starting Epoch: 6...\n",
            "Epoch: 6, Mini-Batches Completed: 100, Loss: 0.787, Test Accuracy = 88.130%\n",
            "Epoch: 6, Mini-Batches Completed: 200, Loss: 0.753, Test Accuracy = 88.350%\n",
            "Epoch: 6, Mini-Batches Completed: 300, Loss: 0.767, Test Accuracy = 87.470%\n",
            "Epoch: 6, Mini-Batches Completed: 400, Loss: 0.799, Test Accuracy = 87.590%\n",
            "Epoch: 6, Mini-Batches Completed: 500, Loss: 0.780, Test Accuracy = 88.360%\n",
            "Epoch: 6, Mini-Batches Completed: 600, Loss: 0.789, Test Accuracy = 88.100%\n",
            "Epoch: 6, Mini-Batches Completed: 700, Loss: 0.747, Test Accuracy = 88.120%\n",
            "Epoch: 6, Mini-Batches Completed: 800, Loss: 0.818, Test Accuracy = 88.250%\n",
            "Epoch: 6, Mini-Batches Completed: 900, Loss: 0.726, Test Accuracy = 87.880%\n",
            "Epoch: 6, Mini-Batches Completed: 1000, Loss: 0.675, Test Accuracy = 87.640%\n",
            "Epoch: 6, Mini-Batches Completed: 1100, Loss: 0.728, Test Accuracy = 88.070%\n",
            "Epoch: 6, Mini-Batches Completed: 1200, Loss: 0.803, Test Accuracy = 88.100%\n",
            "Epoch: 6, Mini-Batches Completed: 1300, Loss: 0.751, Test Accuracy = 87.820%\n",
            "Epoch: 6, Mini-Batches Completed: 1400, Loss: 0.823, Test Accuracy = 87.910%\n",
            "Epoch: 6, Mini-Batches Completed: 1500, Loss: 0.739, Test Accuracy = 87.160%\n",
            "Epoch: 6, Mini-Batches Completed: 1600, Loss: 0.682, Test Accuracy = 87.350%\n",
            "Epoch: 6, Mini-Batches Completed: 1700, Loss: 0.735, Test Accuracy = 87.890%\n",
            "Epoch: 6, Mini-Batches Completed: 1800, Loss: 0.710, Test Accuracy = 87.780%\n",
            "Starting Epoch: 7...\n",
            "Epoch: 7, Mini-Batches Completed: 100, Loss: 0.793, Test Accuracy = 87.050%\n",
            "Epoch: 7, Mini-Batches Completed: 200, Loss: 0.729, Test Accuracy = 88.340%\n",
            "Epoch: 7, Mini-Batches Completed: 300, Loss: 0.695, Test Accuracy = 87.850%\n",
            "Epoch: 7, Mini-Batches Completed: 400, Loss: 0.721, Test Accuracy = 88.260%\n",
            "Epoch: 7, Mini-Batches Completed: 500, Loss: 0.714, Test Accuracy = 88.030%\n",
            "Epoch: 7, Mini-Batches Completed: 600, Loss: 0.694, Test Accuracy = 88.300%\n",
            "Epoch: 7, Mini-Batches Completed: 700, Loss: 0.741, Test Accuracy = 87.970%\n",
            "Epoch: 7, Mini-Batches Completed: 800, Loss: 0.738, Test Accuracy = 88.140%\n",
            "Epoch: 7, Mini-Batches Completed: 900, Loss: 0.684, Test Accuracy = 87.550%\n",
            "Epoch: 7, Mini-Batches Completed: 1000, Loss: 0.715, Test Accuracy = 88.030%\n",
            "Epoch: 7, Mini-Batches Completed: 1100, Loss: 0.758, Test Accuracy = 88.290%\n",
            "Epoch: 7, Mini-Batches Completed: 1200, Loss: 0.727, Test Accuracy = 87.840%\n",
            "Epoch: 7, Mini-Batches Completed: 1300, Loss: 0.783, Test Accuracy = 88.340%\n",
            "Epoch: 7, Mini-Batches Completed: 1400, Loss: 0.741, Test Accuracy = 87.250%\n",
            "Epoch: 7, Mini-Batches Completed: 1500, Loss: 0.732, Test Accuracy = 85.580%\n",
            "Epoch: 7, Mini-Batches Completed: 1600, Loss: 0.767, Test Accuracy = 88.080%\n",
            "Epoch: 7, Mini-Batches Completed: 1700, Loss: 0.752, Test Accuracy = 87.760%\n",
            "Epoch: 7, Mini-Batches Completed: 1800, Loss: 0.679, Test Accuracy = 88.190%\n",
            "Starting Epoch: 8...\n",
            "Epoch: 8, Mini-Batches Completed: 100, Loss: 0.752, Test Accuracy = 87.070%\n",
            "Epoch: 8, Mini-Batches Completed: 200, Loss: 0.652, Test Accuracy = 88.760%\n",
            "Epoch: 8, Mini-Batches Completed: 300, Loss: 0.737, Test Accuracy = 88.050%\n",
            "Epoch: 8, Mini-Batches Completed: 400, Loss: 0.718, Test Accuracy = 87.650%\n",
            "Epoch: 8, Mini-Batches Completed: 500, Loss: 0.712, Test Accuracy = 88.710%\n",
            "Epoch: 8, Mini-Batches Completed: 600, Loss: 0.710, Test Accuracy = 88.240%\n",
            "Epoch: 8, Mini-Batches Completed: 700, Loss: 0.704, Test Accuracy = 88.740%\n",
            "Epoch: 8, Mini-Batches Completed: 800, Loss: 0.722, Test Accuracy = 88.170%\n",
            "Epoch: 8, Mini-Batches Completed: 900, Loss: 0.716, Test Accuracy = 88.580%\n",
            "Epoch: 8, Mini-Batches Completed: 1000, Loss: 0.722, Test Accuracy = 87.680%\n",
            "Epoch: 8, Mini-Batches Completed: 1100, Loss: 0.744, Test Accuracy = 88.320%\n",
            "Epoch: 8, Mini-Batches Completed: 1200, Loss: 0.696, Test Accuracy = 88.170%\n",
            "Epoch: 8, Mini-Batches Completed: 1300, Loss: 0.701, Test Accuracy = 88.390%\n",
            "Epoch: 8, Mini-Batches Completed: 1400, Loss: 0.745, Test Accuracy = 87.770%\n",
            "Epoch: 8, Mini-Batches Completed: 1500, Loss: 0.717, Test Accuracy = 88.960%\n",
            "Epoch: 8, Mini-Batches Completed: 1600, Loss: 0.675, Test Accuracy = 87.750%\n",
            "Epoch: 8, Mini-Batches Completed: 1700, Loss: 0.726, Test Accuracy = 88.200%\n",
            "Epoch: 8, Mini-Batches Completed: 1800, Loss: 0.678, Test Accuracy = 88.900%\n",
            "Starting Epoch: 9...\n",
            "Epoch: 9, Mini-Batches Completed: 100, Loss: 0.718, Test Accuracy = 88.720%\n",
            "Epoch: 9, Mini-Batches Completed: 200, Loss: 0.668, Test Accuracy = 88.190%\n",
            "Epoch: 9, Mini-Batches Completed: 300, Loss: 0.680, Test Accuracy = 88.540%\n",
            "Epoch: 9, Mini-Batches Completed: 400, Loss: 0.717, Test Accuracy = 88.040%\n",
            "Epoch: 9, Mini-Batches Completed: 500, Loss: 0.711, Test Accuracy = 88.200%\n",
            "Epoch: 9, Mini-Batches Completed: 600, Loss: 0.705, Test Accuracy = 88.620%\n",
            "Epoch: 9, Mini-Batches Completed: 700, Loss: 0.691, Test Accuracy = 88.610%\n",
            "Epoch: 9, Mini-Batches Completed: 800, Loss: 0.672, Test Accuracy = 88.920%\n",
            "Epoch: 9, Mini-Batches Completed: 900, Loss: 0.757, Test Accuracy = 88.990%\n",
            "Epoch: 9, Mini-Batches Completed: 1000, Loss: 0.687, Test Accuracy = 88.620%\n",
            "Epoch: 9, Mini-Batches Completed: 1100, Loss: 0.706, Test Accuracy = 89.070%\n",
            "Epoch: 9, Mini-Batches Completed: 1200, Loss: 0.706, Test Accuracy = 88.550%\n",
            "Epoch: 9, Mini-Batches Completed: 1300, Loss: 0.740, Test Accuracy = 88.890%\n",
            "Epoch: 9, Mini-Batches Completed: 1400, Loss: 0.691, Test Accuracy = 88.050%\n",
            "Epoch: 9, Mini-Batches Completed: 1500, Loss: 0.675, Test Accuracy = 88.230%\n",
            "Epoch: 9, Mini-Batches Completed: 1600, Loss: 0.690, Test Accuracy = 88.320%\n",
            "Epoch: 9, Mini-Batches Completed: 1700, Loss: 0.634, Test Accuracy = 88.850%\n",
            "Epoch: 9, Mini-Batches Completed: 1800, Loss: 0.670, Test Accuracy = 88.800%\n",
            "Starting Epoch: 10...\n",
            "Epoch: 10, Mini-Batches Completed: 100, Loss: 0.657, Test Accuracy = 88.420%\n",
            "Epoch: 10, Mini-Batches Completed: 200, Loss: 0.713, Test Accuracy = 88.200%\n",
            "Epoch: 10, Mini-Batches Completed: 300, Loss: 0.696, Test Accuracy = 89.070%\n",
            "Epoch: 10, Mini-Batches Completed: 400, Loss: 0.659, Test Accuracy = 89.210%\n",
            "Epoch: 10, Mini-Batches Completed: 500, Loss: 0.721, Test Accuracy = 87.960%\n",
            "Epoch: 10, Mini-Batches Completed: 600, Loss: 0.688, Test Accuracy = 89.190%\n",
            "Epoch: 10, Mini-Batches Completed: 700, Loss: 0.720, Test Accuracy = 88.490%\n",
            "Epoch: 10, Mini-Batches Completed: 800, Loss: 0.675, Test Accuracy = 88.540%\n",
            "Epoch: 10, Mini-Batches Completed: 900, Loss: 0.675, Test Accuracy = 88.960%\n",
            "Epoch: 10, Mini-Batches Completed: 1000, Loss: 0.645, Test Accuracy = 88.750%\n",
            "Epoch: 10, Mini-Batches Completed: 1100, Loss: 0.718, Test Accuracy = 88.700%\n",
            "Epoch: 10, Mini-Batches Completed: 1200, Loss: 0.710, Test Accuracy = 88.690%\n",
            "Epoch: 10, Mini-Batches Completed: 1300, Loss: 0.687, Test Accuracy = 88.370%\n",
            "Epoch: 10, Mini-Batches Completed: 1400, Loss: 0.688, Test Accuracy = 89.030%\n",
            "Epoch: 10, Mini-Batches Completed: 1500, Loss: 0.633, Test Accuracy = 88.550%\n",
            "Epoch: 10, Mini-Batches Completed: 1600, Loss: 0.691, Test Accuracy = 89.490%\n",
            "Epoch: 10, Mini-Batches Completed: 1700, Loss: 0.688, Test Accuracy = 89.310%\n",
            "Epoch: 10, Mini-Batches Completed: 1800, Loss: 0.604, Test Accuracy = 89.140%\n",
            "Starting Epoch: 11...\n",
            "Epoch: 11, Mini-Batches Completed: 100, Loss: 0.639, Test Accuracy = 89.140%\n",
            "Epoch: 11, Mini-Batches Completed: 200, Loss: 0.670, Test Accuracy = 89.240%\n",
            "Epoch: 11, Mini-Batches Completed: 300, Loss: 0.671, Test Accuracy = 88.780%\n",
            "Epoch: 11, Mini-Batches Completed: 400, Loss: 0.673, Test Accuracy = 88.660%\n",
            "Epoch: 11, Mini-Batches Completed: 500, Loss: 0.656, Test Accuracy = 87.560%\n",
            "Epoch: 11, Mini-Batches Completed: 600, Loss: 0.681, Test Accuracy = 89.210%\n",
            "Epoch: 11, Mini-Batches Completed: 700, Loss: 0.623, Test Accuracy = 89.010%\n",
            "Epoch: 11, Mini-Batches Completed: 800, Loss: 0.707, Test Accuracy = 89.150%\n",
            "Epoch: 11, Mini-Batches Completed: 900, Loss: 0.689, Test Accuracy = 88.500%\n",
            "Epoch: 11, Mini-Batches Completed: 1000, Loss: 0.662, Test Accuracy = 88.910%\n",
            "Epoch: 11, Mini-Batches Completed: 1100, Loss: 0.661, Test Accuracy = 88.430%\n",
            "Epoch: 11, Mini-Batches Completed: 1200, Loss: 0.607, Test Accuracy = 88.560%\n",
            "Epoch: 11, Mini-Batches Completed: 1300, Loss: 0.648, Test Accuracy = 89.190%\n",
            "Epoch: 11, Mini-Batches Completed: 1400, Loss: 0.686, Test Accuracy = 88.820%\n",
            "Epoch: 11, Mini-Batches Completed: 1500, Loss: 0.690, Test Accuracy = 87.620%\n",
            "Epoch: 11, Mini-Batches Completed: 1600, Loss: 0.653, Test Accuracy = 89.400%\n",
            "Epoch: 11, Mini-Batches Completed: 1700, Loss: 0.680, Test Accuracy = 88.440%\n",
            "Epoch: 11, Mini-Batches Completed: 1800, Loss: 0.677, Test Accuracy = 89.320%\n",
            "Starting Epoch: 12...\n",
            "Epoch: 12, Mini-Batches Completed: 100, Loss: 0.620, Test Accuracy = 88.410%\n",
            "Epoch: 12, Mini-Batches Completed: 200, Loss: 0.653, Test Accuracy = 89.170%\n",
            "Epoch: 12, Mini-Batches Completed: 300, Loss: 0.635, Test Accuracy = 88.890%\n",
            "Epoch: 12, Mini-Batches Completed: 400, Loss: 0.667, Test Accuracy = 89.180%\n",
            "Epoch: 12, Mini-Batches Completed: 500, Loss: 0.650, Test Accuracy = 88.650%\n",
            "Epoch: 12, Mini-Batches Completed: 600, Loss: 0.710, Test Accuracy = 89.160%\n",
            "Epoch: 12, Mini-Batches Completed: 700, Loss: 0.626, Test Accuracy = 89.130%\n",
            "Epoch: 12, Mini-Batches Completed: 800, Loss: 0.684, Test Accuracy = 89.520%\n",
            "Epoch: 12, Mini-Batches Completed: 900, Loss: 0.669, Test Accuracy = 89.200%\n",
            "Epoch: 12, Mini-Batches Completed: 1000, Loss: 0.692, Test Accuracy = 89.090%\n",
            "Epoch: 12, Mini-Batches Completed: 1100, Loss: 0.616, Test Accuracy = 89.610%\n",
            "Epoch: 12, Mini-Batches Completed: 1200, Loss: 0.640, Test Accuracy = 89.300%\n",
            "Epoch: 12, Mini-Batches Completed: 1300, Loss: 0.668, Test Accuracy = 88.980%\n",
            "Epoch: 12, Mini-Batches Completed: 1400, Loss: 0.592, Test Accuracy = 88.950%\n",
            "Epoch: 12, Mini-Batches Completed: 1500, Loss: 0.636, Test Accuracy = 89.240%\n",
            "Epoch: 12, Mini-Batches Completed: 1600, Loss: 0.676, Test Accuracy = 87.350%\n",
            "Epoch: 12, Mini-Batches Completed: 1700, Loss: 0.649, Test Accuracy = 89.190%\n",
            "Epoch: 12, Mini-Batches Completed: 1800, Loss: 0.657, Test Accuracy = 89.640%\n",
            "Starting Epoch: 13...\n",
            "Epoch: 13, Mini-Batches Completed: 100, Loss: 0.641, Test Accuracy = 89.390%\n",
            "Epoch: 13, Mini-Batches Completed: 200, Loss: 0.635, Test Accuracy = 88.640%\n",
            "Epoch: 13, Mini-Batches Completed: 300, Loss: 0.665, Test Accuracy = 88.960%\n",
            "Epoch: 13, Mini-Batches Completed: 400, Loss: 0.637, Test Accuracy = 89.550%\n",
            "Epoch: 13, Mini-Batches Completed: 500, Loss: 0.621, Test Accuracy = 89.020%\n",
            "Epoch: 13, Mini-Batches Completed: 600, Loss: 0.650, Test Accuracy = 89.570%\n",
            "Epoch: 13, Mini-Batches Completed: 700, Loss: 0.643, Test Accuracy = 88.960%\n",
            "Epoch: 13, Mini-Batches Completed: 800, Loss: 0.640, Test Accuracy = 89.540%\n",
            "Epoch: 13, Mini-Batches Completed: 900, Loss: 0.637, Test Accuracy = 88.640%\n",
            "Epoch: 13, Mini-Batches Completed: 1000, Loss: 0.640, Test Accuracy = 89.220%\n",
            "Epoch: 13, Mini-Batches Completed: 1100, Loss: 0.644, Test Accuracy = 89.290%\n",
            "Epoch: 13, Mini-Batches Completed: 1200, Loss: 0.587, Test Accuracy = 89.330%\n",
            "Epoch: 13, Mini-Batches Completed: 1300, Loss: 0.650, Test Accuracy = 89.030%\n",
            "Epoch: 13, Mini-Batches Completed: 1400, Loss: 0.640, Test Accuracy = 88.830%\n",
            "Epoch: 13, Mini-Batches Completed: 1500, Loss: 0.640, Test Accuracy = 89.660%\n",
            "Epoch: 13, Mini-Batches Completed: 1600, Loss: 0.627, Test Accuracy = 88.650%\n",
            "Epoch: 13, Mini-Batches Completed: 1700, Loss: 0.656, Test Accuracy = 89.570%\n",
            "Epoch: 13, Mini-Batches Completed: 1800, Loss: 0.671, Test Accuracy = 88.850%\n",
            "Starting Epoch: 14...\n",
            "Epoch: 14, Mini-Batches Completed: 100, Loss: 0.646, Test Accuracy = 89.090%\n",
            "Epoch: 14, Mini-Batches Completed: 200, Loss: 0.622, Test Accuracy = 89.690%\n",
            "Epoch: 14, Mini-Batches Completed: 300, Loss: 0.624, Test Accuracy = 89.750%\n",
            "Epoch: 14, Mini-Batches Completed: 400, Loss: 0.602, Test Accuracy = 89.270%\n",
            "Epoch: 14, Mini-Batches Completed: 500, Loss: 0.631, Test Accuracy = 89.670%\n",
            "Epoch: 14, Mini-Batches Completed: 600, Loss: 0.654, Test Accuracy = 87.550%\n",
            "Epoch: 14, Mini-Batches Completed: 700, Loss: 0.642, Test Accuracy = 88.180%\n",
            "Epoch: 14, Mini-Batches Completed: 800, Loss: 0.615, Test Accuracy = 89.380%\n",
            "Epoch: 14, Mini-Batches Completed: 900, Loss: 0.644, Test Accuracy = 89.490%\n",
            "Epoch: 14, Mini-Batches Completed: 1000, Loss: 0.652, Test Accuracy = 88.940%\n",
            "Epoch: 14, Mini-Batches Completed: 1100, Loss: 0.639, Test Accuracy = 89.930%\n",
            "Epoch: 14, Mini-Batches Completed: 1200, Loss: 0.599, Test Accuracy = 89.630%\n",
            "Epoch: 14, Mini-Batches Completed: 1300, Loss: 0.630, Test Accuracy = 89.730%\n",
            "Epoch: 14, Mini-Batches Completed: 1400, Loss: 0.637, Test Accuracy = 89.250%\n",
            "Epoch: 14, Mini-Batches Completed: 1500, Loss: 0.690, Test Accuracy = 89.710%\n",
            "Epoch: 14, Mini-Batches Completed: 1600, Loss: 0.639, Test Accuracy = 89.110%\n",
            "Epoch: 14, Mini-Batches Completed: 1700, Loss: 0.623, Test Accuracy = 88.900%\n",
            "Epoch: 14, Mini-Batches Completed: 1800, Loss: 0.607, Test Accuracy = 90.080%\n",
            "Starting Epoch: 15...\n",
            "Epoch: 15, Mini-Batches Completed: 100, Loss: 0.611, Test Accuracy = 88.930%\n",
            "Epoch: 15, Mini-Batches Completed: 200, Loss: 0.614, Test Accuracy = 89.560%\n",
            "Epoch: 15, Mini-Batches Completed: 300, Loss: 0.664, Test Accuracy = 89.850%\n",
            "Epoch: 15, Mini-Batches Completed: 400, Loss: 0.583, Test Accuracy = 89.270%\n",
            "Epoch: 15, Mini-Batches Completed: 500, Loss: 0.603, Test Accuracy = 88.540%\n",
            "Epoch: 15, Mini-Batches Completed: 600, Loss: 0.663, Test Accuracy = 89.950%\n",
            "Epoch: 15, Mini-Batches Completed: 700, Loss: 0.664, Test Accuracy = 89.560%\n",
            "Epoch: 15, Mini-Batches Completed: 800, Loss: 0.603, Test Accuracy = 89.300%\n",
            "Epoch: 15, Mini-Batches Completed: 900, Loss: 0.609, Test Accuracy = 88.850%\n",
            "Epoch: 15, Mini-Batches Completed: 1000, Loss: 0.578, Test Accuracy = 89.670%\n",
            "Epoch: 15, Mini-Batches Completed: 1100, Loss: 0.637, Test Accuracy = 89.600%\n",
            "Epoch: 15, Mini-Batches Completed: 1200, Loss: 0.583, Test Accuracy = 89.610%\n",
            "Epoch: 15, Mini-Batches Completed: 1300, Loss: 0.631, Test Accuracy = 89.040%\n",
            "Epoch: 15, Mini-Batches Completed: 1400, Loss: 0.674, Test Accuracy = 89.380%\n",
            "Epoch: 15, Mini-Batches Completed: 1500, Loss: 0.608, Test Accuracy = 89.110%\n",
            "Epoch: 15, Mini-Batches Completed: 1600, Loss: 0.673, Test Accuracy = 89.780%\n",
            "Epoch: 15, Mini-Batches Completed: 1700, Loss: 0.582, Test Accuracy = 89.580%\n",
            "Epoch: 15, Mini-Batches Completed: 1800, Loss: 0.659, Test Accuracy = 89.670%\n",
            "Finished Training\n"
          ]
        }
      ]
    },
    {
      "cell_type": "code",
      "source": [
        "correct = 0\n",
        "total = 0\n",
        "\n",
        "with torch.no_grad():\n",
        "  for data in testloader:\n",
        "    images, labels = data\n",
        "    images = images.to(device)\n",
        "    labels = labels.to(device)\n",
        "    outputs = net(images)\n",
        "    _, predicted = torch.max(outputs.data, 1)\n",
        "    total += labels.size(0)\n",
        "    correct += (predicted == labels).sum().item()\n",
        "\n",
        "accuracy = 100 * correct / total\n",
        "print(f'Accuracy of the network on the 10000 test images: {accuracy:.4}%')"
      ],
      "metadata": {
        "colab": {
          "base_uri": "https://localhost:8080/"
        },
        "id": "5IqsHz_HxkC9",
        "outputId": "1e0f110e-0695-4ce5-dabf-a6b438d51b21"
      },
      "execution_count": 9,
      "outputs": [
        {
          "output_type": "stream",
          "name": "stdout",
          "text": [
            "Accuracy of the network on the 10000 test images: 89.61%\n"
          ]
        }
      ]
    },
    {
      "cell_type": "code",
      "source": [
        "import matplotlib.pyplot as plt\n",
        "\n",
        "fig, ax1 = plt.subplots()\n",
        "\n",
        "plt.title(\"Accuracy & Loss vs Epoch Mini-Batches\")\n",
        "plt.xticks(rotation=45)\n",
        "\n",
        "ax2 = ax1.twinx()\n",
        "\n",
        "ax1.plot(epoch_log, loss_log, 'g-')\n",
        "ax2.plot(epoch_log, accuracy_log, 'b-')\n",
        "\n",
        "ax1.set_xlabel('Epochs')\n",
        "ax1.set_ylabel('Loss', color='g')\n",
        "ax2.set_ylabel('Test Accuracy', color='b')\n",
        "\n",
        "plt.show()"
      ],
      "metadata": {
        "colab": {
          "base_uri": "https://localhost:8080/",
          "height": 480
        },
        "id": "Ur-xJLCh1m5A",
        "outputId": "a411c35c-3d99-4001-bcc9-960157a2c675"
      },
      "execution_count": 10,
      "outputs": [
        {
          "output_type": "display_data",
          "data": {
            "text/plain": [
              "<Figure size 640x480 with 2 Axes>"
            ],
            "image/png": "[encoded data removed]"
          },
          "metadata": {}
        }
      ]
    },
    {
      "cell_type": "code",
      "source": [],
      "metadata": {
        "id": "dbv9zWh82P1U"
      },
      "execution_count": null,
      "outputs": []
    }
  ]
}