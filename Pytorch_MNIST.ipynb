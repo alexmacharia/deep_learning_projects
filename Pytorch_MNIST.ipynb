{
  "nbformat": 4,
  "nbformat_minor": 0,
  "metadata": {
    "colab": {
      "provenance": [],
      "authorship_tag": "ABX9TyO9PerGOr4I72WU+zSKx2IZ",
      "include_colab_link": true
    },
    "kernelspec": {
      "name": "python3",
      "display_name": "Python 3"
    },
    "language_info": {
      "name": "python"
    },
    "accelerator": "GPU",
    "gpuClass": "premium",
    "widgets": {
      "application/vnd.jupyter.widget-state+json": {
        "0c2ab619910b4ee59bcd96598ea4f63b": {
          "model_module": "@jupyter-widgets/controls",
          "model_name": "HBoxModel",
          "model_module_version": "1.5.0",
          "state": {
            "_dom_classes": [],
            "_model_module": "@jupyter-widgets/controls",
            "_model_module_version": "1.5.0",
            "_model_name": "HBoxModel",
            "_view_count": null,
            "_view_module": "@jupyter-widgets/controls",
            "_view_module_version": "1.5.0",
            "_view_name": "HBoxView",
            "box_style": "",
            "children": [
              "IPY_MODEL_77f2fafddf524e1d824d619482ee02ce",
              "IPY_MODEL_5e10d964d8374bc2a7e01fdc90fe6abc",
              "IPY_MODEL_6d52f9cb60e8486ba978ddc50b51a733"
            ],
            "layout": "IPY_MODEL_47df529ca70f4848969116f9bd3ce159"
          }
        },
        "77f2fafddf524e1d824d619482ee02ce": {
          "model_module": "@jupyter-widgets/controls",
          "model_name": "HTMLModel",
          "model_module_version": "1.5.0",
          "state": {
            "_dom_classes": [],
            "_model_module": "@jupyter-widgets/controls",
            "_model_module_version": "1.5.0",
            "_model_name": "HTMLModel",
            "_view_count": null,
            "_view_module": "@jupyter-widgets/controls",
            "_view_module_version": "1.5.0",
            "_view_name": "HTMLView",
            "description": "",
            "description_tooltip": null,
            "layout": "IPY_MODEL_ba2ddd626b0443bcbe986d53de1147f8",
            "placeholder": "​",
            "style": "IPY_MODEL_c4da2186295f46adbb19e940057380e6",
            "value": "100%"
          }
        },
        "5e10d964d8374bc2a7e01fdc90fe6abc": {
          "model_module": "@jupyter-widgets/controls",
          "model_name": "FloatProgressModel",
          "model_module_version": "1.5.0",
          "state": {
            "_dom_classes": [],
            "_model_module": "@jupyter-widgets/controls",
            "_model_module_version": "1.5.0",
            "_model_name": "FloatProgressModel",
            "_view_count": null,
            "_view_module": "@jupyter-widgets/controls",
            "_view_module_version": "1.5.0",
            "_view_name": "ProgressView",
            "bar_style": "success",
            "description": "",
            "description_tooltip": null,
            "layout": "IPY_MODEL_41fcca0984914841b63270bdf9d1c51d",
            "max": 9912422,
            "min": 0,
            "orientation": "horizontal",
            "style": "IPY_MODEL_f752daf644e940ec82a3abcc4778be2a",
            "value": 9912422
          }
        },
        "6d52f9cb60e8486ba978ddc50b51a733": {
          "model_module": "@jupyter-widgets/controls",
          "model_name": "HTMLModel",
          "model_module_version": "1.5.0",
          "state": {
            "_dom_classes": [],
            "_model_module": "@jupyter-widgets/controls",
            "_model_module_version": "1.5.0",
            "_model_name": "HTMLModel",
            "_view_count": null,
            "_view_module": "@jupyter-widgets/controls",
            "_view_module_version": "1.5.0",
            "_view_name": "HTMLView",
            "description": "",
            "description_tooltip": null,
            "layout": "IPY_MODEL_954517d607d245cea7e763b98a6a9524",
            "placeholder": "​",
            "style": "IPY_MODEL_2002971700304eefa814145f1e23e018",
            "value": " 9912422/9912422 [00:00&lt;00:00, 60289727.69it/s]"
          }
        },
        "47df529ca70f4848969116f9bd3ce159": {
          "model_module": "@jupyter-widgets/base",
          "model_name": "LayoutModel",
          "model_module_version": "1.2.0",
          "state": {
            "_model_module": "@jupyter-widgets/base",
            "_model_module_version": "1.2.0",
            "_model_name": "LayoutModel",
            "_view_count": null,
            "_view_module": "@jupyter-widgets/base",
            "_view_module_version": "1.2.0",
            "_view_name": "LayoutView",
            "align_content": null,
            "align_items": null,
            "align_self": null,
            "border": null,
            "bottom": null,
            "display": null,
            "flex": null,
            "flex_flow": null,
            "grid_area": null,
            "grid_auto_columns": null,
            "grid_auto_flow": null,
            "grid_auto_rows": null,
            "grid_column": null,
            "grid_gap": null,
            "grid_row": null,
            "grid_template_areas": null,
            "grid_template_columns": null,
            "grid_template_rows": null,
            "height": null,
            "justify_content": null,
            "justify_items": null,
            "left": null,
            "margin": null,
            "max_height": null,
            "max_width": null,
            "min_height": null,
            "min_width": null,
            "object_fit": null,
            "object_position": null,
            "order": null,
            "overflow": null,
            "overflow_x": null,
            "overflow_y": null,
            "padding": null,
            "right": null,
            "top": null,
            "visibility": null,
            "width": null
          }
        },
        "ba2ddd626b0443bcbe986d53de1147f8": {
          "model_module": "@jupyter-widgets/base",
          "model_name": "LayoutModel",
          "model_module_version": "1.2.0",
          "state": {
            "_model_module": "@jupyter-widgets/base",
            "_model_module_version": "1.2.0",
            "_model_name": "LayoutModel",
            "_view_count": null,
            "_view_module": "@jupyter-widgets/base",
            "_view_module_version": "1.2.0",
            "_view_name": "LayoutView",
            "align_content": null,
            "align_items": null,
            "align_self": null,
            "border": null,
            "bottom": null,
            "display": null,
            "flex": null,
            "flex_flow": null,
            "grid_area": null,
            "grid_auto_columns": null,
            "grid_auto_flow": null,
            "grid_auto_rows": null,
            "grid_column": null,
            "grid_gap": null,
            "grid_row": null,
            "grid_template_areas": null,
            "grid_template_columns": null,
            "grid_template_rows": null,
            "height": null,
            "justify_content": null,
            "justify_items": null,
            "left": null,
            "margin": null,
            "max_height": null,
            "max_width": null,
            "min_height": null,
            "min_width": null,
            "object_fit": null,
            "object_position": null,
            "order": null,
            "overflow": null,
            "overflow_x": null,
            "overflow_y": null,
            "padding": null,
            "right": null,
            "top": null,
            "visibility": null,
            "width": null
          }
        },
        "c4da2186295f46adbb19e940057380e6": {
          "model_module": "@jupyter-widgets/controls",
          "model_name": "DescriptionStyleModel",
          "model_module_version": "1.5.0",
          "state": {
            "_model_module": "@jupyter-widgets/controls",
            "_model_module_version": "1.5.0",
            "_model_name": "DescriptionStyleModel",
            "_view_count": null,
            "_view_module": "@jupyter-widgets/base",
            "_view_module_version": "1.2.0",
            "_view_name": "StyleView",
            "description_width": ""
          }
        },
        "41fcca0984914841b63270bdf9d1c51d": {
          "model_module": "@jupyter-widgets/base",
          "model_name": "LayoutModel",
          "model_module_version": "1.2.0",
          "state": {
            "_model_module": "@jupyter-widgets/base",
            "_model_module_version": "1.2.0",
            "_model_name": "LayoutModel",
            "_view_count": null,
            "_view_module": "@jupyter-widgets/base",
            "_view_module_version": "1.2.0",
            "_view_name": "LayoutView",
            "align_content": null,
            "align_items": null,
            "align_self": null,
            "border": null,
            "bottom": null,
            "display": null,
            "flex": null,
            "flex_flow": null,
            "grid_area": null,
            "grid_auto_columns": null,
            "grid_auto_flow": null,
            "grid_auto_rows": null,
            "grid_column": null,
            "grid_gap": null,
            "grid_row": null,
            "grid_template_areas": null,
            "grid_template_columns": null,
            "grid_template_rows": null,
            "height": null,
            "justify_content": null,
            "justify_items": null,
            "left": null,
            "margin": null,
            "max_height": null,
            "max_width": null,
            "min_height": null,
            "min_width": null,
            "object_fit": null,
            "object_position": null,
            "order": null,
            "overflow": null,
            "overflow_x": null,
            "overflow_y": null,
            "padding": null,
            "right": null,
            "top": null,
            "visibility": null,
            "width": null
          }
        },
        "f752daf644e940ec82a3abcc4778be2a": {
          "model_module": "@jupyter-widgets/controls",
          "model_name": "ProgressStyleModel",
          "model_module_version": "1.5.0",
          "state": {
            "_model_module": "@jupyter-widgets/controls",
            "_model_module_version": "1.5.0",
            "_model_name": "ProgressStyleModel",
            "_view_count": null,
            "_view_module": "@jupyter-widgets/base",
            "_view_module_version": "1.2.0",
            "_view_name": "StyleView",
            "bar_color": null,
            "description_width": ""
          }
        },
        "954517d607d245cea7e763b98a6a9524": {
          "model_module": "@jupyter-widgets/base",
          "model_name": "LayoutModel",
          "model_module_version": "1.2.0",
          "state": {
            "_model_module": "@jupyter-widgets/base",
            "_model_module_version": "1.2.0",
            "_model_name": "LayoutModel",
            "_view_count": null,
            "_view_module": "@jupyter-widgets/base",
            "_view_module_version": "1.2.0",
            "_view_name": "LayoutView",
            "align_content": null,
            "align_items": null,
            "align_self": null,
            "border": null,
            "bottom": null,
            "display": null,
            "flex": null,
            "flex_flow": null,
            "grid_area": null,
            "grid_auto_columns": null,
            "grid_auto_flow": null,
            "grid_auto_rows": null,
            "grid_column": null,
            "grid_gap": null,
            "grid_row": null,
            "grid_template_areas": null,
            "grid_template_columns": null,
            "grid_template_rows": null,
            "height": null,
            "justify_content": null,
            "justify_items": null,
            "left": null,
            "margin": null,
            "max_height": null,
            "max_width": null,
            "min_height": null,
            "min_width": null,
            "object_fit": null,
            "object_position": null,
            "order": null,
            "overflow": null,
            "overflow_x": null,
            "overflow_y": null,
            "padding": null,
            "right": null,
            "top": null,
            "visibility": null,
            "width": null
          }
        },
        "2002971700304eefa814145f1e23e018": {
          "model_module": "@jupyter-widgets/controls",
          "model_name": "DescriptionStyleModel",
          "model_module_version": "1.5.0",
          "state": {
            "_model_module": "@jupyter-widgets/controls",
            "_model_module_version": "1.5.0",
            "_model_name": "DescriptionStyleModel",
            "_view_count": null,
            "_view_module": "@jupyter-widgets/base",
            "_view_module_version": "1.2.0",
            "_view_name": "StyleView",
            "description_width": ""
          }
        },
        "de7406fa021a45909286d7a8fb31b4ea": {
          "model_module": "@jupyter-widgets/controls",
          "model_name": "HBoxModel",
          "model_module_version": "1.5.0",
          "state": {
            "_dom_classes": [],
            "_model_module": "@jupyter-widgets/controls",
            "_model_module_version": "1.5.0",
            "_model_name": "HBoxModel",
            "_view_count": null,
            "_view_module": "@jupyter-widgets/controls",
            "_view_module_version": "1.5.0",
            "_view_name": "HBoxView",
            "box_style": "",
            "children": [
              "IPY_MODEL_d7675741cef84e88bb449b762daeeb45",
              "IPY_MODEL_a5ef69922c0444e7863e96245d11bb44",
              "IPY_MODEL_a93388d5f9e74e14aa610e332386bf7e"
            ],
            "layout": "IPY_MODEL_3ef3cfee00ba46beba6abf171438534f"
          }
        },
        "d7675741cef84e88bb449b762daeeb45": {
          "model_module": "@jupyter-widgets/controls",
          "model_name": "HTMLModel",
          "model_module_version": "1.5.0",
          "state": {
            "_dom_classes": [],
            "_model_module": "@jupyter-widgets/controls",
            "_model_module_version": "1.5.0",
            "_model_name": "HTMLModel",
            "_view_count": null,
            "_view_module": "@jupyter-widgets/controls",
            "_view_module_version": "1.5.0",
            "_view_name": "HTMLView",
            "description": "",
            "description_tooltip": null,
            "layout": "IPY_MODEL_a616f55f59dd40ddbabe19ee9f02a079",
            "placeholder": "​",
            "style": "IPY_MODEL_beedd1da2f1a4b02b9a4255b6e3b1d67",
            "value": "100%"
          }
        },
        "a5ef69922c0444e7863e96245d11bb44": {
          "model_module": "@jupyter-widgets/controls",
          "model_name": "FloatProgressModel",
          "model_module_version": "1.5.0",
          "state": {
            "_dom_classes": [],
            "_model_module": "@jupyter-widgets/controls",
            "_model_module_version": "1.5.0",
            "_model_name": "FloatProgressModel",
            "_view_count": null,
            "_view_module": "@jupyter-widgets/controls",
            "_view_module_version": "1.5.0",
            "_view_name": "ProgressView",
            "bar_style": "success",
            "description": "",
            "description_tooltip": null,
            "layout": "IPY_MODEL_107b22daadc04b59890f93e0e395f9cf",
            "max": 28881,
            "min": 0,
            "orientation": "horizontal",
            "style": "IPY_MODEL_a739517a239a4648a1f9b1abf6968894",
            "value": 28881
          }
        },
        "a93388d5f9e74e14aa610e332386bf7e": {
          "model_module": "@jupyter-widgets/controls",
          "model_name": "HTMLModel",
          "model_module_version": "1.5.0",
          "state": {
            "_dom_classes": [],
            "_model_module": "@jupyter-widgets/controls",
            "_model_module_version": "1.5.0",
            "_model_name": "HTMLModel",
            "_view_count": null,
            "_view_module": "@jupyter-widgets/controls",
            "_view_module_version": "1.5.0",
            "_view_name": "HTMLView",
            "description": "",
            "description_tooltip": null,
            "layout": "IPY_MODEL_bea6710b324f472f941623e9eb9b139d",
            "placeholder": "​",
            "style": "IPY_MODEL_029a62c640f44fd2917928844607a2fc",
            "value": " 28881/28881 [00:00&lt;00:00, 2268416.21it/s]"
          }
        },
        "3ef3cfee00ba46beba6abf171438534f": {
          "model_module": "@jupyter-widgets/base",
          "model_name": "LayoutModel",
          "model_module_version": "1.2.0",
          "state": {
            "_model_module": "@jupyter-widgets/base",
            "_model_module_version": "1.2.0",
            "_model_name": "LayoutModel",
            "_view_count": null,
            "_view_module": "@jupyter-widgets/base",
            "_view_module_version": "1.2.0",
            "_view_name": "LayoutView",
            "align_content": null,
            "align_items": null,
            "align_self": null,
            "border": null,
            "bottom": null,
            "display": null,
            "flex": null,
            "flex_flow": null,
            "grid_area": null,
            "grid_auto_columns": null,
            "grid_auto_flow": null,
            "grid_auto_rows": null,
            "grid_column": null,
            "grid_gap": null,
            "grid_row": null,
            "grid_template_areas": null,
            "grid_template_columns": null,
            "grid_template_rows": null,
            "height": null,
            "justify_content": null,
            "justify_items": null,
            "left": null,
            "margin": null,
            "max_height": null,
            "max_width": null,
            "min_height": null,
            "min_width": null,
            "object_fit": null,
            "object_position": null,
            "order": null,
            "overflow": null,
            "overflow_x": null,
            "overflow_y": null,
            "padding": null,
            "right": null,
            "top": null,
            "visibility": null,
            "width": null
          }
        },
        "a616f55f59dd40ddbabe19ee9f02a079": {
          "model_module": "@jupyter-widgets/base",
          "model_name": "LayoutModel",
          "model_module_version": "1.2.0",
          "state": {
            "_model_module": "@jupyter-widgets/base",
            "_model_module_version": "1.2.0",
            "_model_name": "LayoutModel",
            "_view_count": null,
            "_view_module": "@jupyter-widgets/base",
            "_view_module_version": "1.2.0",
            "_view_name": "LayoutView",
            "align_content": null,
            "align_items": null,
            "align_self": null,
            "border": null,
            "bottom": null,
            "display": null,
            "flex": null,
            "flex_flow": null,
            "grid_area": null,
            "grid_auto_columns": null,
            "grid_auto_flow": null,
            "grid_auto_rows": null,
            "grid_column": null,
            "grid_gap": null,
            "grid_row": null,
            "grid_template_areas": null,
            "grid_template_columns": null,
            "grid_template_rows": null,
            "height": null,
            "justify_content": null,
            "justify_items": null,
            "left": null,
            "margin": null,
            "max_height": null,
            "max_width": null,
            "min_height": null,
            "min_width": null,
            "object_fit": null,
            "object_position": null,
            "order": null,
            "overflow": null,
            "overflow_x": null,
            "overflow_y": null,
            "padding": null,
            "right": null,
            "top": null,
            "visibility": null,
            "width": null
          }
        },
        "beedd1da2f1a4b02b9a4255b6e3b1d67": {
          "model_module": "@jupyter-widgets/controls",
          "model_name": "DescriptionStyleModel",
          "model_module_version": "1.5.0",
          "state": {
            "_model_module": "@jupyter-widgets/controls",
            "_model_module_version": "1.5.0",
            "_model_name": "DescriptionStyleModel",
            "_view_count": null,
            "_view_module": "@jupyter-widgets/base",
            "_view_module_version": "1.2.0",
            "_view_name": "StyleView",
            "description_width": ""
          }
        },
        "107b22daadc04b59890f93e0e395f9cf": {
          "model_module": "@jupyter-widgets/base",
          "model_name": "LayoutModel",
          "model_module_version": "1.2.0",
          "state": {
            "_model_module": "@jupyter-widgets/base",
            "_model_module_version": "1.2.0",
            "_model_name": "LayoutModel",
            "_view_count": null,
            "_view_module": "@jupyter-widgets/base",
            "_view_module_version": "1.2.0",
            "_view_name": "LayoutView",
            "align_content": null,
            "align_items": null,
            "align_self": null,
            "border": null,
            "bottom": null,
            "display": null,
            "flex": null,
            "flex_flow": null,
            "grid_area": null,
            "grid_auto_columns": null,
            "grid_auto_flow": null,
            "grid_auto_rows": null,
            "grid_column": null,
            "grid_gap": null,
            "grid_row": null,
            "grid_template_areas": null,
            "grid_template_columns": null,
            "grid_template_rows": null,
            "height": null,
            "justify_content": null,
            "justify_items": null,
            "left": null,
            "margin": null,
            "max_height": null,
            "max_width": null,
            "min_height": null,
            "min_width": null,
            "object_fit": null,
            "object_position": null,
            "order": null,
            "overflow": null,
            "overflow_x": null,
            "overflow_y": null,
            "padding": null,
            "right": null,
            "top": null,
            "visibility": null,
            "width": null
          }
        },
        "a739517a239a4648a1f9b1abf6968894": {
          "model_module": "@jupyter-widgets/controls",
          "model_name": "ProgressStyleModel",
          "model_module_version": "1.5.0",
          "state": {
            "_model_module": "@jupyter-widgets/controls",
            "_model_module_version": "1.5.0",
            "_model_name": "ProgressStyleModel",
            "_view_count": null,
            "_view_module": "@jupyter-widgets/base",
            "_view_module_version": "1.2.0",
            "_view_name": "StyleView",
            "bar_color": null,
            "description_width": ""
          }
        },
        "bea6710b324f472f941623e9eb9b139d": {
          "model_module": "@jupyter-widgets/base",
          "model_name": "LayoutModel",
          "model_module_version": "1.2.0",
          "state": {
            "_model_module": "@jupyter-widgets/base",
            "_model_module_version": "1.2.0",
            "_model_name": "LayoutModel",
            "_view_count": null,
            "_view_module": "@jupyter-widgets/base",
            "_view_module_version": "1.2.0",
            "_view_name": "LayoutView",
            "align_content": null,
            "align_items": null,
            "align_self": null,
            "border": null,
            "bottom": null,
            "display": null,
            "flex": null,
            "flex_flow": null,
            "grid_area": null,
            "grid_auto_columns": null,
            "grid_auto_flow": null,
            "grid_auto_rows": null,
            "grid_column": null,
            "grid_gap": null,
            "grid_row": null,
            "grid_template_areas": null,
            "grid_template_columns": null,
            "grid_template_rows": null,
            "height": null,
            "justify_content": null,
            "justify_items": null,
            "left": null,
            "margin": null,
            "max_height": null,
            "max_width": null,
            "min_height": null,
            "min_width": null,
            "object_fit": null,
            "object_position": null,
            "order": null,
            "overflow": null,
            "overflow_x": null,
            "overflow_y": null,
            "padding": null,
            "right": null,
            "top": null,
            "visibility": null,
            "width": null
          }
        },
        "029a62c640f44fd2917928844607a2fc": {
          "model_module": "@jupyter-widgets/controls",
          "model_name": "DescriptionStyleModel",
          "model_module_version": "1.5.0",
          "state": {
            "_model_module": "@jupyter-widgets/controls",
            "_model_module_version": "1.5.0",
            "_model_name": "DescriptionStyleModel",
            "_view_count": null,
            "_view_module": "@jupyter-widgets/base",
            "_view_module_version": "1.2.0",
            "_view_name": "StyleView",
            "description_width": ""
          }
        },
        "dd92993e39ae4599981d21f9021b85ff": {
          "model_module": "@jupyter-widgets/controls",
          "model_name": "HBoxModel",
          "model_module_version": "1.5.0",
          "state": {
            "_dom_classes": [],
            "_model_module": "@jupyter-widgets/controls",
            "_model_module_version": "1.5.0",
            "_model_name": "HBoxModel",
            "_view_count": null,
            "_view_module": "@jupyter-widgets/controls",
            "_view_module_version": "1.5.0",
            "_view_name": "HBoxView",
            "box_style": "",
            "children": [
              "IPY_MODEL_2de6f971763a436f81ca6f806b13e385",
              "IPY_MODEL_6483230cdf7a4c848c41c76a63253940",
              "IPY_MODEL_e219ccc6c7be4394848dff75d24616a0"
            ],
            "layout": "IPY_MODEL_166e842dc4664f9aab689ac7a0fa27de"
          }
        },
        "2de6f971763a436f81ca6f806b13e385": {
          "model_module": "@jupyter-widgets/controls",
          "model_name": "HTMLModel",
          "model_module_version": "1.5.0",
          "state": {
            "_dom_classes": [],
            "_model_module": "@jupyter-widgets/controls",
            "_model_module_version": "1.5.0",
            "_model_name": "HTMLModel",
            "_view_count": null,
            "_view_module": "@jupyter-widgets/controls",
            "_view_module_version": "1.5.0",
            "_view_name": "HTMLView",
            "description": "",
            "description_tooltip": null,
            "layout": "IPY_MODEL_01376cc671b249a584024543bf275c29",
            "placeholder": "​",
            "style": "IPY_MODEL_945803fd8803406994ce74e00f42aaf7",
            "value": "100%"
          }
        },
        "6483230cdf7a4c848c41c76a63253940": {
          "model_module": "@jupyter-widgets/controls",
          "model_name": "FloatProgressModel",
          "model_module_version": "1.5.0",
          "state": {
            "_dom_classes": [],
            "_model_module": "@jupyter-widgets/controls",
            "_model_module_version": "1.5.0",
            "_model_name": "FloatProgressModel",
            "_view_count": null,
            "_view_module": "@jupyter-widgets/controls",
            "_view_module_version": "1.5.0",
            "_view_name": "ProgressView",
            "bar_style": "success",
            "description": "",
            "description_tooltip": null,
            "layout": "IPY_MODEL_4bb9dae8b2c0418d8c8f2be4b70a2c28",
            "max": 1648877,
            "min": 0,
            "orientation": "horizontal",
            "style": "IPY_MODEL_9e9ebdffd94c4e87a46ba87a57be9c15",
            "value": 1648877
          }
        },
        "e219ccc6c7be4394848dff75d24616a0": {
          "model_module": "@jupyter-widgets/controls",
          "model_name": "HTMLModel",
          "model_module_version": "1.5.0",
          "state": {
            "_dom_classes": [],
            "_model_module": "@jupyter-widgets/controls",
            "_model_module_version": "1.5.0",
            "_model_name": "HTMLModel",
            "_view_count": null,
            "_view_module": "@jupyter-widgets/controls",
            "_view_module_version": "1.5.0",
            "_view_name": "HTMLView",
            "description": "",
            "description_tooltip": null,
            "layout": "IPY_MODEL_38a87ab3832e4521965d202cf2835c82",
            "placeholder": "​",
            "style": "IPY_MODEL_8473e458c6db40a592077a28b0fc63d1",
            "value": " 1648877/1648877 [00:00&lt;00:00, 24155171.81it/s]"
          }
        },
        "166e842dc4664f9aab689ac7a0fa27de": {
          "model_module": "@jupyter-widgets/base",
          "model_name": "LayoutModel",
          "model_module_version": "1.2.0",
          "state": {
            "_model_module": "@jupyter-widgets/base",
            "_model_module_version": "1.2.0",
            "_model_name": "LayoutModel",
            "_view_count": null,
            "_view_module": "@jupyter-widgets/base",
            "_view_module_version": "1.2.0",
            "_view_name": "LayoutView",
            "align_content": null,
            "align_items": null,
            "align_self": null,
            "border": null,
            "bottom": null,
            "display": null,
            "flex": null,
            "flex_flow": null,
            "grid_area": null,
            "grid_auto_columns": null,
            "grid_auto_flow": null,
            "grid_auto_rows": null,
            "grid_column": null,
            "grid_gap": null,
            "grid_row": null,
            "grid_template_areas": null,
            "grid_template_columns": null,
            "grid_template_rows": null,
            "height": null,
            "justify_content": null,
            "justify_items": null,
            "left": null,
            "margin": null,
            "max_height": null,
            "max_width": null,
            "min_height": null,
            "min_width": null,
            "object_fit": null,
            "object_position": null,
            "order": null,
            "overflow": null,
            "overflow_x": null,
            "overflow_y": null,
            "padding": null,
            "right": null,
            "top": null,
            "visibility": null,
            "width": null
          }
        },
        "01376cc671b249a584024543bf275c29": {
          "model_module": "@jupyter-widgets/base",
          "model_name": "LayoutModel",
          "model_module_version": "1.2.0",
          "state": {
            "_model_module": "@jupyter-widgets/base",
            "_model_module_version": "1.2.0",
            "_model_name": "LayoutModel",
            "_view_count": null,
            "_view_module": "@jupyter-widgets/base",
            "_view_module_version": "1.2.0",
            "_view_name": "LayoutView",
            "align_content": null,
            "align_items": null,
            "align_self": null,
            "border": null,
            "bottom": null,
            "display": null,
            "flex": null,
            "flex_flow": null,
            "grid_area": null,
            "grid_auto_columns": null,
            "grid_auto_flow": null,
            "grid_auto_rows": null,
            "grid_column": null,
            "grid_gap": null,
            "grid_row": null,
            "grid_template_areas": null,
            "grid_template_columns": null,
            "grid_template_rows": null,
            "height": null,
            "justify_content": null,
            "justify_items": null,
            "left": null,
            "margin": null,
            "max_height": null,
            "max_width": null,
            "min_height": null,
            "min_width": null,
            "object_fit": null,
            "object_position": null,
            "order": null,
            "overflow": null,
            "overflow_x": null,
            "overflow_y": null,
            "padding": null,
            "right": null,
            "top": null,
            "visibility": null,
            "width": null
          }
        },
        "945803fd8803406994ce74e00f42aaf7": {
          "model_module": "@jupyter-widgets/controls",
          "model_name": "DescriptionStyleModel",
          "model_module_version": "1.5.0",
          "state": {
            "_model_module": "@jupyter-widgets/controls",
            "_model_module_version": "1.5.0",
            "_model_name": "DescriptionStyleModel",
            "_view_count": null,
            "_view_module": "@jupyter-widgets/base",
            "_view_module_version": "1.2.0",
            "_view_name": "StyleView",
            "description_width": ""
          }
        },
        "4bb9dae8b2c0418d8c8f2be4b70a2c28": {
          "model_module": "@jupyter-widgets/base",
          "model_name": "LayoutModel",
          "model_module_version": "1.2.0",
          "state": {
            "_model_module": "@jupyter-widgets/base",
            "_model_module_version": "1.2.0",
            "_model_name": "LayoutModel",
            "_view_count": null,
            "_view_module": "@jupyter-widgets/base",
            "_view_module_version": "1.2.0",
            "_view_name": "LayoutView",
            "align_content": null,
            "align_items": null,
            "align_self": null,
            "border": null,
            "bottom": null,
            "display": null,
            "flex": null,
            "flex_flow": null,
            "grid_area": null,
            "grid_auto_columns": null,
            "grid_auto_flow": null,
            "grid_auto_rows": null,
            "grid_column": null,
            "grid_gap": null,
            "grid_row": null,
            "grid_template_areas": null,
            "grid_template_columns": null,
            "grid_template_rows": null,
            "height": null,
            "justify_content": null,
            "justify_items": null,
            "left": null,
            "margin": null,
            "max_height": null,
            "max_width": null,
            "min_height": null,
            "min_width": null,
            "object_fit": null,
            "object_position": null,
            "order": null,
            "overflow": null,
            "overflow_x": null,
            "overflow_y": null,
            "padding": null,
            "right": null,
            "top": null,
            "visibility": null,
            "width": null
          }
        },
        "9e9ebdffd94c4e87a46ba87a57be9c15": {
          "model_module": "@jupyter-widgets/controls",
          "model_name": "ProgressStyleModel",
          "model_module_version": "1.5.0",
          "state": {
            "_model_module": "@jupyter-widgets/controls",
            "_model_module_version": "1.5.0",
            "_model_name": "ProgressStyleModel",
            "_view_count": null,
            "_view_module": "@jupyter-widgets/base",
            "_view_module_version": "1.2.0",
            "_view_name": "StyleView",
            "bar_color": null,
            "description_width": ""
          }
        },
        "38a87ab3832e4521965d202cf2835c82": {
          "model_module": "@jupyter-widgets/base",
          "model_name": "LayoutModel",
          "model_module_version": "1.2.0",
          "state": {
            "_model_module": "@jupyter-widgets/base",
            "_model_module_version": "1.2.0",
            "_model_name": "LayoutModel",
            "_view_count": null,
            "_view_module": "@jupyter-widgets/base",
            "_view_module_version": "1.2.0",
            "_view_name": "LayoutView",
            "align_content": null,
            "align_items": null,
            "align_self": null,
            "border": null,
            "bottom": null,
            "display": null,
            "flex": null,
            "flex_flow": null,
            "grid_area": null,
            "grid_auto_columns": null,
            "grid_auto_flow": null,
            "grid_auto_rows": null,
            "grid_column": null,
            "grid_gap": null,
            "grid_row": null,
            "grid_template_areas": null,
            "grid_template_columns": null,
            "grid_template_rows": null,
            "height": null,
            "justify_content": null,
            "justify_items": null,
            "left": null,
            "margin": null,
            "max_height": null,
            "max_width": null,
            "min_height": null,
            "min_width": null,
            "object_fit": null,
            "object_position": null,
            "order": null,
            "overflow": null,
            "overflow_x": null,
            "overflow_y": null,
            "padding": null,
            "right": null,
            "top": null,
            "visibility": null,
            "width": null
          }
        },
        "8473e458c6db40a592077a28b0fc63d1": {
          "model_module": "@jupyter-widgets/controls",
          "model_name": "DescriptionStyleModel",
          "model_module_version": "1.5.0",
          "state": {
            "_model_module": "@jupyter-widgets/controls",
            "_model_module_version": "1.5.0",
            "_model_name": "DescriptionStyleModel",
            "_view_count": null,
            "_view_module": "@jupyter-widgets/base",
            "_view_module_version": "1.2.0",
            "_view_name": "StyleView",
            "description_width": ""
          }
        },
        "6670fd79b6b3446196ec1166778610a3": {
          "model_module": "@jupyter-widgets/controls",
          "model_name": "HBoxModel",
          "model_module_version": "1.5.0",
          "state": {
            "_dom_classes": [],
            "_model_module": "@jupyter-widgets/controls",
            "_model_module_version": "1.5.0",
            "_model_name": "HBoxModel",
            "_view_count": null,
            "_view_module": "@jupyter-widgets/controls",
            "_view_module_version": "1.5.0",
            "_view_name": "HBoxView",
            "box_style": "",
            "children": [
              "IPY_MODEL_fb04aa3ec1da41478c08a6940e45a84b",
              "IPY_MODEL_d566e557b83a4ae2b46515ccf580f250",
              "IPY_MODEL_630264b679714af396c726bde7b2f6c4"
            ],
            "layout": "IPY_MODEL_20aafc59ab894041b28a0b91b0500574"
          }
        },
        "fb04aa3ec1da41478c08a6940e45a84b": {
          "model_module": "@jupyter-widgets/controls",
          "model_name": "HTMLModel",
          "model_module_version": "1.5.0",
          "state": {
            "_dom_classes": [],
            "_model_module": "@jupyter-widgets/controls",
            "_model_module_version": "1.5.0",
            "_model_name": "HTMLModel",
            "_view_count": null,
            "_view_module": "@jupyter-widgets/controls",
            "_view_module_version": "1.5.0",
            "_view_name": "HTMLView",
            "description": "",
            "description_tooltip": null,
            "layout": "IPY_MODEL_d7541b813e0849de94c0adba96cb3c1b",
            "placeholder": "​",
            "style": "IPY_MODEL_be78905cca3b4b17bd9d03cf593d3ca6",
            "value": "100%"
          }
        },
        "d566e557b83a4ae2b46515ccf580f250": {
          "model_module": "@jupyter-widgets/controls",
          "model_name": "FloatProgressModel",
          "model_module_version": "1.5.0",
          "state": {
            "_dom_classes": [],
            "_model_module": "@jupyter-widgets/controls",
            "_model_module_version": "1.5.0",
            "_model_name": "FloatProgressModel",
            "_view_count": null,
            "_view_module": "@jupyter-widgets/controls",
            "_view_module_version": "1.5.0",
            "_view_name": "ProgressView",
            "bar_style": "success",
            "description": "",
            "description_tooltip": null,
            "layout": "IPY_MODEL_853a1243f27547ec9dfc9a440703b944",
            "max": 4542,
            "min": 0,
            "orientation": "horizontal",
            "style": "IPY_MODEL_6389d34ed4384746965f528d81e1ff4d",
            "value": 4542
          }
        },
        "630264b679714af396c726bde7b2f6c4": {
          "model_module": "@jupyter-widgets/controls",
          "model_name": "HTMLModel",
          "model_module_version": "1.5.0",
          "state": {
            "_dom_classes": [],
            "_model_module": "@jupyter-widgets/controls",
            "_model_module_version": "1.5.0",
            "_model_name": "HTMLModel",
            "_view_count": null,
            "_view_module": "@jupyter-widgets/controls",
            "_view_module_version": "1.5.0",
            "_view_name": "HTMLView",
            "description": "",
            "description_tooltip": null,
            "layout": "IPY_MODEL_82606ae807474891a6b5e0fbfccc423b",
            "placeholder": "​",
            "style": "IPY_MODEL_98e7619f7730464f87468ed829f6640c",
            "value": " 4542/4542 [00:00&lt;00:00, 418877.06it/s]"
          }
        },
        "20aafc59ab894041b28a0b91b0500574": {
          "model_module": "@jupyter-widgets/base",
          "model_name": "LayoutModel",
          "model_module_version": "1.2.0",
          "state": {
            "_model_module": "@jupyter-widgets/base",
            "_model_module_version": "1.2.0",
            "_model_name": "LayoutModel",
            "_view_count": null,
            "_view_module": "@jupyter-widgets/base",
            "_view_module_version": "1.2.0",
            "_view_name": "LayoutView",
            "align_content": null,
            "align_items": null,
            "align_self": null,
            "border": null,
            "bottom": null,
            "display": null,
            "flex": null,
            "flex_flow": null,
            "grid_area": null,
            "grid_auto_columns": null,
            "grid_auto_flow": null,
            "grid_auto_rows": null,
            "grid_column": null,
            "grid_gap": null,
            "grid_row": null,
            "grid_template_areas": null,
            "grid_template_columns": null,
            "grid_template_rows": null,
            "height": null,
            "justify_content": null,
            "justify_items": null,
            "left": null,
            "margin": null,
            "max_height": null,
            "max_width": null,
            "min_height": null,
            "min_width": null,
            "object_fit": null,
            "object_position": null,
            "order": null,
            "overflow": null,
            "overflow_x": null,
            "overflow_y": null,
            "padding": null,
            "right": null,
            "top": null,
            "visibility": null,
            "width": null
          }
        },
        "d7541b813e0849de94c0adba96cb3c1b": {
          "model_module": "@jupyter-widgets/base",
          "model_name": "LayoutModel",
          "model_module_version": "1.2.0",
          "state": {
            "_model_module": "@jupyter-widgets/base",
            "_model_module_version": "1.2.0",
            "_model_name": "LayoutModel",
            "_view_count": null,
            "_view_module": "@jupyter-widgets/base",
            "_view_module_version": "1.2.0",
            "_view_name": "LayoutView",
            "align_content": null,
            "align_items": null,
            "align_self": null,
            "border": null,
            "bottom": null,
            "display": null,
            "flex": null,
            "flex_flow": null,
            "grid_area": null,
            "grid_auto_columns": null,
            "grid_auto_flow": null,
            "grid_auto_rows": null,
            "grid_column": null,
            "grid_gap": null,
            "grid_row": null,
            "grid_template_areas": null,
            "grid_template_columns": null,
            "grid_template_rows": null,
            "height": null,
            "justify_content": null,
            "justify_items": null,
            "left": null,
            "margin": null,
            "max_height": null,
            "max_width": null,
            "min_height": null,
            "min_width": null,
            "object_fit": null,
            "object_position": null,
            "order": null,
            "overflow": null,
            "overflow_x": null,
            "overflow_y": null,
            "padding": null,
            "right": null,
            "top": null,
            "visibility": null,
            "width": null
          }
        },
        "be78905cca3b4b17bd9d03cf593d3ca6": {
          "model_module": "@jupyter-widgets/controls",
          "model_name": "DescriptionStyleModel",
          "model_module_version": "1.5.0",
          "state": {
            "_model_module": "@jupyter-widgets/controls",
            "_model_module_version": "1.5.0",
            "_model_name": "DescriptionStyleModel",
            "_view_count": null,
            "_view_module": "@jupyter-widgets/base",
            "_view_module_version": "1.2.0",
            "_view_name": "StyleView",
            "description_width": ""
          }
        },
        "853a1243f27547ec9dfc9a440703b944": {
          "model_module": "@jupyter-widgets/base",
          "model_name": "LayoutModel",
          "model_module_version": "1.2.0",
          "state": {
            "_model_module": "@jupyter-widgets/base",
            "_model_module_version": "1.2.0",
            "_model_name": "LayoutModel",
            "_view_count": null,
            "_view_module": "@jupyter-widgets/base",
            "_view_module_version": "1.2.0",
            "_view_name": "LayoutView",
            "align_content": null,
            "align_items": null,
            "align_self": null,
            "border": null,
            "bottom": null,
            "display": null,
            "flex": null,
            "flex_flow": null,
            "grid_area": null,
            "grid_auto_columns": null,
            "grid_auto_flow": null,
            "grid_auto_rows": null,
            "grid_column": null,
            "grid_gap": null,
            "grid_row": null,
            "grid_template_areas": null,
            "grid_template_columns": null,
            "grid_template_rows": null,
            "height": null,
            "justify_content": null,
            "justify_items": null,
            "left": null,
            "margin": null,
            "max_height": null,
            "max_width": null,
            "min_height": null,
            "min_width": null,
            "object_fit": null,
            "object_position": null,
            "order": null,
            "overflow": null,
            "overflow_x": null,
            "overflow_y": null,
            "padding": null,
            "right": null,
            "top": null,
            "visibility": null,
            "width": null
          }
        },
        "6389d34ed4384746965f528d81e1ff4d": {
          "model_module": "@jupyter-widgets/controls",
          "model_name": "ProgressStyleModel",
          "model_module_version": "1.5.0",
          "state": {
            "_model_module": "@jupyter-widgets/controls",
            "_model_module_version": "1.5.0",
            "_model_name": "ProgressStyleModel",
            "_view_count": null,
            "_view_module": "@jupyter-widgets/base",
            "_view_module_version": "1.2.0",
            "_view_name": "StyleView",
            "bar_color": null,
            "description_width": ""
          }
        },
        "82606ae807474891a6b5e0fbfccc423b": {
          "model_module": "@jupyter-widgets/base",
          "model_name": "LayoutModel",
          "model_module_version": "1.2.0",
          "state": {
            "_model_module": "@jupyter-widgets/base",
            "_model_module_version": "1.2.0",
            "_model_name": "LayoutModel",
            "_view_count": null,
            "_view_module": "@jupyter-widgets/base",
            "_view_module_version": "1.2.0",
            "_view_name": "LayoutView",
            "align_content": null,
            "align_items": null,
            "align_self": null,
            "border": null,
            "bottom": null,
            "display": null,
            "flex": null,
            "flex_flow": null,
            "grid_area": null,
            "grid_auto_columns": null,
            "grid_auto_flow": null,
            "grid_auto_rows": null,
            "grid_column": null,
            "grid_gap": null,
            "grid_row": null,
            "grid_template_areas": null,
            "grid_template_columns": null,
            "grid_template_rows": null,
            "height": null,
            "justify_content": null,
            "justify_items": null,
            "left": null,
            "margin": null,
            "max_height": null,
            "max_width": null,
            "min_height": null,
            "min_width": null,
            "object_fit": null,
            "object_position": null,
            "order": null,
            "overflow": null,
            "overflow_x": null,
            "overflow_y": null,
            "padding": null,
            "right": null,
            "top": null,
            "visibility": null,
            "width": null
          }
        },
        "98e7619f7730464f87468ed829f6640c": {
          "model_module": "@jupyter-widgets/controls",
          "model_name": "DescriptionStyleModel",
          "model_module_version": "1.5.0",
          "state": {
            "_model_module": "@jupyter-widgets/controls",
            "_model_module_version": "1.5.0",
            "_model_name": "DescriptionStyleModel",
            "_view_count": null,
            "_view_module": "@jupyter-widgets/base",
            "_view_module_version": "1.2.0",
            "_view_name": "StyleView",
            "description_width": ""
          }
        }
      }
    }
  },
  "cells": [
    {
      "cell_type": "markdown",
      "metadata": {
        "id": "view-in-github",
        "colab_type": "text"
      },
      "source": [
        "<a href=\"https://colab.research.google.com/github/alexmacharia/deep_learning_projects/blob/main/Pytorch_MNIST.ipynb\" target=\"_parent\"><img src=\"https://colab.research.google.com/assets/colab-badge.svg\" alt=\"Open In Colab\"/></a>"
      ]
    },
    {
      "cell_type": "code",
      "execution_count": 1,
      "metadata": {
        "colab": {
          "base_uri": "https://localhost:8080/"
        },
        "id": "7-u3sRNptjRN",
        "outputId": "864cf329-6f66-427d-d083-afb8e41c47c6"
      },
      "outputs": [
        {
          "output_type": "stream",
          "name": "stdout",
          "text": [
            "GPU available: True\n"
          ]
        }
      ],
      "source": [
        "# Import Pytorch\n",
        "import torch\n",
        "\n",
        "# Import torchvision for dataset and image transformations\n",
        "import torchvision\n",
        "import torchvision.transforms as transforms\n",
        "\n",
        "# Import optimization library and nn for network graphs\n",
        "import torch.optim as optim\n",
        "import torch.nn as nn\n",
        "\n",
        "\n",
        "print(\"GPU available: {}\".format(torch.cuda.is_available()))"
      ]
    },
    {
      "cell_type": "code",
      "source": [
        "if torch.cuda.is_available():\n",
        "  device = 'cuda'\n",
        "else:\n",
        "  device = 'cpu'"
      ],
      "metadata": {
        "id": "xAAqMqg4vlk7"
      },
      "execution_count": 2,
      "outputs": []
    },
    {
      "cell_type": "code",
      "source": [
        "# Transform to Pytorch Tensors and then normalize values to between -1 and 1\n",
        "transform = transforms.Compose([transforms.ToTensor(),\n",
        "                                transforms.Normalize((0.5, ), (0.5, ))])"
      ],
      "metadata": {
        "id": "IQ7sKP2CwAe-"
      },
      "execution_count": 3,
      "outputs": []
    },
    {
      "cell_type": "code",
      "source": [
        "# Load training data and specify transform to use when loading\n",
        "trainset = torchvision.datasets.MNIST('mnist',\n",
        "                                      train = True,\n",
        "                                      download = True,\n",
        "                                      transform = transform)\n",
        "\n",
        "# Load test data and specify transform to use when loading\n",
        "testset = torchvision.datasets.MNIST('mnist',\n",
        "                                     train = True,\n",
        "                                     download = True,\n",
        "                                     transform = transform)"
      ],
      "metadata": {
        "colab": {
          "base_uri": "https://localhost:8080/",
          "height": 443,
          "referenced_widgets": [
            "0c2ab619910b4ee59bcd96598ea4f63b",
            "77f2fafddf524e1d824d619482ee02ce",
            "5e10d964d8374bc2a7e01fdc90fe6abc",
            "6d52f9cb60e8486ba978ddc50b51a733",
            "47df529ca70f4848969116f9bd3ce159",
            "ba2ddd626b0443bcbe986d53de1147f8",
            "c4da2186295f46adbb19e940057380e6",
            "41fcca0984914841b63270bdf9d1c51d",
            "f752daf644e940ec82a3abcc4778be2a",
            "954517d607d245cea7e763b98a6a9524",
            "2002971700304eefa814145f1e23e018",
            "de7406fa021a45909286d7a8fb31b4ea",
            "d7675741cef84e88bb449b762daeeb45",
            "a5ef69922c0444e7863e96245d11bb44",
            "a93388d5f9e74e14aa610e332386bf7e",
            "3ef3cfee00ba46beba6abf171438534f",
            "a616f55f59dd40ddbabe19ee9f02a079",
            "beedd1da2f1a4b02b9a4255b6e3b1d67",
            "107b22daadc04b59890f93e0e395f9cf",
            "a739517a239a4648a1f9b1abf6968894",
            "bea6710b324f472f941623e9eb9b139d",
            "029a62c640f44fd2917928844607a2fc",
            "dd92993e39ae4599981d21f9021b85ff",
            "2de6f971763a436f81ca6f806b13e385",
            "6483230cdf7a4c848c41c76a63253940",
            "e219ccc6c7be4394848dff75d24616a0",
            "166e842dc4664f9aab689ac7a0fa27de",
            "01376cc671b249a584024543bf275c29",
            "945803fd8803406994ce74e00f42aaf7",
            "4bb9dae8b2c0418d8c8f2be4b70a2c28",
            "9e9ebdffd94c4e87a46ba87a57be9c15",
            "38a87ab3832e4521965d202cf2835c82",
            "8473e458c6db40a592077a28b0fc63d1",
            "6670fd79b6b3446196ec1166778610a3",
            "fb04aa3ec1da41478c08a6940e45a84b",
            "d566e557b83a4ae2b46515ccf580f250",
            "630264b679714af396c726bde7b2f6c4",
            "20aafc59ab894041b28a0b91b0500574",
            "d7541b813e0849de94c0adba96cb3c1b",
            "be78905cca3b4b17bd9d03cf593d3ca6",
            "853a1243f27547ec9dfc9a440703b944",
            "6389d34ed4384746965f528d81e1ff4d",
            "82606ae807474891a6b5e0fbfccc423b",
            "98e7619f7730464f87468ed829f6640c"
          ]
        },
        "id": "G9zDqLlax1Mv",
        "outputId": "33014569-9e67-473d-a470-7b81be6cc255"
      },
      "execution_count": 4,
      "outputs": [
        {
          "output_type": "stream",
          "name": "stdout",
          "text": [
            "Downloading http://yann.lecun.com/exdb/mnist/train-images-idx3-ubyte.gz\n",
            "Downloading http://yann.lecun.com/exdb/mnist/train-images-idx3-ubyte.gz to mnist/MNIST/raw/train-images-idx3-ubyte.gz\n"
          ]
        },
        {
          "output_type": "display_data",
          "data": {
            "text/plain": [
              "  0%|          | 0/9912422 [00:00<?, ?it/s]"
            ],
            "application/vnd.jupyter.widget-view+json": {
              "version_major": 2,
              "version_minor": 0,
              "model_id": "0c2ab619910b4ee59bcd96598ea4f63b"
            }
          },
          "metadata": {}
        },
        {
          "output_type": "stream",
          "name": "stdout",
          "text": [
            "Extracting mnist/MNIST/raw/train-images-idx3-ubyte.gz to mnist/MNIST/raw\n",
            "\n",
            "Downloading http://yann.lecun.com/exdb/mnist/train-labels-idx1-ubyte.gz\n",
            "Downloading http://yann.lecun.com/exdb/mnist/train-labels-idx1-ubyte.gz to mnist/MNIST/raw/train-labels-idx1-ubyte.gz\n"
          ]
        },
        {
          "output_type": "display_data",
          "data": {
            "text/plain": [
              "  0%|          | 0/28881 [00:00<?, ?it/s]"
            ],
            "application/vnd.jupyter.widget-view+json": {
              "version_major": 2,
              "version_minor": 0,
              "model_id": "de7406fa021a45909286d7a8fb31b4ea"
            }
          },
          "metadata": {}
        },
        {
          "output_type": "stream",
          "name": "stdout",
          "text": [
            "Extracting mnist/MNIST/raw/train-labels-idx1-ubyte.gz to mnist/MNIST/raw\n",
            "\n",
            "Downloading http://yann.lecun.com/exdb/mnist/t10k-images-idx3-ubyte.gz\n",
            "Downloading http://yann.lecun.com/exdb/mnist/t10k-images-idx3-ubyte.gz to mnist/MNIST/raw/t10k-images-idx3-ubyte.gz\n"
          ]
        },
        {
          "output_type": "display_data",
          "data": {
            "text/plain": [
              "  0%|          | 0/1648877 [00:00<?, ?it/s]"
            ],
            "application/vnd.jupyter.widget-view+json": {
              "version_major": 2,
              "version_minor": 0,
              "model_id": "dd92993e39ae4599981d21f9021b85ff"
            }
          },
          "metadata": {}
        },
        {
          "output_type": "stream",
          "name": "stdout",
          "text": [
            "Extracting mnist/MNIST/raw/t10k-images-idx3-ubyte.gz to mnist/MNIST/raw\n",
            "\n",
            "Downloading http://yann.lecun.com/exdb/mnist/t10k-labels-idx1-ubyte.gz\n",
            "Downloading http://yann.lecun.com/exdb/mnist/t10k-labels-idx1-ubyte.gz to mnist/MNIST/raw/t10k-labels-idx1-ubyte.gz\n"
          ]
        },
        {
          "output_type": "display_data",
          "data": {
            "text/plain": [
              "  0%|          | 0/4542 [00:00<?, ?it/s]"
            ],
            "application/vnd.jupyter.widget-view+json": {
              "version_major": 2,
              "version_minor": 0,
              "model_id": "6670fd79b6b3446196ec1166778610a3"
            }
          },
          "metadata": {}
        },
        {
          "output_type": "stream",
          "name": "stdout",
          "text": [
            "Extracting mnist/MNIST/raw/t10k-labels-idx1-ubyte.gz to mnist/MNIST/raw\n",
            "\n"
          ]
        }
      ]
    },
    {
      "cell_type": "code",
      "source": [
        "print(trainset.data.shape)\n",
        "print(testset.data.shape)"
      ],
      "metadata": {
        "colab": {
          "base_uri": "https://localhost:8080/"
        },
        "id": "FEB4tR8szMlO",
        "outputId": "ff9b78c2-e134-408c-ed8c-fc55b69ff3dd"
      },
      "execution_count": 5,
      "outputs": [
        {
          "output_type": "stream",
          "name": "stdout",
          "text": [
            "torch.Size([60000, 28, 28])\n",
            "torch.Size([60000, 28, 28])\n"
          ]
        }
      ]
    },
    {
      "cell_type": "code",
      "source": [
        "print(trainset.data[0].shape)\n",
        "print(trainset.data[0])"
      ],
      "metadata": {
        "colab": {
          "base_uri": "https://localhost:8080/"
        },
        "id": "wnFKsVdG34HT",
        "outputId": "cdde47a6-a8f0-4619-beb3-92f718b309f0"
      },
      "execution_count": 6,
      "outputs": [
        {
          "output_type": "stream",
          "name": "stdout",
          "text": [
            "torch.Size([28, 28])\n",
            "tensor([[  0,   0,   0,   0,   0,   0,   0,   0,   0,   0,   0,   0,   0,   0,\n",
            "           0,   0,   0,   0,   0,   0,   0,   0,   0,   0,   0,   0,   0,   0],\n",
            "        [  0,   0,   0,   0,   0,   0,   0,   0,   0,   0,   0,   0,   0,   0,\n",
            "           0,   0,   0,   0,   0,   0,   0,   0,   0,   0,   0,   0,   0,   0],\n",
            "        [  0,   0,   0,   0,   0,   0,   0,   0,   0,   0,   0,   0,   0,   0,\n",
            "           0,   0,   0,   0,   0,   0,   0,   0,   0,   0,   0,   0,   0,   0],\n",
            "        [  0,   0,   0,   0,   0,   0,   0,   0,   0,   0,   0,   0,   0,   0,\n",
            "           0,   0,   0,   0,   0,   0,   0,   0,   0,   0,   0,   0,   0,   0],\n",
            "        [  0,   0,   0,   0,   0,   0,   0,   0,   0,   0,   0,   0,   0,   0,\n",
            "           0,   0,   0,   0,   0,   0,   0,   0,   0,   0,   0,   0,   0,   0],\n",
            "        [  0,   0,   0,   0,   0,   0,   0,   0,   0,   0,   0,   0,   3,  18,\n",
            "          18,  18, 126, 136, 175,  26, 166, 255, 247, 127,   0,   0,   0,   0],\n",
            "        [  0,   0,   0,   0,   0,   0,   0,   0,  30,  36,  94, 154, 170, 253,\n",
            "         253, 253, 253, 253, 225, 172, 253, 242, 195,  64,   0,   0,   0,   0],\n",
            "        [  0,   0,   0,   0,   0,   0,   0,  49, 238, 253, 253, 253, 253, 253,\n",
            "         253, 253, 253, 251,  93,  82,  82,  56,  39,   0,   0,   0,   0,   0],\n",
            "        [  0,   0,   0,   0,   0,   0,   0,  18, 219, 253, 253, 253, 253, 253,\n",
            "         198, 182, 247, 241,   0,   0,   0,   0,   0,   0,   0,   0,   0,   0],\n",
            "        [  0,   0,   0,   0,   0,   0,   0,   0,  80, 156, 107, 253, 253, 205,\n",
            "          11,   0,  43, 154,   0,   0,   0,   0,   0,   0,   0,   0,   0,   0],\n",
            "        [  0,   0,   0,   0,   0,   0,   0,   0,   0,  14,   1, 154, 253,  90,\n",
            "           0,   0,   0,   0,   0,   0,   0,   0,   0,   0,   0,   0,   0,   0],\n",
            "        [  0,   0,   0,   0,   0,   0,   0,   0,   0,   0,   0, 139, 253, 190,\n",
            "           2,   0,   0,   0,   0,   0,   0,   0,   0,   0,   0,   0,   0,   0],\n",
            "        [  0,   0,   0,   0,   0,   0,   0,   0,   0,   0,   0,  11, 190, 253,\n",
            "          70,   0,   0,   0,   0,   0,   0,   0,   0,   0,   0,   0,   0,   0],\n",
            "        [  0,   0,   0,   0,   0,   0,   0,   0,   0,   0,   0,   0,  35, 241,\n",
            "         225, 160, 108,   1,   0,   0,   0,   0,   0,   0,   0,   0,   0,   0],\n",
            "        [  0,   0,   0,   0,   0,   0,   0,   0,   0,   0,   0,   0,   0,  81,\n",
            "         240, 253, 253, 119,  25,   0,   0,   0,   0,   0,   0,   0,   0,   0],\n",
            "        [  0,   0,   0,   0,   0,   0,   0,   0,   0,   0,   0,   0,   0,   0,\n",
            "          45, 186, 253, 253, 150,  27,   0,   0,   0,   0,   0,   0,   0,   0],\n",
            "        [  0,   0,   0,   0,   0,   0,   0,   0,   0,   0,   0,   0,   0,   0,\n",
            "           0,  16,  93, 252, 253, 187,   0,   0,   0,   0,   0,   0,   0,   0],\n",
            "        [  0,   0,   0,   0,   0,   0,   0,   0,   0,   0,   0,   0,   0,   0,\n",
            "           0,   0,   0, 249, 253, 249,  64,   0,   0,   0,   0,   0,   0,   0],\n",
            "        [  0,   0,   0,   0,   0,   0,   0,   0,   0,   0,   0,   0,   0,   0,\n",
            "          46, 130, 183, 253, 253, 207,   2,   0,   0,   0,   0,   0,   0,   0],\n",
            "        [  0,   0,   0,   0,   0,   0,   0,   0,   0,   0,   0,   0,  39, 148,\n",
            "         229, 253, 253, 253, 250, 182,   0,   0,   0,   0,   0,   0,   0,   0],\n",
            "        [  0,   0,   0,   0,   0,   0,   0,   0,   0,   0,  24, 114, 221, 253,\n",
            "         253, 253, 253, 201,  78,   0,   0,   0,   0,   0,   0,   0,   0,   0],\n",
            "        [  0,   0,   0,   0,   0,   0,   0,   0,  23,  66, 213, 253, 253, 253,\n",
            "         253, 198,  81,   2,   0,   0,   0,   0,   0,   0,   0,   0,   0,   0],\n",
            "        [  0,   0,   0,   0,   0,   0,  18, 171, 219, 253, 253, 253, 253, 195,\n",
            "          80,   9,   0,   0,   0,   0,   0,   0,   0,   0,   0,   0,   0,   0],\n",
            "        [  0,   0,   0,   0,  55, 172, 226, 253, 253, 253, 253, 244, 133,  11,\n",
            "           0,   0,   0,   0,   0,   0,   0,   0,   0,   0,   0,   0,   0,   0],\n",
            "        [  0,   0,   0,   0, 136, 253, 253, 253, 212, 135, 132,  16,   0,   0,\n",
            "           0,   0,   0,   0,   0,   0,   0,   0,   0,   0,   0,   0,   0,   0],\n",
            "        [  0,   0,   0,   0,   0,   0,   0,   0,   0,   0,   0,   0,   0,   0,\n",
            "           0,   0,   0,   0,   0,   0,   0,   0,   0,   0,   0,   0,   0,   0],\n",
            "        [  0,   0,   0,   0,   0,   0,   0,   0,   0,   0,   0,   0,   0,   0,\n",
            "           0,   0,   0,   0,   0,   0,   0,   0,   0,   0,   0,   0,   0,   0],\n",
            "        [  0,   0,   0,   0,   0,   0,   0,   0,   0,   0,   0,   0,   0,   0,\n",
            "           0,   0,   0,   0,   0,   0,   0,   0,   0,   0,   0,   0,   0,   0]],\n",
            "       dtype=torch.uint8)\n"
          ]
        }
      ]
    },
    {
      "cell_type": "code",
      "source": [
        "import cv2\n",
        "import numpy as np\n",
        "import matplotlib.pyplot as plt\n",
        "\n",
        "def imgshow(title=\"\", image=None, size=6):\n",
        "  w, h = image.shape[0], image.shape[1]\n",
        "  aspect_ratio = w/h\n",
        "  plt.figure(figsize=(size * aspect_ratio, size))\n",
        "  plt.imshow(cv2.cvtColor(image, cv2.COLOR_BGR2RGB))\n",
        "  plt.title(title)\n",
        "  plt.show()\n",
        "\n",
        "# Convert image to numpy array\n",
        "image = trainset.data[0].numpy()\n",
        "imgshow(\"MNIST Sample\", image)\n",
        "            "
      ],
      "metadata": {
        "colab": {
          "base_uri": "https://localhost:8080/",
          "height": 390
        },
        "id": "2GfuCF0r4A88",
        "outputId": "0a5cea7b-c9b8-4652-89c3-aff6e0024f6a"
      },
      "execution_count": 7,
      "outputs": [
        {
          "output_type": "display_data",
          "data": {
            "text/plain": [
              "<Figure size 432x432 with 1 Axes>"
            ],
            "image/png": "[encoded data removed]"
          },
          "metadata": {
            "needs_background": "light"
          }
        }
      ]
    },
    {
      "cell_type": "code",
      "source": [
        "figure = plt.figure()\n",
        "num_of_images = 50\n",
        "\n",
        "for index in range(1, num_of_images + 1):\n",
        "  plt.subplot(5, 10, index)\n",
        "  plt.axis('off')\n",
        "  plt.imshow(trainset.data[index], cmap='gray_r')"
      ],
      "metadata": {
        "colab": {
          "base_uri": "https://localhost:8080/",
          "height": 239
        },
        "id": "FExMRrhd5BNe",
        "outputId": "68408323-7e6d-46c3-efb3-4ea61a1926c9"
      },
      "execution_count": 8,
      "outputs": [
        {
          "output_type": "display_data",
          "data": {
            "text/plain": [
              "<Figure size 432x288 with 50 Axes>"
            ],
            "image/png": "[encoded data removed]"
          },
          "metadata": {
            "needs_background": "light"
          }
        }
      ]
    },
    {
      "cell_type": "code",
      "source": [
        "# Prepare data loaders\n",
        "trainloader = torch.utils.data.DataLoader(trainset,\n",
        "                                          batch_size=128,\n",
        "                                          shuffle=True,\n",
        "                                          num_workers=0)\n",
        "\n",
        "testloader = torch.utils.data.DataLoader(testset,\n",
        "                                         batch_size=128,\n",
        "                                         shuffle=False,\n",
        "                                         num_workers=0)\n"
      ],
      "metadata": {
        "id": "QcXpEkdC59rU"
      },
      "execution_count": 9,
      "outputs": []
    },
    {
      "cell_type": "code",
      "source": [
        "# Create an iterator for the train_loader\n",
        "dataiter = iter(trainloader)\n",
        "\n",
        "# Get the first batch\n",
        "images, labels = next(dataiter)\n",
        "\n",
        "print(images.shape)\n",
        "print(labels.shape)"
      ],
      "metadata": {
        "colab": {
          "base_uri": "https://localhost:8080/"
        },
        "id": "xbsAQYspic6l",
        "outputId": "a4bc54ca-7941-4d54-b7aa-e8e5a69df4e4"
      },
      "execution_count": 10,
      "outputs": [
        {
          "output_type": "stream",
          "name": "stdout",
          "text": [
            "torch.Size([128, 1, 28, 28])\n",
            "torch.Size([128])\n"
          ]
        }
      ]
    },
    {
      "cell_type": "code",
      "source": [
        "import matplotlib.pyplot as plt\n",
        "import numpy as np\n",
        "\n",
        "# Function to display image\n",
        "def imshow(img):\n",
        "  img = img / 2 + 0.5   # unnormalize\n",
        "  npimg = img.numpy()\n",
        "  plt.imshow(np.transpose(npimg, (1,2,0)))\n",
        "  plt.show()\n",
        "\n",
        "\n",
        "# get sample training images\n",
        "dataiter = iter(trainloader)\n",
        "images, labels = next(dataiter)\n",
        "\n",
        "imshow(torchvision.utils.make_grid(images))\n",
        "\n",
        "# Print labels\n",
        "print(''.join('%1s' % labels[j].numpy() for j in range(128)))\n"
      ],
      "metadata": {
        "colab": {
          "base_uri": "https://localhost:8080/",
          "height": 306
        },
        "id": "uDMtC-8GjFSh",
        "outputId": "6b8d07e5-0a99-4916-ac60-0080043262e8"
      },
      "execution_count": 11,
      "outputs": [
        {
          "output_type": "display_data",
          "data": {
            "text/plain": [
              "<Figure size 432x288 with 1 Axes>"
            ],
            "image/png": "[encoded data removed]"
          },
          "metadata": {
            "needs_background": "light"
          }
        },
        {
          "output_type": "stream",
          "name": "stdout",
          "text": [
            "18748693145826770013189883801604300178739411276396739641554490566928848126494456715134562333721314122921166854442939409512966398\n"
          ]
        }
      ]
    },
    {
      "cell_type": "code",
      "source": [
        "import torch.nn as nn\n",
        "import torch.nn.functional as F\n",
        "\n",
        "class Net(nn.Module):\n",
        "  def __init__(self):\n",
        "    super(Net, self).__init__()\n",
        "\n",
        "    # Define layers here\n",
        "    # First CNN layer using 32 filters of 3x3 size with stride of 1 and padding of 0\n",
        "    self.conv1 = nn.Conv2d(1, 32, 3)\n",
        "    # Second layer using 64 filters of 3x3 size with stride 1 and padding of 0\n",
        "    self.conv2 = nn.Conv2d(32, 64, 3)\n",
        "    # Max Pool Layer 2 x 2 kernel of stride 2\n",
        "    self.pool = nn.MaxPool2d(2, 2)\n",
        "    # First Fully Connected Layer takes output of max pool 12 x 12 x 64 and connects it\n",
        "    # to a set of 128 nodes\n",
        "    self.fc1 = nn.Linear(64 * 12 * 12, 128)\n",
        "    # Second Fully Connected Layer connects the 128 nodes to 10 output nodes (our classes)\n",
        "    self.fc2 = nn.Linear(128, 10)\n",
        "\n",
        "  def forward(self, x):\n",
        "    # Here we define our forward propagation sequence\n",
        "    # Its Conv1 - Relu - Conv2 - Relu - Max Pool - Flatten - FC1 - FC2\n",
        "    x = F.relu(self.conv1(x))\n",
        "    x = self.pool(F.relu(self.conv2(x)))\n",
        "    x = x.view(-1, 64 * 12 * 12) # Flatten\n",
        "    x = F.relu(self.fc1(x))\n",
        "    x = self.fc2(x)\n",
        "    return x\n",
        "\n",
        "# Create an instance of the model and move it to the CUDA devicec\n",
        "net = Net()\n",
        "net.to(device)\n",
        "\n"
      ],
      "metadata": {
        "colab": {
          "base_uri": "https://localhost:8080/"
        },
        "id": "LbEjsWhJlM0h",
        "outputId": "cc0d46e3-b121-4076-ea14-0a0aede596f5"
      },
      "execution_count": 12,
      "outputs": [
        {
          "output_type": "execute_result",
          "data": {
            "text/plain": [
              "Net(\n",
              "  (conv1): Conv2d(1, 32, kernel_size=(3, 3), stride=(1, 1))\n",
              "  (conv2): Conv2d(32, 64, kernel_size=(3, 3), stride=(1, 1))\n",
              "  (pool): MaxPool2d(kernel_size=2, stride=2, padding=0, dilation=1, ceil_mode=False)\n",
              "  (fc1): Linear(in_features=9216, out_features=128, bias=True)\n",
              "  (fc2): Linear(in_features=128, out_features=10, bias=True)\n",
              ")"
            ]
          },
          "metadata": {},
          "execution_count": 12
        }
      ]
    },
    {
      "cell_type": "code",
      "source": [
        "print(net)"
      ],
      "metadata": {
        "colab": {
          "base_uri": "https://localhost:8080/"
        },
        "id": "dK3nUgZvrKCi",
        "outputId": "2bf85d02-2005-4343-b2be-f8d7030bd9bc"
      },
      "execution_count": 13,
      "outputs": [
        {
          "output_type": "stream",
          "name": "stdout",
          "text": [
            "Net(\n",
            "  (conv1): Conv2d(1, 32, kernel_size=(3, 3), stride=(1, 1))\n",
            "  (conv2): Conv2d(32, 64, kernel_size=(3, 3), stride=(1, 1))\n",
            "  (pool): MaxPool2d(kernel_size=2, stride=2, padding=0, dilation=1, ceil_mode=False)\n",
            "  (fc1): Linear(in_features=9216, out_features=128, bias=True)\n",
            "  (fc2): Linear(in_features=128, out_features=10, bias=True)\n",
            ")\n"
          ]
        }
      ]
    },
    {
      "cell_type": "code",
      "source": [
        "# Import optimizer function\n",
        "import torch.optim as optim\n",
        "\n",
        "# Use crossentropy loss as our loss function\n",
        "criterion = nn.CrossEntropyLoss()\n",
        "\n",
        "# For optimizer we use SGD with a learning rate of 0.001 and momentum 0.9\n",
        "optimizer = optim.SGD(net.parameters(), lr=0.001, momentum=0.9)\n"
      ],
      "metadata": {
        "id": "FWivsamNrt8m"
      },
      "execution_count": 14,
      "outputs": []
    },
    {
      "cell_type": "code",
      "source": [
        "epochs = 10\n",
        "\n",
        "# Create empty arrays to store logs\n",
        "epochs_log = []\n",
        "loss_log = []\n",
        "accuracy_log = []\n",
        "\n",
        "# Iterate for a specific number of epochs\n",
        "for epoch in range(epochs):\n",
        "  print('Starting Epoch: {}...'.format(epoch+1))\n",
        "  \n",
        "  # Keep adding/accumulating loss after each mini-batch in running_loss\n",
        "  running_loss = 0.0\n",
        "\n",
        "  for i, data in enumerate(trainloader, 0):\n",
        "    inputs, labels = data\n",
        "\n",
        "    inputs = inputs.to(device)\n",
        "    labels = labels.to(device)\n",
        "\n",
        "    # Clear the gradients before training by setting to zero\n",
        "    optimizer.zero_grad()\n",
        "\n",
        "    # Forward prop ==> backprop + optimize\n",
        "    outputs = net(inputs) # Forward propagation\n",
        "    loss = criterion(outputs, labels) # Get loss\n",
        "    loss.backward()\n",
        "    optimizer.step()\n",
        "\n",
        "    running_loss += loss.item()\n",
        "    if i % 50 == 49:\n",
        "      correct = 0\n",
        "      total = 0\n",
        "\n",
        "      # no_grad will save memory since not required for validation\n",
        "      with torch.no_grad():\n",
        "        # Iterate through testloader iterator\n",
        "        for data in testloader:\n",
        "          images, labels = data\n",
        "          images = images.to(device)\n",
        "          labels = labels.to(device)\n",
        "\n",
        "          outputs = net(images)\n",
        "          # Get predictions from max value of predicted output\n",
        "          _, predicted = torch.max(outputs.data, dim=1)\n",
        "          total += labels.size(0)\n",
        "          correct += (predicted == labels).sum().item()\n",
        "\n",
        "        accuracy = 100 * correct / total\n",
        "        epoch_num = epoch + 1\n",
        "        actual_loss = running_loss / 50\n",
        "        print(f'Epoch: {epoch_num}, Mini-Batches Completed: {(i+1)}, Loss: {actual_loss:.3f}, Test Accuracy = {accuracy:.3f}%')\n",
        "        running_loss = 0.0\n",
        "\n",
        "  epochs_log.append(epoch_num)\n",
        "  loss_log.append(actual_loss)\n",
        "  accuracy_log.append(accuracy)\n",
        "\n",
        "print('Finished Training')"
      ],
      "metadata": {
        "colab": {
          "base_uri": "https://localhost:8080/"
        },
        "id": "zCm0SuxBsrGe",
        "outputId": "04c832b6-9a84-4ccc-81be-896b53fe4cf9"
      },
      "execution_count": 25,
      "outputs": [
        {
          "output_type": "stream",
          "name": "stdout",
          "text": [
            "Starting Epoch: 1...\n",
            "Epoch: 1, Mini-Batches Completed: 50, Loss: 0.157, Test Accuracy = 95.768%\n",
            "Epoch: 1, Mini-Batches Completed: 100, Loss: 0.136, Test Accuracy = 95.768%\n",
            "Epoch: 1, Mini-Batches Completed: 150, Loss: 0.143, Test Accuracy = 95.768%\n",
            "Epoch: 1, Mini-Batches Completed: 200, Loss: 0.142, Test Accuracy = 95.768%\n",
            "Epoch: 1, Mini-Batches Completed: 250, Loss: 0.147, Test Accuracy = 95.768%\n",
            "Epoch: 1, Mini-Batches Completed: 300, Loss: 0.145, Test Accuracy = 95.768%\n",
            "Epoch: 1, Mini-Batches Completed: 350, Loss: 0.144, Test Accuracy = 95.768%\n",
            "Epoch: 1, Mini-Batches Completed: 400, Loss: 0.142, Test Accuracy = 95.768%\n",
            "Epoch: 1, Mini-Batches Completed: 450, Loss: 0.137, Test Accuracy = 95.768%\n",
            "Starting Epoch: 2...\n",
            "Epoch: 2, Mini-Batches Completed: 50, Loss: 0.134, Test Accuracy = 95.768%\n",
            "Epoch: 2, Mini-Batches Completed: 100, Loss: 0.148, Test Accuracy = 95.768%\n",
            "Epoch: 2, Mini-Batches Completed: 150, Loss: 0.154, Test Accuracy = 95.768%\n",
            "Epoch: 2, Mini-Batches Completed: 200, Loss: 0.141, Test Accuracy = 95.768%\n",
            "Epoch: 2, Mini-Batches Completed: 250, Loss: 0.148, Test Accuracy = 95.768%\n",
            "Epoch: 2, Mini-Batches Completed: 300, Loss: 0.150, Test Accuracy = 95.768%\n",
            "Epoch: 2, Mini-Batches Completed: 350, Loss: 0.140, Test Accuracy = 95.768%\n",
            "Epoch: 2, Mini-Batches Completed: 400, Loss: 0.132, Test Accuracy = 95.768%\n",
            "Epoch: 2, Mini-Batches Completed: 450, Loss: 0.139, Test Accuracy = 95.768%\n",
            "Starting Epoch: 3...\n",
            "Epoch: 3, Mini-Batches Completed: 50, Loss: 0.149, Test Accuracy = 95.768%\n",
            "Epoch: 3, Mini-Batches Completed: 100, Loss: 0.141, Test Accuracy = 95.768%\n",
            "Epoch: 3, Mini-Batches Completed: 150, Loss: 0.142, Test Accuracy = 95.768%\n",
            "Epoch: 3, Mini-Batches Completed: 200, Loss: 0.151, Test Accuracy = 95.768%\n",
            "Epoch: 3, Mini-Batches Completed: 250, Loss: 0.141, Test Accuracy = 95.768%\n",
            "Epoch: 3, Mini-Batches Completed: 300, Loss: 0.141, Test Accuracy = 95.768%\n",
            "Epoch: 3, Mini-Batches Completed: 350, Loss: 0.132, Test Accuracy = 95.768%\n",
            "Epoch: 3, Mini-Batches Completed: 400, Loss: 0.153, Test Accuracy = 95.768%\n",
            "Epoch: 3, Mini-Batches Completed: 450, Loss: 0.141, Test Accuracy = 95.768%\n",
            "Starting Epoch: 4...\n",
            "Epoch: 4, Mini-Batches Completed: 50, Loss: 0.148, Test Accuracy = 95.768%\n",
            "Epoch: 4, Mini-Batches Completed: 100, Loss: 0.132, Test Accuracy = 95.768%\n",
            "Epoch: 4, Mini-Batches Completed: 150, Loss: 0.143, Test Accuracy = 95.768%\n",
            "Epoch: 4, Mini-Batches Completed: 200, Loss: 0.142, Test Accuracy = 95.768%\n",
            "Epoch: 4, Mini-Batches Completed: 250, Loss: 0.156, Test Accuracy = 95.768%\n",
            "Epoch: 4, Mini-Batches Completed: 300, Loss: 0.151, Test Accuracy = 95.768%\n",
            "Epoch: 4, Mini-Batches Completed: 350, Loss: 0.144, Test Accuracy = 95.768%\n",
            "Epoch: 4, Mini-Batches Completed: 400, Loss: 0.138, Test Accuracy = 95.768%\n",
            "Epoch: 4, Mini-Batches Completed: 450, Loss: 0.132, Test Accuracy = 95.768%\n",
            "Starting Epoch: 5...\n",
            "Epoch: 5, Mini-Batches Completed: 50, Loss: 0.144, Test Accuracy = 95.768%\n",
            "Epoch: 5, Mini-Batches Completed: 100, Loss: 0.142, Test Accuracy = 95.768%\n",
            "Epoch: 5, Mini-Batches Completed: 150, Loss: 0.152, Test Accuracy = 95.768%\n",
            "Epoch: 5, Mini-Batches Completed: 200, Loss: 0.143, Test Accuracy = 95.768%\n",
            "Epoch: 5, Mini-Batches Completed: 250, Loss: 0.149, Test Accuracy = 95.768%\n",
            "Epoch: 5, Mini-Batches Completed: 300, Loss: 0.137, Test Accuracy = 95.768%\n",
            "Epoch: 5, Mini-Batches Completed: 350, Loss: 0.143, Test Accuracy = 95.768%\n",
            "Epoch: 5, Mini-Batches Completed: 400, Loss: 0.149, Test Accuracy = 95.768%\n",
            "Epoch: 5, Mini-Batches Completed: 450, Loss: 0.132, Test Accuracy = 95.768%\n",
            "Starting Epoch: 6...\n",
            "Epoch: 6, Mini-Batches Completed: 50, Loss: 0.145, Test Accuracy = 95.768%\n",
            "Epoch: 6, Mini-Batches Completed: 100, Loss: 0.154, Test Accuracy = 95.768%\n",
            "Epoch: 6, Mini-Batches Completed: 150, Loss: 0.147, Test Accuracy = 95.768%\n",
            "Epoch: 6, Mini-Batches Completed: 200, Loss: 0.136, Test Accuracy = 95.768%\n",
            "Epoch: 6, Mini-Batches Completed: 250, Loss: 0.140, Test Accuracy = 95.768%\n",
            "Epoch: 6, Mini-Batches Completed: 300, Loss: 0.138, Test Accuracy = 95.768%\n",
            "Epoch: 6, Mini-Batches Completed: 350, Loss: 0.137, Test Accuracy = 95.768%\n",
            "Epoch: 6, Mini-Batches Completed: 400, Loss: 0.144, Test Accuracy = 95.768%\n",
            "Epoch: 6, Mini-Batches Completed: 450, Loss: 0.152, Test Accuracy = 95.768%\n",
            "Starting Epoch: 7...\n",
            "Epoch: 7, Mini-Batches Completed: 50, Loss: 0.145, Test Accuracy = 95.768%\n",
            "Epoch: 7, Mini-Batches Completed: 100, Loss: 0.145, Test Accuracy = 95.768%\n",
            "Epoch: 7, Mini-Batches Completed: 150, Loss: 0.130, Test Accuracy = 95.768%\n",
            "Epoch: 7, Mini-Batches Completed: 200, Loss: 0.134, Test Accuracy = 95.768%\n",
            "Epoch: 7, Mini-Batches Completed: 250, Loss: 0.139, Test Accuracy = 95.768%\n",
            "Epoch: 7, Mini-Batches Completed: 300, Loss: 0.147, Test Accuracy = 95.768%\n",
            "Epoch: 7, Mini-Batches Completed: 350, Loss: 0.146, Test Accuracy = 95.768%\n",
            "Epoch: 7, Mini-Batches Completed: 400, Loss: 0.152, Test Accuracy = 95.768%\n",
            "Epoch: 7, Mini-Batches Completed: 450, Loss: 0.145, Test Accuracy = 95.768%\n",
            "Starting Epoch: 8...\n",
            "Epoch: 8, Mini-Batches Completed: 50, Loss: 0.145, Test Accuracy = 95.768%\n",
            "Epoch: 8, Mini-Batches Completed: 100, Loss: 0.146, Test Accuracy = 95.768%\n",
            "Epoch: 8, Mini-Batches Completed: 150, Loss: 0.143, Test Accuracy = 95.768%\n",
            "Epoch: 8, Mini-Batches Completed: 200, Loss: 0.146, Test Accuracy = 95.768%\n",
            "Epoch: 8, Mini-Batches Completed: 250, Loss: 0.144, Test Accuracy = 95.768%\n",
            "Epoch: 8, Mini-Batches Completed: 300, Loss: 0.138, Test Accuracy = 95.768%\n",
            "Epoch: 8, Mini-Batches Completed: 350, Loss: 0.140, Test Accuracy = 95.768%\n",
            "Epoch: 8, Mini-Batches Completed: 400, Loss: 0.133, Test Accuracy = 95.768%\n",
            "Epoch: 8, Mini-Batches Completed: 450, Loss: 0.148, Test Accuracy = 95.768%\n",
            "Starting Epoch: 9...\n",
            "Epoch: 9, Mini-Batches Completed: 50, Loss: 0.150, Test Accuracy = 95.768%\n",
            "Epoch: 9, Mini-Batches Completed: 100, Loss: 0.151, Test Accuracy = 95.768%\n",
            "Epoch: 9, Mini-Batches Completed: 150, Loss: 0.141, Test Accuracy = 95.768%\n",
            "Epoch: 9, Mini-Batches Completed: 200, Loss: 0.132, Test Accuracy = 95.768%\n",
            "Epoch: 9, Mini-Batches Completed: 250, Loss: 0.140, Test Accuracy = 95.768%\n",
            "Epoch: 9, Mini-Batches Completed: 300, Loss: 0.150, Test Accuracy = 95.768%\n",
            "Epoch: 9, Mini-Batches Completed: 350, Loss: 0.142, Test Accuracy = 95.768%\n",
            "Epoch: 9, Mini-Batches Completed: 400, Loss: 0.145, Test Accuracy = 95.768%\n",
            "Epoch: 9, Mini-Batches Completed: 450, Loss: 0.135, Test Accuracy = 95.768%\n",
            "Starting Epoch: 10...\n",
            "Epoch: 10, Mini-Batches Completed: 50, Loss: 0.141, Test Accuracy = 95.768%\n",
            "Epoch: 10, Mini-Batches Completed: 100, Loss: 0.139, Test Accuracy = 95.768%\n",
            "Epoch: 10, Mini-Batches Completed: 150, Loss: 0.136, Test Accuracy = 95.768%\n",
            "Epoch: 10, Mini-Batches Completed: 200, Loss: 0.140, Test Accuracy = 95.768%\n",
            "Epoch: 10, Mini-Batches Completed: 250, Loss: 0.140, Test Accuracy = 95.768%\n",
            "Epoch: 10, Mini-Batches Completed: 300, Loss: 0.153, Test Accuracy = 95.768%\n",
            "Epoch: 10, Mini-Batches Completed: 350, Loss: 0.148, Test Accuracy = 95.768%\n",
            "Epoch: 10, Mini-Batches Completed: 400, Loss: 0.143, Test Accuracy = 95.768%\n",
            "Epoch: 10, Mini-Batches Completed: 450, Loss: 0.149, Test Accuracy = 95.768%\n",
            "Finished Training\n"
          ]
        }
      ]
    },
    {
      "cell_type": "code",
      "source": [
        "PATH = './mnist_cnn_net.pth'\n",
        "torch.save(net.state_dict(), PATH)"
      ],
      "metadata": {
        "id": "CFWI6Fem2bas"
      },
      "execution_count": 26,
      "outputs": []
    },
    {
      "cell_type": "code",
      "source": [
        "dataiter = iter(testloader)\n",
        "images, labels = next(dataiter)\n",
        "\n",
        "# Display images \n",
        "imshow(torchvision.utils.make_grid(images))\n",
        "print('GroundTruth: ', ''.join('%1s' % labels[j].numpy() for j in range(128)))"
      ],
      "metadata": {
        "colab": {
          "base_uri": "https://localhost:8080/",
          "height": 306
        },
        "id": "jA2FtLgf4rM_",
        "outputId": "26779d3b-195e-47f0-ad18-3bbf4f6d5c82"
      },
      "execution_count": 27,
      "outputs": [
        {
          "output_type": "display_data",
          "data": {
            "text/plain": [
              "<Figure size 432x288 with 1 Axes>"
            ],
            "image/png": "[encoded data removed]"
          },
          "metadata": {
            "needs_background": "light"
          }
        },
        {
          "output_type": "stream",
          "name": "stdout",
          "text": [
            "GroundTruth:  50419213143536172869409112432738690560761879398593307498094144604561001716302117902678390467468078315717116302931104920020271864\n"
          ]
        }
      ]
    },
    {
      "cell_type": "code",
      "source": [
        "# Create an instance of the model and move it to the device\n",
        "net = Net()\n",
        "net.to(device)\n",
        "\n",
        "# Load weights from the specified path\n",
        "net.load_state_dict(torch.load(PATH))"
      ],
      "metadata": {
        "colab": {
          "base_uri": "https://localhost:8080/"
        },
        "id": "jtrtMYgO4r1K",
        "outputId": "822f0cd1-a620-4f82-de34-5f00d7ffbc32"
      },
      "execution_count": 28,
      "outputs": [
        {
          "output_type": "execute_result",
          "data": {
            "text/plain": [
              "<All keys matched successfully>"
            ]
          },
          "metadata": {},
          "execution_count": 28
        }
      ]
    },
    {
      "cell_type": "code",
      "source": [
        "test_iter = iter(testloader)\n",
        "\n",
        "images, labels = next(test_iter)\n",
        "\n",
        "images = images.to(device)\n",
        "labels = labels.to(device)\n",
        "\n",
        "outputs = net(images)\n",
        "\n",
        "_, predicted = torch.max(outputs, 1)\n",
        "\n",
        "print('Predicted: ', ''.join('%1s' % predicted[j].cpu().numpy() for j in range(128)))\n"
      ],
      "metadata": {
        "colab": {
          "base_uri": "https://localhost:8080/"
        },
        "id": "1_LVhtuE4r8Q",
        "outputId": "4e2c8fac-46ad-4dee-bcb9-10aa4a14b305"
      },
      "execution_count": 29,
      "outputs": [
        {
          "output_type": "stream",
          "name": "stdout",
          "text": [
            "Predicted:  50419213143536172869409112432738690560761879398583307498094144604561001716302117802678390467468078315717116302931104930020271864\n"
          ]
        }
      ]
    },
    {
      "cell_type": "code",
      "source": [
        "# Test Accuracy\n",
        "\n",
        "correct = 0\n",
        "total = 0\n",
        "\n",
        "with torch.no_grad():\n",
        "  for data in testloader:\n",
        "    images, labels = data\n",
        "    images = images.to(device)\n",
        "    labels = labels.to(device)\n",
        "    outputs = net(images)\n",
        "    _, predicted = torch.max(outputs.data, 1)\n",
        "    total += labels.size(0)\n",
        "    correct += (predicted == labels).sum().item()\n",
        "\n",
        "accuracy = 100 * correct / total\n",
        "print(f'Accuracy of the network on the 10000 test images: {accuracy:.3}%')\n"
      ],
      "metadata": {
        "colab": {
          "base_uri": "https://localhost:8080/"
        },
        "id": "46lNd7JN9r55",
        "outputId": "3a07655d-a7dd-42b8-dc91-2c184ffb7c7f"
      },
      "execution_count": 30,
      "outputs": [
        {
          "output_type": "stream",
          "name": "stdout",
          "text": [
            "Accuracy of the network on the 10000 test images: 95.8%\n"
          ]
        }
      ]
    },
    {
      "cell_type": "code",
      "source": [
        "fig, ax1 = plt.subplots()\n",
        "\n",
        "plt.title(\"Accuracy & Loss vs Epoch\")\n",
        "plt.xticks(rotation=45)\n",
        "\n",
        "ax2 = ax1.twinx()\n",
        "\n",
        "ax1.plot(epochs_log, loss_log, 'g-')\n",
        "ax2.plot(epochs_log, accuracy_log, 'b-')\n",
        "\n",
        "ax1.set_xlabel('Epochs')\n",
        "ax1.set_ylabel('Loss', color='g')\n",
        "ax2.set_ylabel('Test Accuracy', color='b')\n",
        "\n",
        "plt.show()"
      ],
      "metadata": {
        "colab": {
          "base_uri": "https://localhost:8080/",
          "height": 301
        },
        "id": "wF5kDVlSEYUm",
        "outputId": "5a47c425-8de7-4371-9363-138d113ea5db"
      },
      "execution_count": 31,
      "outputs": [
        {
          "output_type": "display_data",
          "data": {
            "text/plain": [
              "<Figure size 432x288 with 2 Axes>"
            ],
            "image/png": "[encoded data removed]"
          },
          "metadata": {
            "needs_background": "light"
          }
        }
      ]
    },
    {
      "cell_type": "code",
      "source": [
        "class_correct = list(0. for i in range(10))\n",
        "class_total = list(0. for i in range(10))\n",
        "\n",
        "with torch.no_grad():\n",
        "  for data in testloader:\n",
        "    images, labels = data\n",
        "\n",
        "    images = images.to(device)\n",
        "    labels = labels.to(device)\n",
        "\n",
        "    outputs = net(images)\n",
        "\n",
        "    _, predicted = torch.max(outputs, 1)\n",
        "    c = (predicted == labels).squeeze()\n",
        "\n",
        "    for i in range(15):\n",
        "      label = labels[i]\n",
        "      class_correct[label] += c[i].item()\n",
        "      class_total[label] += 1\n",
        "\n",
        "for i in range(10):\n",
        "  class_accuracy = 100 * class_correct[i] / class_total[i]\n",
        "  print(f'Accuracy of {i} : {class_accuracy:.3f}%')\n",
        "\n"
      ],
      "metadata": {
        "colab": {
          "base_uri": "https://localhost:8080/"
        },
        "id": "sIhff2zmFGVn",
        "outputId": "1bd5f42d-d595-413e-99d0-826e2146c4c9"
      },
      "execution_count": 32,
      "outputs": [
        {
          "output_type": "stream",
          "name": "stdout",
          "text": [
            "Accuracy of 0 : 96.925%\n",
            "Accuracy of 1 : 98.506%\n",
            "Accuracy of 2 : 93.260%\n",
            "Accuracy of 3 : 94.610%\n",
            "Accuracy of 4 : 96.073%\n",
            "Accuracy of 5 : 93.210%\n",
            "Accuracy of 6 : 96.594%\n",
            "Accuracy of 7 : 94.452%\n",
            "Accuracy of 8 : 95.751%\n",
            "Accuracy of 9 : 95.315%\n"
          ]
        }
      ]
    },
    {
      "cell_type": "code",
      "source": [],
      "metadata": {
        "id": "s5oynTC2MiTF"
      },
      "execution_count": null,
      "outputs": []
    }
  ]
}