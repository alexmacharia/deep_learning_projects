{
  "nbformat": 4,
  "nbformat_minor": 0,
  "metadata": {
    "colab": {
      "provenance": [],
      "authorship_tag": "ABX9TyPaTnbezrWaTfwDJqcB11PE",
      "include_colab_link": true
    },
    "kernelspec": {
      "name": "python3",
      "display_name": "Python 3"
    },
    "language_info": {
      "name": "python"
    }
  },
  "cells": [
    {
      "cell_type": "markdown",
      "metadata": {
        "id": "view-in-github",
        "colab_type": "text"
      },
      "source": [
        "<a href=\"https://colab.research.google.com/github/alexmacharia/deep_learning_projects/blob/main/Incident_Root_Cause_Analysis.ipynb\" target=\"_parent\"><img src=\"https://colab.research.google.com/assets/colab-badge.svg\" alt=\"Open In Colab\"/></a>"
      ]
    },
    {
      "cell_type": "code",
      "execution_count": 1,
      "metadata": {
        "colab": {
          "base_uri": "https://localhost:8080/"
        },
        "id": "gKUXpcWdBZeP",
        "outputId": "ae318e93-51ba-4bdb-a9fa-5e9e7ed5a3d3"
      },
      "outputs": [
        {
          "output_type": "stream",
          "name": "stdout",
          "text": [
            "Mounted at /content/gdrive\n"
          ]
        }
      ],
      "source": [
        "from google.colab import drive\n",
        "drive.mount('/content/gdrive', force_remount=True)"
      ]
    },
    {
      "cell_type": "code",
      "source": [
        "# Import libraries\n",
        "\n",
        "import numpy as np\n",
        "import pandas as pd\n",
        "import matplotlib.pyplot as plt\n",
        "\n",
        "from tensorflow.keras.models import Sequential\n",
        "from tensorflow.keras.layers import Dense\n",
        "from tensorflow.keras.utils import to_categorical\n",
        "\n",
        "from sklearn.preprocessing import LabelEncoder\n",
        "from sklearn.model_selection import train_test_split\n"
      ],
      "metadata": {
        "id": "L0j5kolSDy7z"
      },
      "execution_count": 14,
      "outputs": []
    },
    {
      "cell_type": "code",
      "source": [
        "# Load the data\n",
        "\n",
        "df = pd.read_csv('/content/gdrive/MyDrive/deep_learning/data/root_cause_analysis.csv')\n",
        "\n",
        "df.head()"
      ],
      "metadata": {
        "colab": {
          "base_uri": "https://localhost:8080/",
          "height": 250
        },
        "id": "whWnUOc0D-xv",
        "outputId": "563273a7-63e1-4d5a-8451-f3980c6f2fac"
      },
      "execution_count": 7,
      "outputs": [
        {
          "output_type": "execute_result",
          "data": {
            "text/plain": [
              "   ID  CPU_LOAD  MEMORY_LEAK_LOAD  DELAY  ERROR_1000  ERROR_1001  ERROR_1002  \\\n",
              "0   1         0                 0      0           0           1           0   \n",
              "1   2         0                 0      0           0           0           0   \n",
              "2   3         0                 1      1           0           0           1   \n",
              "3   4         0                 1      0           1           1           0   \n",
              "4   5         1                 1      0           1           0           1   \n",
              "\n",
              "   ERROR_1003     ROOT_CAUSE  \n",
              "0           1    MEMORY_LEAK  \n",
              "1           1    MEMORY_LEAK  \n",
              "2           1    MEMORY_LEAK  \n",
              "3           1    MEMORY_LEAK  \n",
              "4           0  NETWORK_DELAY  "
            ],
            "text/html": [
              "\n",
              "  <div id=\"df-ac679581-b23d-45a4-8c19-5572105447e5\">\n",
              "    <div class=\"colab-df-container\">\n",
              "      <div>\n",
              "<style scoped>\n",
              "    .dataframe tbody tr th:only-of-type {\n",
              "        vertical-align: middle;\n",
              "    }\n",
              "\n",
              "    .dataframe tbody tr th {\n",
              "        vertical-align: top;\n",
              "    }\n",
              "\n",
              "    .dataframe thead th {\n",
              "        text-align: right;\n",
              "    }\n",
              "</style>\n",
              "<table border=\"1\" class=\"dataframe\">\n",
              "  <thead>\n",
              "    <tr style=\"text-align: right;\">\n",
              "      <th></th>\n",
              "      <th>ID</th>\n",
              "      <th>CPU_LOAD</th>\n",
              "      <th>MEMORY_LEAK_LOAD</th>\n",
              "      <th>DELAY</th>\n",
              "      <th>ERROR_1000</th>\n",
              "      <th>ERROR_1001</th>\n",
              "      <th>ERROR_1002</th>\n",
              "      <th>ERROR_1003</th>\n",
              "      <th>ROOT_CAUSE</th>\n",
              "    </tr>\n",
              "  </thead>\n",
              "  <tbody>\n",
              "    <tr>\n",
              "      <th>0</th>\n",
              "      <td>1</td>\n",
              "      <td>0</td>\n",
              "      <td>0</td>\n",
              "      <td>0</td>\n",
              "      <td>0</td>\n",
              "      <td>1</td>\n",
              "      <td>0</td>\n",
              "      <td>1</td>\n",
              "      <td>MEMORY_LEAK</td>\n",
              "    </tr>\n",
              "    <tr>\n",
              "      <th>1</th>\n",
              "      <td>2</td>\n",
              "      <td>0</td>\n",
              "      <td>0</td>\n",
              "      <td>0</td>\n",
              "      <td>0</td>\n",
              "      <td>0</td>\n",
              "      <td>0</td>\n",
              "      <td>1</td>\n",
              "      <td>MEMORY_LEAK</td>\n",
              "    </tr>\n",
              "    <tr>\n",
              "      <th>2</th>\n",
              "      <td>3</td>\n",
              "      <td>0</td>\n",
              "      <td>1</td>\n",
              "      <td>1</td>\n",
              "      <td>0</td>\n",
              "      <td>0</td>\n",
              "      <td>1</td>\n",
              "      <td>1</td>\n",
              "      <td>MEMORY_LEAK</td>\n",
              "    </tr>\n",
              "    <tr>\n",
              "      <th>3</th>\n",
              "      <td>4</td>\n",
              "      <td>0</td>\n",
              "      <td>1</td>\n",
              "      <td>0</td>\n",
              "      <td>1</td>\n",
              "      <td>1</td>\n",
              "      <td>0</td>\n",
              "      <td>1</td>\n",
              "      <td>MEMORY_LEAK</td>\n",
              "    </tr>\n",
              "    <tr>\n",
              "      <th>4</th>\n",
              "      <td>5</td>\n",
              "      <td>1</td>\n",
              "      <td>1</td>\n",
              "      <td>0</td>\n",
              "      <td>1</td>\n",
              "      <td>0</td>\n",
              "      <td>1</td>\n",
              "      <td>0</td>\n",
              "      <td>NETWORK_DELAY</td>\n",
              "    </tr>\n",
              "  </tbody>\n",
              "</table>\n",
              "</div>\n",
              "      <button class=\"colab-df-convert\" onclick=\"convertToInteractive('df-ac679581-b23d-45a4-8c19-5572105447e5')\"\n",
              "              title=\"Convert this dataframe to an interactive table.\"\n",
              "              style=\"display:none;\">\n",
              "        \n",
              "  <svg xmlns=\"http://www.w3.org/2000/svg\" height=\"24px\"viewBox=\"0 0 24 24\"\n",
              "       width=\"24px\">\n",
              "    <path d=\"M0 0h24v24H0V0z\" fill=\"none\"/>\n",
              "    <path d=\"M18.56 5.44l.94 2.06.94-2.06 2.06-.94-2.06-.94-.94-2.06-.94 2.06-2.06.94zm-11 1L8.5 8.5l.94-2.06 2.06-.94-2.06-.94L8.5 2.5l-.94 2.06-2.06.94zm10 10l.94 2.06.94-2.06 2.06-.94-2.06-.94-.94-2.06-.94 2.06-2.06.94z\"/><path d=\"M17.41 7.96l-1.37-1.37c-.4-.4-.92-.59-1.43-.59-.52 0-1.04.2-1.43.59L10.3 9.45l-7.72 7.72c-.78.78-.78 2.05 0 2.83L4 21.41c.39.39.9.59 1.41.59.51 0 1.02-.2 1.41-.59l7.78-7.78 2.81-2.81c.8-.78.8-2.07 0-2.86zM5.41 20L4 18.59l7.72-7.72 1.47 1.35L5.41 20z\"/>\n",
              "  </svg>\n",
              "      </button>\n",
              "      \n",
              "  <style>\n",
              "    .colab-df-container {\n",
              "      display:flex;\n",
              "      flex-wrap:wrap;\n",
              "      gap: 12px;\n",
              "    }\n",
              "\n",
              "    .colab-df-convert {\n",
              "      background-color: #E8F0FE;\n",
              "      border: none;\n",
              "      border-radius: 50%;\n",
              "      cursor: pointer;\n",
              "      display: none;\n",
              "      fill: #1967D2;\n",
              "      height: 32px;\n",
              "      padding: 0 0 0 0;\n",
              "      width: 32px;\n",
              "    }\n",
              "\n",
              "    .colab-df-convert:hover {\n",
              "      background-color: #E2EBFA;\n",
              "      box-shadow: 0px 1px 2px rgba(60, 64, 67, 0.3), 0px 1px 3px 1px rgba(60, 64, 67, 0.15);\n",
              "      fill: #174EA6;\n",
              "    }\n",
              "\n",
              "    [theme=dark] .colab-df-convert {\n",
              "      background-color: #3B4455;\n",
              "      fill: #D2E3FC;\n",
              "    }\n",
              "\n",
              "    [theme=dark] .colab-df-convert:hover {\n",
              "      background-color: #434B5C;\n",
              "      box-shadow: 0px 1px 3px 1px rgba(0, 0, 0, 0.15);\n",
              "      filter: drop-shadow(0px 1px 2px rgba(0, 0, 0, 0.3));\n",
              "      fill: #FFFFFF;\n",
              "    }\n",
              "  </style>\n",
              "\n",
              "      <script>\n",
              "        const buttonEl =\n",
              "          document.querySelector('#df-ac679581-b23d-45a4-8c19-5572105447e5 button.colab-df-convert');\n",
              "        buttonEl.style.display =\n",
              "          google.colab.kernel.accessAllowed ? 'block' : 'none';\n",
              "\n",
              "        async function convertToInteractive(key) {\n",
              "          const element = document.querySelector('#df-ac679581-b23d-45a4-8c19-5572105447e5');\n",
              "          const dataTable =\n",
              "            await google.colab.kernel.invokeFunction('convertToInteractive',\n",
              "                                                     [key], {});\n",
              "          if (!dataTable) return;\n",
              "\n",
              "          const docLinkHtml = 'Like what you see? Visit the ' +\n",
              "            '<a target=\"_blank\" href=https://colab.research.google.com/notebooks/data_table.ipynb>data table notebook</a>'\n",
              "            + ' to learn more about interactive tables.';\n",
              "          element.innerHTML = '';\n",
              "          dataTable['output_type'] = 'display_data';\n",
              "          await google.colab.output.renderOutput(dataTable, element);\n",
              "          const docLink = document.createElement('div');\n",
              "          docLink.innerHTML = docLinkHtml;\n",
              "          element.appendChild(docLink);\n",
              "        }\n",
              "      </script>\n",
              "    </div>\n",
              "  </div>\n",
              "  "
            ]
          },
          "metadata": {},
          "execution_count": 7
        }
      ]
    },
    {
      "cell_type": "code",
      "source": [
        "label_encoder = LabelEncoder()\n",
        "df['ROOT_CAUSE'] = label_encoder.fit_transform(df['ROOT_CAUSE'])\n",
        "\n",
        "\n",
        "df_array = df.to_numpy().astype(float)\n",
        "X = df_array[:,1:8]\n",
        "\n",
        "Y = df_array[:,8]\n",
        "\n"
      ],
      "metadata": {
        "id": "vJmIcJgaF8rJ"
      },
      "execution_count": 10,
      "outputs": []
    },
    {
      "cell_type": "code",
      "source": [
        "Y = to_categorical(Y, 3)\n",
        "\n",
        "X_train, X_test, y_train, y_test = train_test_split(X, Y, test_size=0.1)\n",
        "\n",
        "print(X_train.shape)\n",
        "print(X_test.shape)\n",
        "\n",
        "print(y_train.shape)\n",
        "print(y_test.shape)"
      ],
      "metadata": {
        "id": "aJm7vk5-GXfd",
        "colab": {
          "base_uri": "https://localhost:8080/"
        },
        "outputId": "ab358e3b-9f33-4ec3-9dc3-dd14e6d1b12e"
      },
      "execution_count": 11,
      "outputs": [
        {
          "output_type": "stream",
          "name": "stdout",
          "text": [
            "(900, 7)\n",
            "(100, 7)\n",
            "(900, 3)\n",
            "(100, 3)\n"
          ]
        }
      ]
    },
    {
      "cell_type": "code",
      "source": [
        "EPOCHS = 20\n",
        "BATCH_SIZE = 64\n",
        "VERBOSE = 1\n",
        "OUTPUT_CLASSES = len(label_encoder.classes_)\n",
        "N_HIDDEN = 128\n",
        "VALIDATION_SPLIT = 0.2\n",
        "\n",
        "model = Sequential()\n",
        "model.add(Dense(N_HIDDEN, input_shape=(7,), name='Dense_Layer_1', activation='relu'))\n",
        "model.add(Dense(N_HIDDEN, name='Dense_Layer_2', activation='relu'))\n",
        "model.add(Dense(OUTPUT_CLASSES, name='Final_Layer', activation='softmax'))\n",
        "\n",
        "model.compile(loss='categorical_crossentropy', metrics=['accuracy'])\n",
        "\n",
        "model.summary()\n",
        "\n"
      ],
      "metadata": {
        "colab": {
          "base_uri": "https://localhost:8080/"
        },
        "id": "M82ElLl5lmYg",
        "outputId": "6054c507-5e41-4891-f1f5-1eaf176bded3"
      },
      "execution_count": 12,
      "outputs": [
        {
          "output_type": "stream",
          "name": "stdout",
          "text": [
            "Model: \"sequential\"\n",
            "_________________________________________________________________\n",
            " Layer (type)                Output Shape              Param #   \n",
            "=================================================================\n",
            " Dense_Layer_1 (Dense)       (None, 128)               1024      \n",
            "                                                                 \n",
            " Dense_Layer_2 (Dense)       (None, 128)               16512     \n",
            "                                                                 \n",
            " Final_Layer (Dense)         (None, 3)                 387       \n",
            "                                                                 \n",
            "=================================================================\n",
            "Total params: 17,923\n",
            "Trainable params: 17,923\n",
            "Non-trainable params: 0\n",
            "_________________________________________________________________\n"
          ]
        }
      ]
    },
    {
      "cell_type": "code",
      "source": [
        "model.fit(X_train,\n",
        "          y_train,\n",
        "          batch_size=BATCH_SIZE,\n",
        "          epochs=EPOCHS,\n",
        "          verbose=VERBOSE,\n",
        "          validation_split=VALIDATION_SPLIT)"
      ],
      "metadata": {
        "colab": {
          "base_uri": "https://localhost:8080/"
        },
        "id": "NCGyve90m_Ky",
        "outputId": "9d65cb27-3a46-4661-ccf8-bca3cb269cfc"
      },
      "execution_count": 13,
      "outputs": [
        {
          "output_type": "stream",
          "name": "stdout",
          "text": [
            "Epoch 1/20\n",
            "12/12 [==============================] - 1s 20ms/step - loss: 0.9064 - accuracy: 0.7194 - val_loss: 0.7476 - val_accuracy: 0.8111\n",
            "Epoch 2/20\n",
            "12/12 [==============================] - 0s 6ms/step - loss: 0.6396 - accuracy: 0.8125 - val_loss: 0.5916 - val_accuracy: 0.8000\n",
            "Epoch 3/20\n",
            "12/12 [==============================] - 0s 6ms/step - loss: 0.5104 - accuracy: 0.8347 - val_loss: 0.5600 - val_accuracy: 0.7778\n",
            "Epoch 4/20\n",
            "12/12 [==============================] - 0s 6ms/step - loss: 0.4591 - accuracy: 0.8250 - val_loss: 0.5283 - val_accuracy: 0.8000\n",
            "Epoch 5/20\n",
            "12/12 [==============================] - 0s 6ms/step - loss: 0.4357 - accuracy: 0.8389 - val_loss: 0.5147 - val_accuracy: 0.8111\n",
            "Epoch 6/20\n",
            "12/12 [==============================] - 0s 6ms/step - loss: 0.4208 - accuracy: 0.8486 - val_loss: 0.5241 - val_accuracy: 0.8056\n",
            "Epoch 7/20\n",
            "12/12 [==============================] - 0s 5ms/step - loss: 0.4162 - accuracy: 0.8472 - val_loss: 0.5171 - val_accuracy: 0.8111\n",
            "Epoch 8/20\n",
            "12/12 [==============================] - 0s 6ms/step - loss: 0.4049 - accuracy: 0.8472 - val_loss: 0.5339 - val_accuracy: 0.7833\n",
            "Epoch 9/20\n",
            "12/12 [==============================] - 0s 7ms/step - loss: 0.3979 - accuracy: 0.8514 - val_loss: 0.5087 - val_accuracy: 0.7944\n",
            "Epoch 10/20\n",
            "12/12 [==============================] - 0s 4ms/step - loss: 0.3973 - accuracy: 0.8542 - val_loss: 0.5291 - val_accuracy: 0.8000\n",
            "Epoch 11/20\n",
            "12/12 [==============================] - 0s 6ms/step - loss: 0.3894 - accuracy: 0.8542 - val_loss: 0.5137 - val_accuracy: 0.8222\n",
            "Epoch 12/20\n",
            "12/12 [==============================] - 0s 4ms/step - loss: 0.3867 - accuracy: 0.8486 - val_loss: 0.5253 - val_accuracy: 0.7944\n",
            "Epoch 13/20\n",
            "12/12 [==============================] - 0s 6ms/step - loss: 0.3845 - accuracy: 0.8639 - val_loss: 0.5045 - val_accuracy: 0.8111\n",
            "Epoch 14/20\n",
            "12/12 [==============================] - 0s 6ms/step - loss: 0.3787 - accuracy: 0.8694 - val_loss: 0.5223 - val_accuracy: 0.8056\n",
            "Epoch 15/20\n",
            "12/12 [==============================] - 0s 6ms/step - loss: 0.3722 - accuracy: 0.8653 - val_loss: 0.4965 - val_accuracy: 0.8167\n",
            "Epoch 16/20\n",
            "12/12 [==============================] - 0s 6ms/step - loss: 0.3697 - accuracy: 0.8556 - val_loss: 0.4931 - val_accuracy: 0.8167\n",
            "Epoch 17/20\n",
            "12/12 [==============================] - 0s 6ms/step - loss: 0.3674 - accuracy: 0.8694 - val_loss: 0.4927 - val_accuracy: 0.8222\n",
            "Epoch 18/20\n",
            "12/12 [==============================] - 0s 4ms/step - loss: 0.3609 - accuracy: 0.8694 - val_loss: 0.4848 - val_accuracy: 0.8222\n",
            "Epoch 19/20\n",
            "12/12 [==============================] - 0s 4ms/step - loss: 0.3617 - accuracy: 0.8625 - val_loss: 0.4914 - val_accuracy: 0.8167\n",
            "Epoch 20/20\n",
            "12/12 [==============================] - 0s 6ms/step - loss: 0.3566 - accuracy: 0.8708 - val_loss: 0.4830 - val_accuracy: 0.8167\n"
          ]
        },
        {
          "output_type": "execute_result",
          "data": {
            "text/plain": [
              "<keras.callbacks.History at 0x7f433491d8e0>"
            ]
          },
          "metadata": {},
          "execution_count": 13
        }
      ]
    },
    {
      "cell_type": "code",
      "source": [
        "model.evaluate(X_test, y_test)"
      ],
      "metadata": {
        "colab": {
          "base_uri": "https://localhost:8080/"
        },
        "id": "xrObMDbDouIi",
        "outputId": "e55f7bfa-1b03-4b33-fe9f-02bc13b65577"
      },
      "execution_count": 16,
      "outputs": [
        {
          "output_type": "stream",
          "name": "stdout",
          "text": [
            "4/4 [==============================] - 0s 7ms/step - loss: 0.4803 - accuracy: 0.8400\n"
          ]
        },
        {
          "output_type": "execute_result",
          "data": {
            "text/plain": [
              "[0.4802558422088623, 0.8399999737739563]"
            ]
          },
          "metadata": {},
          "execution_count": 16
        }
      ]
    },
    {
      "cell_type": "code",
      "source": [
        "CPU_LOAD=1\n",
        "MEMORY_LOAD=0\n",
        "DELAY=0\n",
        "ERROR_1000=0\n",
        "ERROR_1001=1\n",
        "ERROR_1002=1\n",
        "ERROR_1003=0\n",
        "\n",
        "prediction = np.argmax(model.predict(\n",
        "    [[CPU_LOAD,MEMORY_LOAD,DELAY,\n",
        "      ERROR_1000,ERROR_1001,ERROR_1002,ERROR_1003]]), axis=1\n",
        ")\n",
        "\n",
        "print(label_encoder.inverse_transform(prediction))"
      ],
      "metadata": {
        "colab": {
          "base_uri": "https://localhost:8080/"
        },
        "id": "ztpv_aewnylz",
        "outputId": "e9f7d8a5-3bec-4767-bd76-4b9fd8a926aa"
      },
      "execution_count": 15,
      "outputs": [
        {
          "output_type": "stream",
          "name": "stdout",
          "text": [
            "1/1 [==============================] - 0s 109ms/step\n",
            "[0]\n"
          ]
        }
      ]
    },
    {
      "cell_type": "code",
      "source": [],
      "metadata": {
        "id": "m1IDYSN3otRV"
      },
      "execution_count": null,
      "outputs": []
    },
    {
      "cell_type": "code",
      "source": [],
      "metadata": {
        "id": "YEaJtVpUogab"
      },
      "execution_count": null,
      "outputs": []
    }
  ]
}