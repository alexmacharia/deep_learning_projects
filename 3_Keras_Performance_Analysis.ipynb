{
  "nbformat": 4,
  "nbformat_minor": 0,
  "metadata": {
    "colab": {
      "provenance": [],
      "authorship_tag": "ABX9TyO2GmStSZXMlgEjCZVnUAfP",
      "include_colab_link": true
    },
    "kernelspec": {
      "name": "python3",
      "display_name": "Python 3"
    },
    "language_info": {
      "name": "python"
    },
    "gpuClass": "standard"
  },
  "cells": [
    {
      "cell_type": "markdown",
      "metadata": {
        "id": "view-in-github",
        "colab_type": "text"
      },
      "source": [
        "<a href=\"https://colab.research.google.com/github/alexmacharia/deep_learning_projects/blob/main/3_Keras_Performance_Analysis.ipynb\" target=\"_parent\"><img src=\"https://colab.research.google.com/assets/colab-badge.svg\" alt=\"Open In Colab\"/></a>"
      ]
    },
    {
      "cell_type": "code",
      "execution_count": 8,
      "metadata": {
        "colab": {
          "base_uri": "https://localhost:8080/"
        },
        "id": "m6Ts72Mw0zVM",
        "outputId": "2495a96f-8473-4ce5-91aa-3e86c8936c53"
      },
      "outputs": [
        {
          "output_type": "stream",
          "name": "stdout",
          "text": [
            "Mounted at /content/gdrive\n"
          ]
        }
      ],
      "source": [
        "from google.colab import drive\n",
        "drive.mount('/content/gdrive', force_remount=True)"
      ]
    },
    {
      "cell_type": "code",
      "source": [
        "!cp '/content/gdrive/My Drive/data/mnist_cnn_25_Epochs.h5' mnist_cnn_25_Epochs.h5"
      ],
      "metadata": {
        "id": "wayjFMGh1GJP"
      },
      "execution_count": 11,
      "outputs": []
    },
    {
      "cell_type": "code",
      "source": [
        "from tensorflow.keras.models import load_model\n",
        "\n",
        "model = load_model('mnist_cnn_25_Epochs.h5')"
      ],
      "metadata": {
        "id": "37s3Knqc4n7x"
      },
      "execution_count": 13,
      "outputs": []
    },
    {
      "cell_type": "code",
      "source": [
        "from tensorflow.keras.datasets import mnist\n",
        "\n",
        "(x_train, y_train), (x_test, y_test) = mnist.load_data()"
      ],
      "metadata": {
        "id": "R20HYyOV31DN"
      },
      "execution_count": 14,
      "outputs": []
    },
    {
      "cell_type": "code",
      "source": [
        "import numpy as np\n",
        "\n",
        "# Reshape test data\n",
        "print(x_test.shape)\n",
        "x_test = x_test.reshape(10000,28,28,1)\n",
        "print(x_test.shape)\n",
        "\n",
        "# Predict all test set\n",
        "pred = np.argmax(model.predict(x_test), axis=-1)\n"
      ],
      "metadata": {
        "colab": {
          "base_uri": "https://localhost:8080/"
        },
        "id": "NHWfRTn24MRo",
        "outputId": "8007ba1a-b765-41ab-a6fc-281a31ac325d"
      },
      "execution_count": 15,
      "outputs": [
        {
          "output_type": "stream",
          "name": "stdout",
          "text": [
            "(10000, 28, 28)\n",
            "(10000, 28, 28, 1)\n",
            "313/313 [==============================] - 8s 24ms/step\n"
          ]
        }
      ]
    },
    {
      "cell_type": "code",
      "source": [
        "import cv2\n",
        "import numpy as np\n",
        "\n",
        "# Create an array of indices for misclassified samples\n",
        "result = np.absolute(y_test - pred)\n",
        "misclassified_indices = np.nonzero(result > 0)\n",
        "\n",
        "print(misclassified_indices)\n"
      ],
      "metadata": {
        "colab": {
          "base_uri": "https://localhost:8080/"
        },
        "id": "aDMv475P4-6e",
        "outputId": "4d5116ef-b705-4997-a7ff-535b0b1a339b"
      },
      "execution_count": 16,
      "outputs": [
        {
          "output_type": "stream",
          "name": "stdout",
          "text": [
            "(array([   8,   33,  124,  149,  193,  195,  233,  241,  247,  259,  290,\n",
            "        300,  318,  320,  321,  340,  341,  352,  362,  412,  444,  445,\n",
            "        448,  478,  479,  495,  502,  507,  511,  515,  531,  536,  547,\n",
            "        551,  565,  578,  582,  591,  613,  619,  628,  659,  684,  689,\n",
            "        691,  707,  717,  720,  726,  740,  791,  810,  839,  844,  898,\n",
            "        939,  947,  950,  951,  965,  990, 1012, 1014, 1032, 1039, 1044,\n",
            "       1062, 1073, 1096, 1107, 1112, 1114, 1173, 1181, 1192, 1194, 1198,\n",
            "       1204, 1206, 1226, 1232, 1242, 1247, 1256, 1260, 1270, 1272, 1283,\n",
            "       1289, 1299, 1319, 1326, 1328, 1337, 1378, 1393, 1413, 1440, 1444,\n",
            "       1467, 1494, 1500, 1522, 1527, 1530, 1549, 1553, 1569, 1581, 1609,\n",
            "       1621, 1634, 1671, 1681, 1709, 1716, 1717, 1718, 1740, 1754, 1772,\n",
            "       1790, 1850, 1857, 1878, 1883, 1901, 1911, 1917, 1938, 1940, 1941,\n",
            "       1952, 1970, 1981, 1984, 2016, 2024, 2033, 2035, 2040, 2043, 2044,\n",
            "       2053, 2070, 2093, 2098, 2109, 2110, 2118, 2129, 2130, 2135, 2182,\n",
            "       2185, 2186, 2189, 2224, 2266, 2272, 2293, 2299, 2325, 2369, 2371,\n",
            "       2387, 2393, 2395, 2406, 2408, 2414, 2422, 2425, 2433, 2447, 2454,\n",
            "       2488, 2545, 2556, 2578, 2607, 2610, 2648, 2654, 2670, 2695, 2713,\n",
            "       2730, 2751, 2771, 2780, 2810, 2832, 2863, 2896, 2925, 2927, 2930,\n",
            "       2945, 2953, 2986, 2990, 2995, 3005, 3060, 3073, 3110, 3117, 3130,\n",
            "       3136, 3145, 3167, 3189, 3206, 3225, 3240, 3254, 3269, 3284, 3330,\n",
            "       3333, 3376, 3405, 3410, 3422, 3436, 3437, 3475, 3503, 3520, 3549,\n",
            "       3550, 3558, 3565, 3567, 3573, 3597, 3629, 3681, 3688, 3702, 3716,\n",
            "       3718, 3730, 3751, 3757, 3767, 3769, 3776, 3780, 3796, 3806, 3808,\n",
            "       3811, 3817, 3818, 3838, 3846, 3853, 3855, 3869, 3876, 3893, 3902,\n",
            "       3906, 3926, 3941, 3946, 3976, 3985, 4000, 4017, 4027, 4063, 4065,\n",
            "       4072, 4075, 4076, 4078, 4093, 4131, 4152, 4154, 4159, 4163, 4176,\n",
            "       4199, 4205, 4211, 4224, 4238, 4248, 4256, 4271, 4289, 4300, 4306,\n",
            "       4313, 4341, 4355, 4356, 4374, 4400, 4433, 4435, 4449, 4451, 4477,\n",
            "       4497, 4500, 4536, 4540, 4567, 4571, 4575, 4578, 4601, 4615, 4639,\n",
            "       4671, 4690, 4731, 4740, 4751, 4761, 4785, 4807, 4808, 4814, 4823,\n",
            "       4837, 4863, 4879, 4880, 4886, 4890, 4939, 4943, 4950, 4952, 4956,\n",
            "       4966, 4990, 4997, 5009, 5065, 5068, 5140, 5194, 5201, 5210, 5331,\n",
            "       5457, 5495, 5562, 5600, 5601, 5611, 5617, 5634, 5642, 5649, 5654,\n",
            "       5709, 5714, 5734, 5735, 5749, 5769, 5835, 5842, 5887, 5888, 5891,\n",
            "       5912, 5913, 5922, 5936, 5937, 5955, 5972, 5973, 5985, 6035, 6042,\n",
            "       6043, 6045, 6059, 6065, 6071, 6081, 6091, 6157, 6166, 6172, 6173,\n",
            "       6347, 6391, 6400, 6505, 6555, 6568, 6569, 6597, 6598, 6603, 6642,\n",
            "       6651, 6721, 6740, 6744, 6746, 6765, 6783, 6785, 6817, 6847, 6926,\n",
            "       7121, 7130, 7338, 7432, 7434, 7451, 7459, 7492, 7498, 7545, 7552,\n",
            "       7637, 7797, 7812, 7839, 7847, 7851, 7856, 7886, 7899, 7921, 7928,\n",
            "       7945, 7990, 8020, 8059, 8062, 8072, 8094, 8095, 8183, 8246, 8272,\n",
            "       8277, 8332, 8339, 8406, 8408, 8410, 8520, 8522, 8639, 8952, 9009,\n",
            "       9010, 9013, 9015, 9016, 9019, 9024, 9036, 9045, 9182, 9211, 9245,\n",
            "       9280, 9427, 9482, 9534, 9538, 9587, 9614, 9624, 9634, 9642, 9662,\n",
            "       9679, 9698, 9700, 9716, 9719, 9729, 9733, 9744, 9745, 9749, 9751,\n",
            "       9752, 9755, 9768, 9770, 9779, 9792, 9808, 9811, 9839, 9840, 9856,\n",
            "       9858, 9867, 9883, 9888, 9893, 9905, 9925, 9941, 9943, 9944, 9970,\n",
            "       9975, 9980, 9982]),)\n"
          ]
        }
      ]
    },
    {
      "cell_type": "code",
      "source": [],
      "metadata": {
        "id": "GZKszO2z5xeZ"
      },
      "execution_count": null,
      "outputs": []
    }
  ]
}