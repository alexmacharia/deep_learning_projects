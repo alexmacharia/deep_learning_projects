{
  "nbformat": 4,
  "nbformat_minor": 0,
  "metadata": {
    "colab": {
      "provenance": [],
      "authorship_tag": "ABX9TyM9zf906XD6Rf+EWKyfQIrv",
      "include_colab_link": true
    },
    "kernelspec": {
      "name": "python3",
      "display_name": "Python 3"
    },
    "language_info": {
      "name": "python"
    }
  },
  "cells": [
    {
      "cell_type": "markdown",
      "metadata": {
        "id": "view-in-github",
        "colab_type": "text"
      },
      "source": [
        "<a href=\"https://colab.research.google.com/github/alexmacharia/deep_learning_projects/blob/main/Mnist_CNN_Classifier.ipynb\" target=\"_parent\"><img src=\"https://colab.research.google.com/assets/colab-badge.svg\" alt=\"Open In Colab\"/></a>"
      ]
    },
    {
      "cell_type": "code",
      "execution_count": 1,
      "metadata": {
        "id": "PmB1Z1mkh7A2"
      },
      "outputs": [],
      "source": [
        "from keras.datasets import mnist\n",
        "from keras.utils import to_categorical, plot_model\n",
        "from keras.models import Sequential\n",
        "from keras.layers import Dense, Conv2D, MaxPooling2D, Flatten\n",
        "\n",
        "import numpy as np\n",
        "import matplotlib.pyplot as plt\n",
        "%matplotlib inline"
      ]
    },
    {
      "cell_type": "code",
      "source": [
        "(X_train, y_train), (X_test, y_test) = mnist.load_data()"
      ],
      "metadata": {
        "colab": {
          "base_uri": "https://localhost:8080/"
        },
        "id": "bNOYVfcBin00",
        "outputId": "2dd7e30f-97d9-4732-e67d-fe5ff315a307"
      },
      "execution_count": 2,
      "outputs": [
        {
          "output_type": "stream",
          "name": "stdout",
          "text": [
            "Downloading data from https://storage.googleapis.com/tensorflow/tf-keras-datasets/mnist.npz\n",
            "11490434/11490434 [==============================] - 0s 0us/step\n"
          ]
        }
      ]
    },
    {
      "cell_type": "code",
      "source": [
        "print(X_train.shape)\n",
        "print(y_train.shape)\n",
        "print(X_test.shape)\n",
        "print(y_test.shape)"
      ],
      "metadata": {
        "colab": {
          "base_uri": "https://localhost:8080/"
        },
        "id": "laXlLwM-jHNK",
        "outputId": "3048e73c-83b7-4127-d12e-3d229d2e14ab"
      },
      "execution_count": 3,
      "outputs": [
        {
          "output_type": "stream",
          "name": "stdout",
          "text": [
            "(60000, 28, 28)\n",
            "(60000,)\n",
            "(10000, 28, 28)\n",
            "(10000,)\n"
          ]
        }
      ]
    },
    {
      "cell_type": "markdown",
      "source": [
        "# **Understanding the image data format**"
      ],
      "metadata": {
        "id": "rucNuCQfRBF7"
      }
    },
    {
      "cell_type": "code",
      "source": [
        "X_train[0].shape"
      ],
      "metadata": {
        "colab": {
          "base_uri": "https://localhost:8080/"
        },
        "id": "vjeTE58DQir8",
        "outputId": "ad58f8cd-1bdf-46af-b9ec-9573aef96e0d"
      },
      "execution_count": 4,
      "outputs": [
        {
          "output_type": "execute_result",
          "data": {
            "text/plain": [
              "(28, 28)"
            ]
          },
          "metadata": {},
          "execution_count": 4
        }
      ]
    },
    {
      "cell_type": "code",
      "source": [
        "plt.imshow(X_train[0], cmap='gray')"
      ],
      "metadata": {
        "colab": {
          "base_uri": "https://localhost:8080/",
          "height": 282
        },
        "id": "vCr9WjIHQiuK",
        "outputId": "32710742-0fea-430a-eaa4-46a383b03792"
      },
      "execution_count": 5,
      "outputs": [
        {
          "output_type": "execute_result",
          "data": {
            "text/plain": [
              "<matplotlib.image.AxesImage at 0x7f439cd2c5e0>"
            ]
          },
          "metadata": {},
          "execution_count": 5
        },
        {
          "output_type": "display_data",
          "data": {
            "text/plain": [
              "<Figure size 432x288 with 1 Axes>"
            ],
            "image/png": "[encoded data removed]"
          },
          "metadata": {
            "needs_background": "light"
          }
        }
      ]
    },
    {
      "cell_type": "code",
      "source": [
        "y_train[0]"
      ],
      "metadata": {
        "colab": {
          "base_uri": "https://localhost:8080/"
        },
        "id": "IpU6oN8QQiwa",
        "outputId": "52fd563e-9308-45c8-bc3d-8e46ee8d9bf5"
      },
      "execution_count": 6,
      "outputs": [
        {
          "output_type": "execute_result",
          "data": {
            "text/plain": [
              "5"
            ]
          },
          "metadata": {},
          "execution_count": 6
        }
      ]
    },
    {
      "cell_type": "markdown",
      "source": [
        "# **Preprocessing the image data**\n"
      ],
      "metadata": {
        "id": "V6AQdhF8RbbK"
      }
    },
    {
      "cell_type": "code",
      "source": [
        "height, width = 28, 28"
      ],
      "metadata": {
        "id": "nI9jb8Q6Q9F2"
      },
      "execution_count": 7,
      "outputs": []
    },
    {
      "cell_type": "code",
      "source": [
        "X_train = X_train.reshape(60000, height,width,1)\n",
        "X_test = X_test.reshape(10000, height,width,1)\n",
        "print(X_train.shape)\n",
        "print(X_test.shape)"
      ],
      "metadata": {
        "colab": {
          "base_uri": "https://localhost:8080/"
        },
        "id": "wyb6NmimQ9S5",
        "outputId": "b6e4b927-9c32-4cfb-dd5c-867405cbce13"
      },
      "execution_count": 8,
      "outputs": [
        {
          "output_type": "stream",
          "name": "stdout",
          "text": [
            "(60000, 28, 28, 1)\n",
            "(10000, 28, 28, 1)\n"
          ]
        }
      ]
    },
    {
      "cell_type": "code",
      "source": [
        "\n",
        "X_train = X_train.astype('float32')\n",
        "X_test = X_test.astype('float32')"
      ],
      "metadata": {
        "id": "u6_kIDj-Q9Vs"
      },
      "execution_count": 9,
      "outputs": []
    },
    {
      "cell_type": "code",
      "source": [
        "X_train /= 255.0\n",
        "X_test /= 255.0\n"
      ],
      "metadata": {
        "id": "Bgj_XqqmQ9Y1"
      },
      "execution_count": 10,
      "outputs": []
    },
    {
      "cell_type": "code",
      "source": [
        "print(y_train.shape)\n",
        "print(y_test.shape)"
      ],
      "metadata": {
        "colab": {
          "base_uri": "https://localhost:8080/"
        },
        "id": "WQGoj_1UO9eW",
        "outputId": "5c30dcdf-9b96-4f4e-856a-8ff17e3f082c"
      },
      "execution_count": 11,
      "outputs": [
        {
          "output_type": "stream",
          "name": "stdout",
          "text": [
            "(60000,)\n",
            "(10000,)\n"
          ]
        }
      ]
    },
    {
      "cell_type": "code",
      "source": [
        "y_train = to_categorical(y_train, 10)\n",
        "y_test = to_categorical(y_test, 10)\n",
        "print(y_train.shape)\n",
        "print(y_test.shape)"
      ],
      "metadata": {
        "colab": {
          "base_uri": "https://localhost:8080/"
        },
        "id": "DRs6t_D6O99t",
        "outputId": "bacc211f-b807-4495-ec75-6ec10aab0960"
      },
      "execution_count": 12,
      "outputs": [
        {
          "output_type": "stream",
          "name": "stdout",
          "text": [
            "(60000, 10)\n",
            "(10000, 10)\n"
          ]
        }
      ]
    },
    {
      "cell_type": "code",
      "source": [
        "batch_size = 128\n",
        "num_classes = 10\n",
        "epochs = 20\n",
        "\n",
        "#X_train = X_train.reshape(60000,28,28,1)\n",
        "#X_test = X_test.reshape(10000,28,28,1)\n",
        "#X_train = X_train.astype('float32')\n",
        "#X_test = X_test.astype('float32')\n",
        "#X_train /= 255.0\n",
        "#X_test /= 255.0\n",
        "#y_train = to_categorical(y_train, num_classes)\n",
        "#y_test = to_categorical(y_test, num_classes)\n",
        "\n"
      ],
      "metadata": {
        "id": "zXH6RY16jV4N"
      },
      "execution_count": 13,
      "outputs": []
    },
    {
      "cell_type": "code",
      "source": [
        "print(X_train.shape)\n",
        "print(y_train.shape)\n",
        "print(X_test.shape)\n",
        "print(y_test.shape)"
      ],
      "metadata": {
        "colab": {
          "base_uri": "https://localhost:8080/"
        },
        "id": "Zh9e6UyrvXNk",
        "outputId": "7ac6fa26-1906-4a73-f47a-d6049e02ad7c"
      },
      "execution_count": 14,
      "outputs": [
        {
          "output_type": "stream",
          "name": "stdout",
          "text": [
            "(60000, 28, 28, 1)\n",
            "(60000, 10)\n",
            "(10000, 28, 28, 1)\n",
            "(10000, 10)\n"
          ]
        }
      ]
    },
    {
      "cell_type": "code",
      "source": [
        "cnn = Sequential()\n",
        "cnn.add(Conv2D(32, kernel_size=(3,3), input_shape=(28,28,1), padding='same', activation='relu'))\n",
        "cnn.add(MaxPooling2D())\n",
        "cnn.add(Conv2D(32, kernel_size=(3,3), padding='same', activation='relu'))\n",
        "cnn.add(MaxPooling2D())\n",
        "cnn.add(Flatten())\n",
        "cnn.add(Dense(64, activation='relu'))\n",
        "cnn.add(Dense(10, activation='softmax'))\n",
        "cnn.compile(optimizer='adam', loss='categorical_crossentropy', metrics=['accuracy'])"
      ],
      "metadata": {
        "id": "mFpW-9XPwB-l"
      },
      "execution_count": 15,
      "outputs": []
    },
    {
      "cell_type": "code",
      "source": [
        "cnn.summary()"
      ],
      "metadata": {
        "colab": {
          "base_uri": "https://localhost:8080/"
        },
        "id": "zCD0QrAV0_Nr",
        "outputId": "567990a9-85e8-4a6e-9aba-9808d2fa1394"
      },
      "execution_count": 16,
      "outputs": [
        {
          "output_type": "stream",
          "name": "stdout",
          "text": [
            "Model: \"sequential\"\n",
            "_________________________________________________________________\n",
            " Layer (type)                Output Shape              Param #   \n",
            "=================================================================\n",
            " conv2d (Conv2D)             (None, 28, 28, 32)        320       \n",
            "                                                                 \n",
            " max_pooling2d (MaxPooling2D  (None, 14, 14, 32)       0         \n",
            " )                                                               \n",
            "                                                                 \n",
            " conv2d_1 (Conv2D)           (None, 14, 14, 32)        9248      \n",
            "                                                                 \n",
            " max_pooling2d_1 (MaxPooling  (None, 7, 7, 32)         0         \n",
            " 2D)                                                             \n",
            "                                                                 \n",
            " flatten (Flatten)           (None, 1568)              0         \n",
            "                                                                 \n",
            " dense (Dense)               (None, 64)                100416    \n",
            "                                                                 \n",
            " dense_1 (Dense)             (None, 10)                650       \n",
            "                                                                 \n",
            "=================================================================\n",
            "Total params: 110,634\n",
            "Trainable params: 110,634\n",
            "Non-trainable params: 0\n",
            "_________________________________________________________________\n"
          ]
        }
      ]
    },
    {
      "cell_type": "code",
      "source": [
        "plot_model(model=cnn, dpi=72, show_shapes=True)"
      ],
      "metadata": {
        "colab": {
          "base_uri": "https://localhost:8080/",
          "height": 653
        },
        "id": "zl7o8g6I8Bl4",
        "outputId": "ec6e812a-e35e-4b29-f347-1529e9153a99"
      },
      "execution_count": 17,
      "outputs": [
        {
          "output_type": "execute_result",
          "data": {
            "image/png": "[encoded data removed]",
            "text/plain": [
              "<IPython.core.display.Image object>"
            ]
          },
          "metadata": {},
          "execution_count": 17
        }
      ]
    },
    {
      "cell_type": "code",
      "source": [
        "history_cnn = cnn.fit(X_train, y_train, epochs=epochs, verbose=1, validation_data=(X_train, y_train))"
      ],
      "metadata": {
        "colab": {
          "base_uri": "https://localhost:8080/"
        },
        "id": "8LdxjZsy8dFG",
        "outputId": "6884812f-be95-4237-d29b-73e709725178"
      },
      "execution_count": 18,
      "outputs": [
        {
          "output_type": "stream",
          "name": "stdout",
          "text": [
            "Epoch 1/20\n",
            "1875/1875 [==============================] - 83s 44ms/step - loss: 0.1558 - accuracy: 0.9514 - val_loss: 0.0505 - val_accuracy: 0.9847\n",
            "Epoch 2/20\n",
            "1875/1875 [==============================] - 80s 43ms/step - loss: 0.0500 - accuracy: 0.9847 - val_loss: 0.0542 - val_accuracy: 0.9821\n",
            "Epoch 3/20\n",
            "1875/1875 [==============================] - 79s 42ms/step - loss: 0.0353 - accuracy: 0.9892 - val_loss: 0.0237 - val_accuracy: 0.9926\n",
            "Epoch 4/20\n",
            "1875/1875 [==============================] - 80s 43ms/step - loss: 0.0261 - accuracy: 0.9917 - val_loss: 0.0151 - val_accuracy: 0.9951\n",
            "Epoch 5/20\n",
            "1875/1875 [==============================] - 80s 43ms/step - loss: 0.0198 - accuracy: 0.9936 - val_loss: 0.0102 - val_accuracy: 0.9973\n",
            "Epoch 6/20\n",
            "1875/1875 [==============================] - 80s 43ms/step - loss: 0.0152 - accuracy: 0.9950 - val_loss: 0.0122 - val_accuracy: 0.9964\n",
            "Epoch 7/20\n",
            "1875/1875 [==============================] - 80s 43ms/step - loss: 0.0121 - accuracy: 0.9959 - val_loss: 0.0090 - val_accuracy: 0.9973\n",
            "Epoch 8/20\n",
            "1875/1875 [==============================] - 83s 44ms/step - loss: 0.0100 - accuracy: 0.9968 - val_loss: 0.0070 - val_accuracy: 0.9977\n",
            "Epoch 9/20\n",
            "1875/1875 [==============================] - 85s 45ms/step - loss: 0.0091 - accuracy: 0.9970 - val_loss: 0.0045 - val_accuracy: 0.9988\n",
            "Epoch 10/20\n",
            "1875/1875 [==============================] - 84s 45ms/step - loss: 0.0076 - accuracy: 0.9974 - val_loss: 0.0056 - val_accuracy: 0.9981\n",
            "Epoch 11/20\n",
            "1875/1875 [==============================] - 84s 45ms/step - loss: 0.0073 - accuracy: 0.9972 - val_loss: 0.0049 - val_accuracy: 0.9983\n",
            "Epoch 12/20\n",
            "1875/1875 [==============================] - 85s 46ms/step - loss: 0.0058 - accuracy: 0.9979 - val_loss: 0.0037 - val_accuracy: 0.9986\n",
            "Epoch 13/20\n",
            "1875/1875 [==============================] - 87s 46ms/step - loss: 0.0061 - accuracy: 0.9978 - val_loss: 0.0031 - val_accuracy: 0.9989\n",
            "Epoch 14/20\n",
            "1875/1875 [==============================] - 86s 46ms/step - loss: 0.0049 - accuracy: 0.9983 - val_loss: 0.0116 - val_accuracy: 0.9960\n",
            "Epoch 15/20\n",
            "1875/1875 [==============================] - 86s 46ms/step - loss: 0.0054 - accuracy: 0.9983 - val_loss: 0.0035 - val_accuracy: 0.9988\n",
            "Epoch 16/20\n",
            "1875/1875 [==============================] - 85s 45ms/step - loss: 0.0041 - accuracy: 0.9986 - val_loss: 0.0024 - val_accuracy: 0.9991\n",
            "Epoch 17/20\n",
            "1875/1875 [==============================] - 84s 45ms/step - loss: 0.0050 - accuracy: 0.9982 - val_loss: 0.0022 - val_accuracy: 0.9992\n",
            "Epoch 18/20\n",
            "1875/1875 [==============================] - 86s 46ms/step - loss: 0.0035 - accuracy: 0.9988 - val_loss: 0.0084 - val_accuracy: 0.9973\n",
            "Epoch 19/20\n",
            "1875/1875 [==============================] - 86s 46ms/step - loss: 0.0036 - accuracy: 0.9989 - val_loss: 7.5719e-04 - val_accuracy: 0.9998\n",
            "Epoch 20/20\n",
            "1875/1875 [==============================] - 86s 46ms/step - loss: 0.0029 - accuracy: 0.9991 - val_loss: 0.0022 - val_accuracy: 0.9992\n"
          ]
        }
      ]
    },
    {
      "cell_type": "code",
      "source": [
        "plt.plot(history_cnn.history['accuracy'])\n",
        "plt.plot(history_cnn.history['val_accuracy'])"
      ],
      "metadata": {
        "colab": {
          "base_uri": "https://localhost:8080/",
          "height": 282
        },
        "id": "S9ta8XpQ8p8j",
        "outputId": "fc96cf1f-6f8a-407d-fe23-4efe3ad94d81"
      },
      "execution_count": 19,
      "outputs": [
        {
          "output_type": "execute_result",
          "data": {
            "text/plain": [
              "[<matplotlib.lines.Line2D at 0x7f43939a8cd0>]"
            ]
          },
          "metadata": {},
          "execution_count": 19
        },
        {
          "output_type": "display_data",
          "data": {
            "text/plain": [
              "<Figure size 432x288 with 1 Axes>"
            ],
            "image/png": "[encoded data removed]"
          },
          "metadata": {
            "needs_background": "light"
          }
        }
      ]
    },
    {
      "cell_type": "code",
      "source": [
        "acc = history_cnn.history['accuracy']\n",
        "val_acc = history_cnn.history['val_accuracy']\n",
        "\n",
        "loss = history_cnn.history['loss']\n",
        "val_loss = history_cnn.history['val_loss']\n",
        "\n",
        "epochs_range = range(epochs)\n",
        "\n",
        "plt.figure(figsize=(16, 8))\n",
        "plt.subplot(1, 2, 1)\n",
        "plt.plot(epochs_range, acc, label='Training Accuracy')\n",
        "plt.plot(epochs_range, val_acc, label='Validation Accuracy')\n",
        "plt.legend(loc='lower right')\n",
        "plt.title('Training and Validation Accuracy')\n",
        "\n",
        "plt.subplot(1, 2, 2)\n",
        "plt.plot(epochs_range, loss, label='Training Loss')\n",
        "plt.plot(epochs_range, val_loss, label='Validation Loss')\n",
        "plt.legend(loc='upper right')\n",
        "plt.title('Training and Validation Loss')\n",
        "plt.show()\n",
        "     "
      ],
      "metadata": {
        "colab": {
          "base_uri": "https://localhost:8080/",
          "height": 499
        },
        "id": "BSrzCiMQIsSf",
        "outputId": "df912f6f-0e6f-4e86-d033-6e7946979a59"
      },
      "execution_count": 20,
      "outputs": [
        {
          "output_type": "display_data",
          "data": {
            "text/plain": [
              "<Figure size 1152x576 with 2 Axes>"
            ],
            "image/png": "[encoded data removed]"
          },
          "metadata": {
            "needs_background": "light"
          }
        }
      ]
    },
    {
      "cell_type": "code",
      "source": [
        "score = cnn.evaluate(X_test, y_test)"
      ],
      "metadata": {
        "colab": {
          "base_uri": "https://localhost:8080/"
        },
        "id": "vRnRshXIJkTQ",
        "outputId": "80d3fb1e-6aa2-4855-9e3b-b52dadf6155f"
      },
      "execution_count": 22,
      "outputs": [
        {
          "output_type": "stream",
          "name": "stdout",
          "text": [
            "313/313 [==============================] - 7s 23ms/step - loss: 0.0521 - accuracy: 0.9909\n"
          ]
        }
      ]
    },
    {
      "cell_type": "code",
      "source": [
        "score"
      ],
      "metadata": {
        "colab": {
          "base_uri": "https://localhost:8080/"
        },
        "id": "l_5XuShtdTpb",
        "outputId": "158ef10f-f07c-4d85-d796-83afbd9b6e92"
      },
      "execution_count": 23,
      "outputs": [
        {
          "output_type": "execute_result",
          "data": {
            "text/plain": [
              "[0.05205901339650154, 0.9908999800682068]"
            ]
          },
          "metadata": {},
          "execution_count": 23
        }
      ]
    },
    {
      "cell_type": "code",
      "source": [
        "##cnn.load_weights('weights/cnn-model5.h5')"
      ],
      "metadata": {
        "id": "qD4iH0yaWqtT"
      },
      "execution_count": null,
      "outputs": []
    }
  ]
}