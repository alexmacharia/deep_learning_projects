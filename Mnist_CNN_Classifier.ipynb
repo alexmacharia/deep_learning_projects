{
  "nbformat": 4,
  "nbformat_minor": 0,
  "metadata": {
    "colab": {
      "provenance": [],
      "authorship_tag": "ABX9TyM4p7Dt8bTFrYRJLjmSJpxx",
      "include_colab_link": true
    },
    "kernelspec": {
      "name": "python3",
      "display_name": "Python 3"
    },
    "language_info": {
      "name": "python"
    }
  },
  "cells": [
    {
      "cell_type": "markdown",
      "metadata": {
        "id": "view-in-github",
        "colab_type": "text"
      },
      "source": [
        "<a href=\"https://colab.research.google.com/github/alexmacharia/deep_learning_projects/blob/main/Mnist_CNN_Classifier.ipynb\" target=\"_parent\"><img src=\"https://colab.research.google.com/assets/colab-badge.svg\" alt=\"Open In Colab\"/></a>"
      ]
    },
    {
      "cell_type": "code",
      "execution_count": 48,
      "metadata": {
        "id": "PmB1Z1mkh7A2"
      },
      "outputs": [],
      "source": [
        "from keras.datasets import mnist\n",
        "from keras.utils import to_categorical, plot_model\n",
        "from keras.models import Sequential\n",
        "from keras.layers import Dense, Conv2D, MaxPooling2D, Flatten\n",
        "\n",
        "import numpy as np\n",
        "import matplotlib.pyplot as plt\n",
        "%matplotlib inline"
      ]
    },
    {
      "cell_type": "code",
      "source": [
        "(X_train, y_train), (X_test, y_test) = mnist.load_data()"
      ],
      "metadata": {
        "id": "bNOYVfcBin00"
      },
      "execution_count": 39,
      "outputs": []
    },
    {
      "cell_type": "code",
      "source": [
        "print(X_train.shape)\n",
        "print(y_train.shape)\n",
        "print(X_test.shape)\n",
        "print(y_test.shape)"
      ],
      "metadata": {
        "colab": {
          "base_uri": "https://localhost:8080/"
        },
        "id": "laXlLwM-jHNK",
        "outputId": "4e5fad8d-ad57-42d6-95b5-50d9aabe0622"
      },
      "execution_count": 40,
      "outputs": [
        {
          "output_type": "stream",
          "name": "stdout",
          "text": [
            "(60000, 28, 28)\n",
            "(60000,)\n",
            "(10000, 28, 28)\n",
            "(10000,)\n"
          ]
        }
      ]
    },
    {
      "cell_type": "code",
      "source": [
        "batch_size = 128\n",
        "num_classes = 10\n",
        "epochs = 3\n",
        "\n",
        "X_train = X_train.reshape(60000,28,28,1)\n",
        "X_test = X_test.reshape(10000,28,28,1)\n",
        "X_train = X_train.astype('float32')\n",
        "X_test = X_test.astype('float32')\n",
        "X_train /= 255.0\n",
        "X_test /= 255.0\n",
        "y_train = to_categorical(y_train, num_classes)\n",
        "y_test = to_categorical(y_test, num_classes)\n",
        "\n"
      ],
      "metadata": {
        "id": "zXH6RY16jV4N"
      },
      "execution_count": 41,
      "outputs": []
    },
    {
      "cell_type": "code",
      "source": [
        "print(X_train.shape)\n",
        "print(y_train.shape)\n",
        "print(X_test.shape)\n",
        "print(y_test.shape)"
      ],
      "metadata": {
        "colab": {
          "base_uri": "https://localhost:8080/"
        },
        "id": "Zh9e6UyrvXNk",
        "outputId": "0f9718ef-2e62-4aa9-8b6d-472382628f73"
      },
      "execution_count": 42,
      "outputs": [
        {
          "output_type": "stream",
          "name": "stdout",
          "text": [
            "(60000, 28, 28, 1)\n",
            "(60000, 10)\n",
            "(10000, 28, 28, 1)\n",
            "(10000, 10)\n"
          ]
        }
      ]
    },
    {
      "cell_type": "code",
      "source": [
        "cnn = Sequential()\n",
        "cnn.add(Conv2D(32, kernel_size=(3,3), input_shape=(28,28,1), padding='same', activation='relu'))\n",
        "cnn.add(MaxPooling2D())\n",
        "cnn.add(Conv2D(32, kernel_size=(3,3), padding='same', activation='relu'))\n",
        "cnn.add(MaxPooling2D())\n",
        "cnn.add(Flatten())\n",
        "cnn.add(Dense(64, activation='relu'))\n",
        "cnn.add(Dense(10, activation='softmax'))\n",
        "cnn.compile(optimizer='adam', loss='categorical_crossentropy', metrics=['accuracy'])"
      ],
      "metadata": {
        "id": "mFpW-9XPwB-l"
      },
      "execution_count": 43,
      "outputs": []
    },
    {
      "cell_type": "code",
      "source": [
        "cnn.summary()"
      ],
      "metadata": {
        "colab": {
          "base_uri": "https://localhost:8080/"
        },
        "id": "zCD0QrAV0_Nr",
        "outputId": "66b418fe-c585-44dd-ba1b-60f6191fd2d5"
      },
      "execution_count": 44,
      "outputs": [
        {
          "output_type": "stream",
          "name": "stdout",
          "text": [
            "Model: \"sequential\"\n",
            "_________________________________________________________________\n",
            " Layer (type)                Output Shape              Param #   \n",
            "=================================================================\n",
            " conv2d (Conv2D)             (None, 28, 28, 32)        320       \n",
            "                                                                 \n",
            " max_pooling2d (MaxPooling2D  (None, 14, 14, 32)       0         \n",
            " )                                                               \n",
            "                                                                 \n",
            " conv2d_1 (Conv2D)           (None, 14, 14, 32)        9248      \n",
            "                                                                 \n",
            " max_pooling2d_1 (MaxPooling  (None, 7, 7, 32)         0         \n",
            " 2D)                                                             \n",
            "                                                                 \n",
            " flatten (Flatten)           (None, 1568)              0         \n",
            "                                                                 \n",
            " dense (Dense)               (None, 64)                100416    \n",
            "                                                                 \n",
            " dense_1 (Dense)             (None, 10)                650       \n",
            "                                                                 \n",
            "=================================================================\n",
            "Total params: 110,634\n",
            "Trainable params: 110,634\n",
            "Non-trainable params: 0\n",
            "_________________________________________________________________\n"
          ]
        }
      ]
    },
    {
      "cell_type": "code",
      "source": [
        "plot_model(model=cnn, dpi=72, show_shapes=True)"
      ],
      "metadata": {
        "colab": {
          "base_uri": "https://localhost:8080/",
          "height": 653
        },
        "id": "zl7o8g6I8Bl4",
        "outputId": "6cb72ee4-0e31-468f-e8ec-ae10341cf7a1"
      },
      "execution_count": 50,
      "outputs": [
        {
          "output_type": "execute_result",
          "data": {
            "image/png": "[encoded data removed]",
            "text/plain": [
              "<IPython.core.display.Image object>"
            ]
          },
          "metadata": {},
          "execution_count": 50
        }
      ]
    },
    {
      "cell_type": "code",
      "source": [
        "history_cnn = cnn.fit(X_train, y_train, epochs=20, verbose=1, validation_data=(X_train, y_train))"
      ],
      "metadata": {
        "colab": {
          "base_uri": "https://localhost:8080/"
        },
        "id": "8LdxjZsy8dFG",
        "outputId": "966cda11-6f0f-423f-d7c1-46993ce2b9e3"
      },
      "execution_count": 45,
      "outputs": [
        {
          "output_type": "stream",
          "name": "stdout",
          "text": [
            "Epoch 1/20\n",
            "1875/1875 [==============================] - 82s 43ms/step - loss: 0.1622 - accuracy: 0.9506 - val_loss: 0.0543 - val_accuracy: 0.9838\n",
            "Epoch 2/20\n",
            "1875/1875 [==============================] - 78s 42ms/step - loss: 0.0529 - accuracy: 0.9833 - val_loss: 0.0420 - val_accuracy: 0.9868\n",
            "Epoch 3/20\n",
            "1875/1875 [==============================] - 79s 42ms/step - loss: 0.0374 - accuracy: 0.9879 - val_loss: 0.0228 - val_accuracy: 0.9928\n",
            "Epoch 4/20\n",
            "1875/1875 [==============================] - 77s 41ms/step - loss: 0.0278 - accuracy: 0.9913 - val_loss: 0.0245 - val_accuracy: 0.9918\n",
            "Epoch 5/20\n",
            "1875/1875 [==============================] - 76s 40ms/step - loss: 0.0216 - accuracy: 0.9933 - val_loss: 0.0142 - val_accuracy: 0.9955\n",
            "Epoch 6/20\n",
            "1875/1875 [==============================] - 76s 41ms/step - loss: 0.0179 - accuracy: 0.9943 - val_loss: 0.0101 - val_accuracy: 0.9970\n",
            "Epoch 7/20\n",
            "1875/1875 [==============================] - 74s 40ms/step - loss: 0.0140 - accuracy: 0.9950 - val_loss: 0.0118 - val_accuracy: 0.9962\n",
            "Epoch 8/20\n",
            "1875/1875 [==============================] - 74s 40ms/step - loss: 0.0114 - accuracy: 0.9964 - val_loss: 0.0073 - val_accuracy: 0.9976\n",
            "Epoch 9/20\n",
            "1875/1875 [==============================] - 75s 40ms/step - loss: 0.0101 - accuracy: 0.9968 - val_loss: 0.0057 - val_accuracy: 0.9980\n",
            "Epoch 10/20\n",
            "1875/1875 [==============================] - 74s 39ms/step - loss: 0.0082 - accuracy: 0.9969 - val_loss: 0.0042 - val_accuracy: 0.9987\n",
            "Epoch 11/20\n",
            "1875/1875 [==============================] - 74s 39ms/step - loss: 0.0072 - accuracy: 0.9977 - val_loss: 0.0097 - val_accuracy: 0.9964\n",
            "Epoch 12/20\n",
            "1875/1875 [==============================] - 74s 39ms/step - loss: 0.0065 - accuracy: 0.9978 - val_loss: 0.0039 - val_accuracy: 0.9988\n",
            "Epoch 13/20\n",
            "1875/1875 [==============================] - 74s 39ms/step - loss: 0.0063 - accuracy: 0.9977 - val_loss: 0.0122 - val_accuracy: 0.9962\n",
            "Epoch 14/20\n",
            "1875/1875 [==============================] - 75s 40ms/step - loss: 0.0057 - accuracy: 0.9980 - val_loss: 0.0040 - val_accuracy: 0.9985\n",
            "Epoch 15/20\n",
            "1875/1875 [==============================] - 74s 40ms/step - loss: 0.0057 - accuracy: 0.9980 - val_loss: 0.0033 - val_accuracy: 0.9987\n",
            "Epoch 16/20\n",
            "1875/1875 [==============================] - 76s 40ms/step - loss: 0.0038 - accuracy: 0.9988 - val_loss: 0.0100 - val_accuracy: 0.9972\n",
            "Epoch 17/20\n",
            "1875/1875 [==============================] - 77s 41ms/step - loss: 0.0050 - accuracy: 0.9984 - val_loss: 0.0040 - val_accuracy: 0.9987\n",
            "Epoch 18/20\n",
            "1875/1875 [==============================] - 78s 41ms/step - loss: 0.0051 - accuracy: 0.9982 - val_loss: 0.0018 - val_accuracy: 0.9995\n",
            "Epoch 19/20\n",
            "1875/1875 [==============================] - 79s 42ms/step - loss: 0.0035 - accuracy: 0.9987 - val_loss: 0.0015 - val_accuracy: 0.9994\n",
            "Epoch 20/20\n",
            "1875/1875 [==============================] - 80s 43ms/step - loss: 0.0047 - accuracy: 0.9985 - val_loss: 0.0042 - val_accuracy: 0.9986\n"
          ]
        }
      ]
    },
    {
      "cell_type": "code",
      "source": [
        "plt.plot(history_cnn.history['accuracy'])\n",
        "plt.plot(history_cnn.history['val_accuracy'])"
      ],
      "metadata": {
        "colab": {
          "base_uri": "https://localhost:8080/",
          "height": 282
        },
        "id": "S9ta8XpQ8p8j",
        "outputId": "c4c0bc0e-cb0a-4004-d3bd-c63321a0d9f6"
      },
      "execution_count": 46,
      "outputs": [
        {
          "output_type": "execute_result",
          "data": {
            "text/plain": [
              "[<matplotlib.lines.Line2D at 0x7f7e16b6c160>]"
            ]
          },
          "metadata": {},
          "execution_count": 46
        },
        {
          "output_type": "display_data",
          "data": {
            "text/plain": [
              "<Figure size 432x288 with 1 Axes>"
            ],
            "image/png": "[encoded data removed]"
          },
          "metadata": {
            "needs_background": "light"
          }
        }
      ]
    },
    {
      "cell_type": "code",
      "source": [],
      "metadata": {
        "id": "BSrzCiMQIsSf"
      },
      "execution_count": null,
      "outputs": []
    }
  ]
}