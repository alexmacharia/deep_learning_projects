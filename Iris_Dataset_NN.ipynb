{
  "nbformat": 4,
  "nbformat_minor": 0,
  "metadata": {
    "colab": {
      "provenance": [],
      "authorship_tag": "ABX9TyNLK+f+eJwOPieoPvm7f9O4",
      "include_colab_link": true
    },
    "kernelspec": {
      "name": "python3",
      "display_name": "Python 3"
    },
    "language_info": {
      "name": "python"
    }
  },
  "cells": [
    {
      "cell_type": "markdown",
      "metadata": {
        "id": "view-in-github",
        "colab_type": "text"
      },
      "source": [
        "<a href=\"https://colab.research.google.com/github/alexmacharia/deep_learning_projects/blob/main/Iris_Dataset_NN.ipynb\" target=\"_parent\"><img src=\"https://colab.research.google.com/assets/colab-badge.svg\" alt=\"Open In Colab\"/></a>"
      ]
    },
    {
      "cell_type": "code",
      "execution_count": 50,
      "metadata": {
        "id": "MRr-E7KpvSVL"
      },
      "outputs": [],
      "source": [
        "import pandas as pd\n",
        "import numpy as np\n",
        "import matplotlib.pyplot as plt\n",
        "import tensorflow as tf\n",
        "\n",
        "from sklearn import datasets\n",
        "from sklearn.model_selection import train_test_split\n",
        "from sklearn.preprocessing import StandardScaler\n",
        "\n",
        "from tensorflow.keras.models import Sequential\n",
        "from tensorflow.keras.layers import Dense\n"
      ]
    },
    {
      "cell_type": "code",
      "source": [
        "# Load Data\n",
        "df = datasets.load_iris()\n",
        "\n",
        "X, y = df.data, df.target"
      ],
      "metadata": {
        "id": "jra1b-zivw_G"
      },
      "execution_count": 51,
      "outputs": []
    },
    {
      "cell_type": "code",
      "source": [
        "print(X.shape)\n",
        "print(y.shape)"
      ],
      "metadata": {
        "colab": {
          "base_uri": "https://localhost:8080/"
        },
        "id": "6QKTR_vnwbfw",
        "outputId": "7b8f005b-c575-4368-94ff-5174fd9724aa"
      },
      "execution_count": 52,
      "outputs": [
        {
          "output_type": "stream",
          "name": "stdout",
          "text": [
            "(150, 4)\n",
            "(150,)\n"
          ]
        }
      ]
    },
    {
      "cell_type": "code",
      "source": [
        "scaler = StandardScaler().fit(X)"
      ],
      "metadata": {
        "id": "HYRrYTqVwvqy"
      },
      "execution_count": 53,
      "outputs": []
    },
    {
      "cell_type": "code",
      "source": [
        "X = scaler.transform(X)\n",
        "\n",
        "print(np.min(X), np.max(X))"
      ],
      "metadata": {
        "colab": {
          "base_uri": "https://localhost:8080/"
        },
        "id": "oTsfHCb_w-J_",
        "outputId": "dd47feb3-5b8c-4baa-a98c-3154cabd3a27"
      },
      "execution_count": 54,
      "outputs": [
        {
          "output_type": "stream",
          "name": "stdout",
          "text": [
            "-2.43394714190809 3.0907752482994253\n"
          ]
        }
      ]
    },
    {
      "cell_type": "code",
      "source": [
        "y = tf.keras.utils.to_categorical(y, 3)"
      ],
      "metadata": {
        "id": "exL_GyxpyUkw"
      },
      "execution_count": 55,
      "outputs": []
    },
    {
      "cell_type": "code",
      "source": [
        "print(y.shape)"
      ],
      "metadata": {
        "colab": {
          "base_uri": "https://localhost:8080/"
        },
        "id": "d6Ip0SxjyVem",
        "outputId": "bc471d93-b792-483b-8a2e-1cfde300d489"
      },
      "execution_count": 56,
      "outputs": [
        {
          "output_type": "stream",
          "name": "stdout",
          "text": [
            "(150, 3)\n"
          ]
        }
      ]
    },
    {
      "cell_type": "code",
      "source": [
        "X_train, X_test, y_train, y_test = train_test_split(X, y, test_size=0.2)"
      ],
      "metadata": {
        "id": "UyqjUUC_yfhy"
      },
      "execution_count": 57,
      "outputs": []
    },
    {
      "cell_type": "code",
      "source": [
        "print(X_train.shape)\n",
        "print(X_test.shape)\n",
        "print(y_train.shape)\n",
        "print(y_test.shape)"
      ],
      "metadata": {
        "colab": {
          "base_uri": "https://localhost:8080/"
        },
        "id": "XfqzvAu7y3Kp",
        "outputId": "8f07e0ad-3751-464f-ac58-9e185e02bc5c"
      },
      "execution_count": 58,
      "outputs": [
        {
          "output_type": "stream",
          "name": "stdout",
          "text": [
            "(120, 4)\n",
            "(30, 4)\n",
            "(120, 3)\n",
            "(30, 3)\n"
          ]
        }
      ]
    },
    {
      "cell_type": "code",
      "source": [
        "num_classes = 3\n",
        "\n",
        "model = Sequential()\n",
        "model.add(Dense(128, input_shape=(4,), name='Hidden-Layer-1', activation='relu'))\n",
        "model.add(Dense(128, name='Hidden-Layer-2', activation='relu'))\n",
        "model.add(Dense(num_classes, name='Output-Layer', activation='softmax'))\n",
        "\n",
        "\n",
        "model.compile(loss='categorical_crossentropy', metrics=['accuracy'], optimizer='adam')\n",
        "\n",
        "model.summary()"
      ],
      "metadata": {
        "colab": {
          "base_uri": "https://localhost:8080/"
        },
        "id": "FjboezIzzEr2",
        "outputId": "54317bfc-1204-42b7-9975-04e9fff0ebef"
      },
      "execution_count": 59,
      "outputs": [
        {
          "output_type": "stream",
          "name": "stdout",
          "text": [
            "Model: \"sequential_2\"\n",
            "_________________________________________________________________\n",
            " Layer (type)                Output Shape              Param #   \n",
            "=================================================================\n",
            " Hidden-Layer-1 (Dense)      (None, 128)               640       \n",
            "                                                                 \n",
            " Hidden-Layer-2 (Dense)      (None, 128)               16512     \n",
            "                                                                 \n",
            " Output-Layer (Dense)        (None, 3)                 387       \n",
            "                                                                 \n",
            "=================================================================\n",
            "Total params: 17,539\n",
            "Trainable params: 17,539\n",
            "Non-trainable params: 0\n",
            "_________________________________________________________________\n"
          ]
        }
      ]
    },
    {
      "cell_type": "code",
      "source": [
        "tf.keras.utils.plot_model(model=model, dpi=72, show_shapes=True)"
      ],
      "metadata": {
        "colab": {
          "base_uri": "https://localhost:8080/",
          "height": 321
        },
        "id": "dEsVuKJs0z8j",
        "outputId": "77b28f18-e388-4d2f-ccb1-cde21fbcfc04"
      },
      "execution_count": 60,
      "outputs": [
        {
          "output_type": "execute_result",
          "data": {
            "image/png": "[encoded data removed]",
            "text/plain": [
              "<IPython.core.display.Image object>"
            ]
          },
          "metadata": {},
          "execution_count": 60
        }
      ]
    },
    {
      "cell_type": "code",
      "source": [
        "batch_size = 20\n",
        "epochs = 20\n",
        "validation_split = 0.2\n",
        "verbose = 1\n",
        "\n",
        "history = model.fit(X_train, \n",
        "                    y_train,\n",
        "                    batch_size=batch_size,\n",
        "                    epochs=epochs,\n",
        "                    verbose=verbose,\n",
        "                    validation_split=validation_split)"
      ],
      "metadata": {
        "colab": {
          "base_uri": "https://localhost:8080/"
        },
        "id": "BYtcRpQ806E6",
        "outputId": "cf48e339-19d9-4311-8360-d0e4d348c61b"
      },
      "execution_count": 61,
      "outputs": [
        {
          "output_type": "stream",
          "name": "stdout",
          "text": [
            "Epoch 1/20\n",
            "5/5 [==============================] - 1s 42ms/step - loss: 1.0580 - accuracy: 0.4688 - val_loss: 0.8726 - val_accuracy: 0.9167\n",
            "Epoch 2/20\n",
            "5/5 [==============================] - 0s 12ms/step - loss: 0.8287 - accuracy: 0.8333 - val_loss: 0.6503 - val_accuracy: 0.9167\n",
            "Epoch 3/20\n",
            "5/5 [==============================] - 0s 8ms/step - loss: 0.6676 - accuracy: 0.8438 - val_loss: 0.4891 - val_accuracy: 0.9167\n",
            "Epoch 4/20\n",
            "5/5 [==============================] - 0s 7ms/step - loss: 0.5494 - accuracy: 0.8438 - val_loss: 0.3789 - val_accuracy: 0.9167\n",
            "Epoch 5/20\n",
            "5/5 [==============================] - 0s 10ms/step - loss: 0.4660 - accuracy: 0.8438 - val_loss: 0.3025 - val_accuracy: 0.9167\n",
            "Epoch 6/20\n",
            "5/5 [==============================] - 0s 7ms/step - loss: 0.4023 - accuracy: 0.8333 - val_loss: 0.2491 - val_accuracy: 0.9167\n",
            "Epoch 7/20\n",
            "5/5 [==============================] - 0s 8ms/step - loss: 0.3575 - accuracy: 0.8438 - val_loss: 0.2137 - val_accuracy: 0.9167\n",
            "Epoch 8/20\n",
            "5/5 [==============================] - 0s 9ms/step - loss: 0.3257 - accuracy: 0.8542 - val_loss: 0.1862 - val_accuracy: 0.9167\n",
            "Epoch 9/20\n",
            "5/5 [==============================] - 0s 8ms/step - loss: 0.2972 - accuracy: 0.8646 - val_loss: 0.1662 - val_accuracy: 0.9167\n",
            "Epoch 10/20\n",
            "5/5 [==============================] - 0s 8ms/step - loss: 0.2775 - accuracy: 0.8750 - val_loss: 0.1499 - val_accuracy: 0.9167\n",
            "Epoch 11/20\n",
            "5/5 [==============================] - 0s 8ms/step - loss: 0.2574 - accuracy: 0.8750 - val_loss: 0.1356 - val_accuracy: 0.9167\n",
            "Epoch 12/20\n",
            "5/5 [==============================] - 0s 8ms/step - loss: 0.2392 - accuracy: 0.8750 - val_loss: 0.1224 - val_accuracy: 0.9583\n",
            "Epoch 13/20\n",
            "5/5 [==============================] - 0s 9ms/step - loss: 0.2210 - accuracy: 0.8958 - val_loss: 0.1095 - val_accuracy: 0.9583\n",
            "Epoch 14/20\n",
            "5/5 [==============================] - 0s 8ms/step - loss: 0.2041 - accuracy: 0.9271 - val_loss: 0.0965 - val_accuracy: 1.0000\n",
            "Epoch 15/20\n",
            "5/5 [==============================] - 0s 8ms/step - loss: 0.1877 - accuracy: 0.9583 - val_loss: 0.0852 - val_accuracy: 1.0000\n",
            "Epoch 16/20\n",
            "5/5 [==============================] - 0s 8ms/step - loss: 0.1730 - accuracy: 0.9583 - val_loss: 0.0757 - val_accuracy: 1.0000\n",
            "Epoch 17/20\n",
            "5/5 [==============================] - 0s 9ms/step - loss: 0.1573 - accuracy: 0.9583 - val_loss: 0.0668 - val_accuracy: 1.0000\n",
            "Epoch 18/20\n",
            "5/5 [==============================] - 0s 8ms/step - loss: 0.1453 - accuracy: 0.9688 - val_loss: 0.0566 - val_accuracy: 1.0000\n",
            "Epoch 19/20\n",
            "5/5 [==============================] - 0s 8ms/step - loss: 0.1317 - accuracy: 0.9896 - val_loss: 0.0511 - val_accuracy: 1.0000\n",
            "Epoch 20/20\n",
            "5/5 [==============================] - 0s 8ms/step - loss: 0.1204 - accuracy: 0.9792 - val_loss: 0.0444 - val_accuracy: 1.0000\n"
          ]
        }
      ]
    },
    {
      "cell_type": "code",
      "source": [
        "plt.plot(history.history['accuracy'])\n",
        "plt.plot(history.history['val_accuracy'])\n",
        "plt.title('Accuracy improvements with Epochs')\n",
        "plt.show()"
      ],
      "metadata": {
        "colab": {
          "base_uri": "https://localhost:8080/",
          "height": 281
        },
        "id": "Sbg1b4Q01lT_",
        "outputId": "de6d6b77-dd56-4005-b14a-5df50130d0c3"
      },
      "execution_count": 62,
      "outputs": [
        {
          "output_type": "display_data",
          "data": {
            "text/plain": [
              "<Figure size 432x288 with 1 Axes>"
            ],
            "image/png": "[encoded data removed]"
          },
          "metadata": {
            "needs_background": "light"
          }
        }
      ]
    },
    {
      "cell_type": "code",
      "source": [
        "plt.plot(history.history['loss'])\n",
        "plt.plot(history.history['val_loss'])\n",
        "plt.title('Loss graph with Epochs')\n",
        "plt.show()"
      ],
      "metadata": {
        "colab": {
          "base_uri": "https://localhost:8080/",
          "height": 281
        },
        "id": "WmtI0-c_8_of",
        "outputId": "adbab3c1-e618-4d84-e0a6-62a69f18e51e"
      },
      "execution_count": 63,
      "outputs": [
        {
          "output_type": "display_data",
          "data": {
            "text/plain": [
              "<Figure size 432x288 with 1 Axes>"
            ],
            "image/png": "[encoded data removed]"
          },
          "metadata": {
            "needs_background": "light"
          }
        }
      ]
    },
    {
      "cell_type": "code",
      "source": [
        "# Saving the model\n",
        "\n",
        "model.save(\"iris_save\")\n",
        "\n",
        "loaded_model = tf.keras.models.load_model(\"iris_save\")\n",
        "\n",
        "loaded_model.summary()"
      ],
      "metadata": {
        "colab": {
          "base_uri": "https://localhost:8080/"
        },
        "id": "SHsBf6i--WGN",
        "outputId": "ca5c4d32-15a8-4489-f4d4-b7b3092171c4"
      },
      "execution_count": 65,
      "outputs": [
        {
          "output_type": "stream",
          "name": "stderr",
          "text": [
            "WARNING:absl:Function `_wrapped_model` contains input name(s) Hidden-Layer-1_input with unsupported characters which will be renamed to hidden_layer_1_input in the SavedModel.\n"
          ]
        },
        {
          "output_type": "stream",
          "name": "stdout",
          "text": [
            "Model: \"sequential_2\"\n",
            "_________________________________________________________________\n",
            " Layer (type)                Output Shape              Param #   \n",
            "=================================================================\n",
            " Hidden-Layer-1 (Dense)      (None, 128)               640       \n",
            "                                                                 \n",
            " Hidden-Layer-2 (Dense)      (None, 128)               16512     \n",
            "                                                                 \n",
            " Output-Layer (Dense)        (None, 3)                 387       \n",
            "                                                                 \n",
            "=================================================================\n",
            "Total params: 17,539\n",
            "Trainable params: 17,539\n",
            "Non-trainable params: 0\n",
            "_________________________________________________________________\n"
          ]
        }
      ]
    },
    {
      "cell_type": "code",
      "source": [
        "# Prediction\n",
        "\n",
        "pred_input = [[6.6, 3., 4.4, 1.4]]\n",
        "\n",
        "scaled_input = scaler.transform(pred_input)\n",
        "\n",
        "pred = loaded_model.predict(scaled_input)\n",
        "\n",
        "print(pred)"
      ],
      "metadata": {
        "colab": {
          "base_uri": "https://localhost:8080/"
        },
        "id": "xCcikk7-_Uz-",
        "outputId": "4d00dde0-e134-4af0-ebed-fb405177c8b7"
      },
      "execution_count": 66,
      "outputs": [
        {
          "output_type": "stream",
          "name": "stdout",
          "text": [
            "1/1 [==============================] - 0s 78ms/step\n",
            "[[0.01482124 0.7896015  0.19557722]]\n"
          ]
        }
      ]
    },
    {
      "cell_type": "code",
      "source": [],
      "metadata": {
        "id": "vWOA_zCyCaZo"
      },
      "execution_count": null,
      "outputs": []
    }
  ]
}